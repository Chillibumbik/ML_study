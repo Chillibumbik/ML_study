{
 "cells": [
  {
   "cell_type": "markdown",
   "id": "607b08f3-381e-4bbd-bd79-c863bb260e81",
   "metadata": {},
   "source": [
    "# EDA\n",
    "\n",
    "за основу взял [1 занятие клуба ии в мифи](https://colab.research.google.com/drive/1V__EuSANRpZLZd5dW2H9Pgvxhllfud1x)"
   ]
  },
  {
   "cell_type": "markdown",
   "id": "4417a7cc-f0ec-4a17-8489-f9cb1f9ba6c2",
   "metadata": {},
   "source": [
    "### Загрузим файлы, с которыми будем работать"
   ]
  },
  {
   "cell_type": "code",
   "execution_count": 293,
   "id": "ca7410be-77b3-4413-a75c-3f9738cb35f4",
   "metadata": {},
   "outputs": [],
   "source": [
    "import pandas as pd\n",
    "train = pd.read_csv(\"train.csv\")\n",
    "commit = pd.read_csv(\"test.csv\")"
   ]
  },
  {
   "cell_type": "markdown",
   "id": "60c8f21c-c4e3-4d51-9bb9-f428c6730bf7",
   "metadata": {},
   "source": [
    "### Выделим категориальные признаки, численные и целевой признак"
   ]
  },
  {
   "cell_type": "code",
   "execution_count": 294,
   "id": "13378687-aa67-491a-b807-05f11c1f9b9e",
   "metadata": {},
   "outputs": [],
   "source": [
    "num_cols = [\n",
    "    \"ClientPeriod\",\n",
    "    \"MonthlySpending\",\n",
    "    \"TotalSpent\",\n",
    "]\n",
    "\n",
    "cat_cols = [\n",
    "    \"Sex\",\n",
    "    \"IsSeniorCitizen\",\n",
    "    \"HasPartner\",\n",
    "    \"HasChild\",\n",
    "    \"HasPhoneService\",\n",
    "    \"HasMultiplePhoneNumbers\",\n",
    "    \"HasInternetService\",\n",
    "    \"HasOnlineSecurityService\",\n",
    "    \"HasOnlineBackup\",\n",
    "    \"HasDeviceProtection\",\n",
    "    \"HasTechSupportAccess\",\n",
    "    \"HasOnlineTV\",\n",
    "    \"HasMovieSubscription\",\n",
    "    \"HasContractPhone\",\n",
    "    \"IsBillingPaperless\",\n",
    "    \"PaymentMethod\",\n",
    "]\n",
    "\n",
    "churn = \"Churn\""
   ]
  },
  {
   "cell_type": "markdown",
   "id": "0bf32f03-c671-42cb-8567-45282a333713",
   "metadata": {},
   "source": [
    "### Проанализируем данные на пустые и некорректные значения"
   ]
  },
  {
   "cell_type": "code",
   "execution_count": 295,
   "id": "b2a69010-ea74-44de-ad90-3a9bd29a7ec9",
   "metadata": {},
   "outputs": [
    {
     "name": "stdout",
     "output_type": "stream",
     "text": [
      "<class 'pandas.core.frame.DataFrame'>\n",
      "RangeIndex: 5282 entries, 0 to 5281\n",
      "Data columns (total 20 columns):\n",
      " #   Column                    Non-Null Count  Dtype  \n",
      "---  ------                    --------------  -----  \n",
      " 0   ClientPeriod              5282 non-null   int64  \n",
      " 1   MonthlySpending           5282 non-null   float64\n",
      " 2   TotalSpent                5282 non-null   object \n",
      " 3   Sex                       5282 non-null   object \n",
      " 4   IsSeniorCitizen           5282 non-null   int64  \n",
      " 5   HasPartner                5282 non-null   object \n",
      " 6   HasChild                  5282 non-null   object \n",
      " 7   HasPhoneService           5282 non-null   object \n",
      " 8   HasMultiplePhoneNumbers   5282 non-null   object \n",
      " 9   HasInternetService        5282 non-null   object \n",
      " 10  HasOnlineSecurityService  5282 non-null   object \n",
      " 11  HasOnlineBackup           5282 non-null   object \n",
      " 12  HasDeviceProtection       5282 non-null   object \n",
      " 13  HasTechSupportAccess      5282 non-null   object \n",
      " 14  HasOnlineTV               5282 non-null   object \n",
      " 15  HasMovieSubscription      5282 non-null   object \n",
      " 16  HasContractPhone          5282 non-null   object \n",
      " 17  IsBillingPaperless        5282 non-null   object \n",
      " 18  PaymentMethod             5282 non-null   object \n",
      " 19  Churn                     5282 non-null   int64  \n",
      "dtypes: float64(1), int64(3), object(16)\n",
      "memory usage: 825.4+ KB\n"
     ]
    }
   ],
   "source": [
    "train.info()"
   ]
  },
  {
   "cell_type": "code",
   "execution_count": 296,
   "id": "6ac0f5a8-1c9d-4912-8041-b6c8661033e1",
   "metadata": {},
   "outputs": [
    {
     "name": "stdout",
     "output_type": "stream",
     "text": [
      "<class 'pandas.core.frame.DataFrame'>\n",
      "RangeIndex: 1761 entries, 0 to 1760\n",
      "Data columns (total 19 columns):\n",
      " #   Column                    Non-Null Count  Dtype  \n",
      "---  ------                    --------------  -----  \n",
      " 0   ClientPeriod              1761 non-null   int64  \n",
      " 1   MonthlySpending           1761 non-null   float64\n",
      " 2   TotalSpent                1761 non-null   object \n",
      " 3   Sex                       1761 non-null   object \n",
      " 4   IsSeniorCitizen           1761 non-null   int64  \n",
      " 5   HasPartner                1761 non-null   object \n",
      " 6   HasChild                  1761 non-null   object \n",
      " 7   HasPhoneService           1761 non-null   object \n",
      " 8   HasMultiplePhoneNumbers   1761 non-null   object \n",
      " 9   HasInternetService        1761 non-null   object \n",
      " 10  HasOnlineSecurityService  1761 non-null   object \n",
      " 11  HasOnlineBackup           1761 non-null   object \n",
      " 12  HasDeviceProtection       1761 non-null   object \n",
      " 13  HasTechSupportAccess      1761 non-null   object \n",
      " 14  HasOnlineTV               1761 non-null   object \n",
      " 15  HasMovieSubscription      1761 non-null   object \n",
      " 16  HasContractPhone          1761 non-null   object \n",
      " 17  IsBillingPaperless        1761 non-null   object \n",
      " 18  PaymentMethod             1761 non-null   object \n",
      "dtypes: float64(1), int64(2), object(16)\n",
      "memory usage: 261.5+ KB\n"
     ]
    }
   ],
   "source": [
    "commit.info()"
   ]
  },
  {
   "cell_type": "markdown",
   "id": "eee1bb14-054e-4150-9ff0-1a6bc63c5f3a",
   "metadata": {},
   "source": [
    "Заметим, что TotalSpent представлен как object, а IsSeniorCitizen как int. Сделаем замену типов"
   ]
  },
  {
   "cell_type": "markdown",
   "id": "fa7a10e7-0f11-4daa-9d34-fe73764f50bc",
   "metadata": {},
   "source": [
    "Заменим все \" \" на пустые значения"
   ]
  },
  {
   "cell_type": "code",
   "execution_count": 297,
   "id": "4651f5c4-8ff5-48a5-ae24-c027ec6b6c3f",
   "metadata": {},
   "outputs": [],
   "source": [
    "import numpy as np\n",
    "\n",
    "train.replace(' ', np.nan, inplace=True)\n",
    "commit.replace(' ', np.nan, inplace=True)"
   ]
  },
  {
   "cell_type": "code",
   "execution_count": 298,
   "id": "fb7d2940-9411-4852-833a-a0a37e980f18",
   "metadata": {},
   "outputs": [
    {
     "data": {
      "text/plain": [
       "<Axes: >"
      ]
     },
     "execution_count": 298,
     "metadata": {},
     "output_type": "execute_result"
    },
    {
     "data": {
      "image/png": "[encoded data removed]",
      "text/plain": [
       "<Figure size 1500x700 with 2 Axes>"
      ]
     },
     "metadata": {},
     "output_type": "display_data"
    }
   ],
   "source": [
    "%matplotlib inline\n",
    "import matplotlib.pyplot as plt\n",
    "import seaborn as sns\n",
    "\n",
    "# График распределения пропущенных значений\n",
    "plt.figure(figsize=(15,7))\n",
    "\n",
    "cmap = sns.cubehelix_palette(as_cmap=True, light=.9)\n",
    "\n",
    "sns.heatmap(train.isna().transpose(), cmap=cmap,\n",
    "            cbar_kws={'label': 'Missing Data'})"
   ]
  },
  {
   "cell_type": "code",
   "execution_count": 299,
   "id": "2c811e11-3e73-46b5-a0cc-0c01f066bad3",
   "metadata": {},
   "outputs": [
    {
     "name": "stdout",
     "output_type": "stream",
     "text": [
      "ClientPeriod                0\n",
      "MonthlySpending             0\n",
      "TotalSpent                  9\n",
      "Sex                         0\n",
      "IsSeniorCitizen             0\n",
      "HasPartner                  0\n",
      "HasChild                    0\n",
      "HasPhoneService             0\n",
      "HasMultiplePhoneNumbers     0\n",
      "HasInternetService          0\n",
      "HasOnlineSecurityService    0\n",
      "HasOnlineBackup             0\n",
      "HasDeviceProtection         0\n",
      "HasTechSupportAccess        0\n",
      "HasOnlineTV                 0\n",
      "HasMovieSubscription        0\n",
      "HasContractPhone            0\n",
      "IsBillingPaperless          0\n",
      "PaymentMethod               0\n",
      "Churn                       0\n",
      "dtype: int64\n",
      "ClientPeriod                0\n",
      "MonthlySpending             0\n",
      "TotalSpent                  2\n",
      "Sex                         0\n",
      "IsSeniorCitizen             0\n",
      "HasPartner                  0\n",
      "HasChild                    0\n",
      "HasPhoneService             0\n",
      "HasMultiplePhoneNumbers     0\n",
      "HasInternetService          0\n",
      "HasOnlineSecurityService    0\n",
      "HasOnlineBackup             0\n",
      "HasDeviceProtection         0\n",
      "HasTechSupportAccess        0\n",
      "HasOnlineTV                 0\n",
      "HasMovieSubscription        0\n",
      "HasContractPhone            0\n",
      "IsBillingPaperless          0\n",
      "PaymentMethod               0\n",
      "dtype: int64\n"
     ]
    }
   ],
   "source": [
    "print(train.isna().sum())\n",
    "print(commit.isna().sum())"
   ]
  },
  {
   "cell_type": "markdown",
   "id": "4e2ac47b-1db1-47b3-a605-5847fb51bdd5",
   "metadata": {},
   "source": [
    "\n",
    "Как мы видим, пустые значения появились в totalspent. Заменим их на нули"
   ]
  },
  {
   "cell_type": "code",
   "execution_count": 300,
   "id": "318120a5-dfff-458c-82ca-0c273ee22d25",
   "metadata": {},
   "outputs": [],
   "source": [
    "train[\"TotalSpent\"] = train[\"TotalSpent\"].replace(np.nan, 0).astype('float')\n",
    "commit[\"TotalSpent\"] = commit[\"TotalSpent\"].replace(np.nan, 0).astype('float')"
   ]
  },
  {
   "cell_type": "code",
   "execution_count": 301,
   "id": "001dea10-2610-41d8-9e7c-d812781704da",
   "metadata": {},
   "outputs": [
    {
     "name": "stdout",
     "output_type": "stream",
     "text": [
      "<class 'pandas.core.frame.DataFrame'>\n",
      "RangeIndex: 5282 entries, 0 to 5281\n",
      "Data columns (total 20 columns):\n",
      " #   Column                    Non-Null Count  Dtype  \n",
      "---  ------                    --------------  -----  \n",
      " 0   ClientPeriod              5282 non-null   int64  \n",
      " 1   MonthlySpending           5282 non-null   float64\n",
      " 2   TotalSpent                5282 non-null   float64\n",
      " 3   Sex                       5282 non-null   object \n",
      " 4   IsSeniorCitizen           5282 non-null   int64  \n",
      " 5   HasPartner                5282 non-null   object \n",
      " 6   HasChild                  5282 non-null   object \n",
      " 7   HasPhoneService           5282 non-null   object \n",
      " 8   HasMultiplePhoneNumbers   5282 non-null   object \n",
      " 9   HasInternetService        5282 non-null   object \n",
      " 10  HasOnlineSecurityService  5282 non-null   object \n",
      " 11  HasOnlineBackup           5282 non-null   object \n",
      " 12  HasDeviceProtection       5282 non-null   object \n",
      " 13  HasTechSupportAccess      5282 non-null   object \n",
      " 14  HasOnlineTV               5282 non-null   object \n",
      " 15  HasMovieSubscription      5282 non-null   object \n",
      " 16  HasContractPhone          5282 non-null   object \n",
      " 17  IsBillingPaperless        5282 non-null   object \n",
      " 18  PaymentMethod             5282 non-null   object \n",
      " 19  Churn                     5282 non-null   int64  \n",
      "dtypes: float64(2), int64(3), object(15)\n",
      "memory usage: 825.4+ KB\n",
      "None\n",
      "<class 'pandas.core.frame.DataFrame'>\n",
      "RangeIndex: 1761 entries, 0 to 1760\n",
      "Data columns (total 19 columns):\n",
      " #   Column                    Non-Null Count  Dtype  \n",
      "---  ------                    --------------  -----  \n",
      " 0   ClientPeriod              1761 non-null   int64  \n",
      " 1   MonthlySpending           1761 non-null   float64\n",
      " 2   TotalSpent                1761 non-null   float64\n",
      " 3   Sex                       1761 non-null   object \n",
      " 4   IsSeniorCitizen           1761 non-null   int64  \n",
      " 5   HasPartner                1761 non-null   object \n",
      " 6   HasChild                  1761 non-null   object \n",
      " 7   HasPhoneService           1761 non-null   object \n",
      " 8   HasMultiplePhoneNumbers   1761 non-null   object \n",
      " 9   HasInternetService        1761 non-null   object \n",
      " 10  HasOnlineSecurityService  1761 non-null   object \n",
      " 11  HasOnlineBackup           1761 non-null   object \n",
      " 12  HasDeviceProtection       1761 non-null   object \n",
      " 13  HasTechSupportAccess      1761 non-null   object \n",
      " 14  HasOnlineTV               1761 non-null   object \n",
      " 15  HasMovieSubscription      1761 non-null   object \n",
      " 16  HasContractPhone          1761 non-null   object \n",
      " 17  IsBillingPaperless        1761 non-null   object \n",
      " 18  PaymentMethod             1761 non-null   object \n",
      "dtypes: float64(2), int64(2), object(15)\n",
      "memory usage: 261.5+ KB\n",
      "None\n"
     ]
    }
   ],
   "source": [
    "print(train.info())\n",
    "print(commit.info())"
   ]
  },
  {
   "cell_type": "markdown",
   "id": "8143c959-7a1a-49e3-8070-8f5ddcdfa946",
   "metadata": {},
   "source": [
    "Заменим для IsSeniorCitizen 0 на No, 1 на Yes"
   ]
  },
  {
   "cell_type": "code",
   "execution_count": 302,
   "id": "05c8e17f-ab00-46dd-a9d7-8c60e3a543f3",
   "metadata": {
    "scrolled": true
   },
   "outputs": [
    {
     "name": "stdout",
     "output_type": "stream",
     "text": [
      "{'No', 'Yes'}\n",
      "{'No', 'Yes'}\n"
     ]
    }
   ],
   "source": [
    "train.IsSeniorCitizen = train.IsSeniorCitizen.map(lambda x: \"Yes\" if x == 1 else \"No\")\n",
    "commit.IsSeniorCitizen = commit.IsSeniorCitizen.map(lambda x: \"Yes\" if x == 1 else \"No\")\n",
    "print(set(train.IsSeniorCitizen.to_list()))\n",
    "print(set(commit.IsSeniorCitizen.to_list()))"
   ]
  },
  {
   "cell_type": "markdown",
   "id": "9070d0e3-fe59-401a-8fa1-1f6a482b19f2",
   "metadata": {},
   "source": [
    "### Проверим данные на наличие дубликатов"
   ]
  },
  {
   "cell_type": "code",
   "execution_count": 303,
   "id": "7911e26b-0666-4237-8fb5-398f2a0d641e",
   "metadata": {},
   "outputs": [
    {
     "data": {
      "text/plain": [
       "14"
      ]
     },
     "execution_count": 303,
     "metadata": {},
     "output_type": "execute_result"
    }
   ],
   "source": [
    "train.duplicated().sum()"
   ]
  },
  {
   "cell_type": "markdown",
   "id": "0f0ff538-2c2f-4984-8273-e7d0af738f08",
   "metadata": {},
   "source": [
    "Получили 26 дублирующих строк. нужно их удалить"
   ]
  },
  {
   "cell_type": "code",
   "execution_count": 304,
   "id": "81335edf-8b9a-4fe1-960f-549fd5a19b3d",
   "metadata": {},
   "outputs": [],
   "source": [
    "train.drop_duplicates(inplace=True)"
   ]
  },
  {
   "cell_type": "markdown",
   "id": "c24d3bc3-9f6f-4075-b835-b47a211e709f",
   "metadata": {},
   "source": [
    "Теперь посмотрим, будут ли дубликаты, если отбросить целевой признак"
   ]
  },
  {
   "cell_type": "code",
   "execution_count": 305,
   "id": "ff2e4c80-7e74-43aa-ba52-44a49f1a71bf",
   "metadata": {},
   "outputs": [
    {
     "data": {
      "text/plain": [
       "8"
      ]
     },
     "execution_count": 305,
     "metadata": {},
     "output_type": "execute_result"
    }
   ],
   "source": [
    "train.drop('Churn', axis=1).duplicated().sum()"
   ]
  },
  {
   "cell_type": "code",
   "execution_count": 306,
   "id": "60329b01-d406-4094-8309-db85155d0815",
   "metadata": {},
   "outputs": [
    {
     "data": {
      "text/html": [
       "<div>\n",
       "<style scoped>\n",
       "    .dataframe tbody tr th:only-of-type {\n",
       "        vertical-align: middle;\n",
       "    }\n",
       "\n",
       "    .dataframe tbody tr th {\n",
       "        vertical-align: top;\n",
       "    }\n",
       "\n",
       "    .dataframe thead th {\n",
       "        text-align: right;\n",
       "    }\n",
       "</style>\n",
       "<table border=\"1\" class=\"dataframe\">\n",
       "  <thead>\n",
       "    <tr style=\"text-align: right;\">\n",
       "      <th></th>\n",
       "      <th>ClientPeriod</th>\n",
       "      <th>MonthlySpending</th>\n",
       "      <th>TotalSpent</th>\n",
       "      <th>Sex</th>\n",
       "      <th>IsSeniorCitizen</th>\n",
       "      <th>HasPartner</th>\n",
       "      <th>HasChild</th>\n",
       "      <th>HasPhoneService</th>\n",
       "      <th>HasMultiplePhoneNumbers</th>\n",
       "      <th>HasInternetService</th>\n",
       "      <th>HasOnlineSecurityService</th>\n",
       "      <th>HasOnlineBackup</th>\n",
       "      <th>HasDeviceProtection</th>\n",
       "      <th>HasTechSupportAccess</th>\n",
       "      <th>HasOnlineTV</th>\n",
       "      <th>HasMovieSubscription</th>\n",
       "      <th>HasContractPhone</th>\n",
       "      <th>IsBillingPaperless</th>\n",
       "      <th>PaymentMethod</th>\n",
       "      <th>Churn</th>\n",
       "    </tr>\n",
       "  </thead>\n",
       "  <tbody>\n",
       "    <tr>\n",
       "      <th>838</th>\n",
       "      <td>1</td>\n",
       "      <td>19.65</td>\n",
       "      <td>19.65</td>\n",
       "      <td>Female</td>\n",
       "      <td>No</td>\n",
       "      <td>No</td>\n",
       "      <td>No</td>\n",
       "      <td>Yes</td>\n",
       "      <td>No</td>\n",
       "      <td>No</td>\n",
       "      <td>No internet service</td>\n",
       "      <td>No internet service</td>\n",
       "      <td>No internet service</td>\n",
       "      <td>No internet service</td>\n",
       "      <td>No internet service</td>\n",
       "      <td>No internet service</td>\n",
       "      <td>Month-to-month</td>\n",
       "      <td>No</td>\n",
       "      <td>Mailed check</td>\n",
       "      <td>0</td>\n",
       "    </tr>\n",
       "    <tr>\n",
       "      <th>4811</th>\n",
       "      <td>1</td>\n",
       "      <td>19.65</td>\n",
       "      <td>19.65</td>\n",
       "      <td>Female</td>\n",
       "      <td>No</td>\n",
       "      <td>No</td>\n",
       "      <td>No</td>\n",
       "      <td>Yes</td>\n",
       "      <td>No</td>\n",
       "      <td>No</td>\n",
       "      <td>No internet service</td>\n",
       "      <td>No internet service</td>\n",
       "      <td>No internet service</td>\n",
       "      <td>No internet service</td>\n",
       "      <td>No internet service</td>\n",
       "      <td>No internet service</td>\n",
       "      <td>Month-to-month</td>\n",
       "      <td>No</td>\n",
       "      <td>Mailed check</td>\n",
       "      <td>1</td>\n",
       "    </tr>\n",
       "    <tr>\n",
       "      <th>3463</th>\n",
       "      <td>1</td>\n",
       "      <td>19.75</td>\n",
       "      <td>19.75</td>\n",
       "      <td>Male</td>\n",
       "      <td>No</td>\n",
       "      <td>No</td>\n",
       "      <td>No</td>\n",
       "      <td>Yes</td>\n",
       "      <td>No</td>\n",
       "      <td>No</td>\n",
       "      <td>No internet service</td>\n",
       "      <td>No internet service</td>\n",
       "      <td>No internet service</td>\n",
       "      <td>No internet service</td>\n",
       "      <td>No internet service</td>\n",
       "      <td>No internet service</td>\n",
       "      <td>Month-to-month</td>\n",
       "      <td>No</td>\n",
       "      <td>Mailed check</td>\n",
       "      <td>0</td>\n",
       "    </tr>\n",
       "    <tr>\n",
       "      <th>4294</th>\n",
       "      <td>1</td>\n",
       "      <td>19.75</td>\n",
       "      <td>19.75</td>\n",
       "      <td>Male</td>\n",
       "      <td>No</td>\n",
       "      <td>No</td>\n",
       "      <td>No</td>\n",
       "      <td>Yes</td>\n",
       "      <td>No</td>\n",
       "      <td>No</td>\n",
       "      <td>No internet service</td>\n",
       "      <td>No internet service</td>\n",
       "      <td>No internet service</td>\n",
       "      <td>No internet service</td>\n",
       "      <td>No internet service</td>\n",
       "      <td>No internet service</td>\n",
       "      <td>Month-to-month</td>\n",
       "      <td>No</td>\n",
       "      <td>Mailed check</td>\n",
       "      <td>1</td>\n",
       "    </tr>\n",
       "    <tr>\n",
       "      <th>3831</th>\n",
       "      <td>1</td>\n",
       "      <td>20.00</td>\n",
       "      <td>20.00</td>\n",
       "      <td>Male</td>\n",
       "      <td>No</td>\n",
       "      <td>No</td>\n",
       "      <td>No</td>\n",
       "      <td>Yes</td>\n",
       "      <td>No</td>\n",
       "      <td>No</td>\n",
       "      <td>No internet service</td>\n",
       "      <td>No internet service</td>\n",
       "      <td>No internet service</td>\n",
       "      <td>No internet service</td>\n",
       "      <td>No internet service</td>\n",
       "      <td>No internet service</td>\n",
       "      <td>Month-to-month</td>\n",
       "      <td>No</td>\n",
       "      <td>Mailed check</td>\n",
       "      <td>0</td>\n",
       "    </tr>\n",
       "    <tr>\n",
       "      <th>1647</th>\n",
       "      <td>1</td>\n",
       "      <td>20.00</td>\n",
       "      <td>20.00</td>\n",
       "      <td>Male</td>\n",
       "      <td>No</td>\n",
       "      <td>No</td>\n",
       "      <td>No</td>\n",
       "      <td>Yes</td>\n",
       "      <td>No</td>\n",
       "      <td>No</td>\n",
       "      <td>No internet service</td>\n",
       "      <td>No internet service</td>\n",
       "      <td>No internet service</td>\n",
       "      <td>No internet service</td>\n",
       "      <td>No internet service</td>\n",
       "      <td>No internet service</td>\n",
       "      <td>Month-to-month</td>\n",
       "      <td>No</td>\n",
       "      <td>Mailed check</td>\n",
       "      <td>1</td>\n",
       "    </tr>\n",
       "    <tr>\n",
       "      <th>3735</th>\n",
       "      <td>1</td>\n",
       "      <td>20.20</td>\n",
       "      <td>20.20</td>\n",
       "      <td>Male</td>\n",
       "      <td>No</td>\n",
       "      <td>No</td>\n",
       "      <td>No</td>\n",
       "      <td>Yes</td>\n",
       "      <td>No</td>\n",
       "      <td>No</td>\n",
       "      <td>No internet service</td>\n",
       "      <td>No internet service</td>\n",
       "      <td>No internet service</td>\n",
       "      <td>No internet service</td>\n",
       "      <td>No internet service</td>\n",
       "      <td>No internet service</td>\n",
       "      <td>Month-to-month</td>\n",
       "      <td>No</td>\n",
       "      <td>Mailed check</td>\n",
       "      <td>0</td>\n",
       "    </tr>\n",
       "    <tr>\n",
       "      <th>3769</th>\n",
       "      <td>1</td>\n",
       "      <td>20.20</td>\n",
       "      <td>20.20</td>\n",
       "      <td>Male</td>\n",
       "      <td>No</td>\n",
       "      <td>No</td>\n",
       "      <td>No</td>\n",
       "      <td>Yes</td>\n",
       "      <td>No</td>\n",
       "      <td>No</td>\n",
       "      <td>No internet service</td>\n",
       "      <td>No internet service</td>\n",
       "      <td>No internet service</td>\n",
       "      <td>No internet service</td>\n",
       "      <td>No internet service</td>\n",
       "      <td>No internet service</td>\n",
       "      <td>Month-to-month</td>\n",
       "      <td>No</td>\n",
       "      <td>Mailed check</td>\n",
       "      <td>1</td>\n",
       "    </tr>\n",
       "    <tr>\n",
       "      <th>881</th>\n",
       "      <td>1</td>\n",
       "      <td>20.40</td>\n",
       "      <td>20.40</td>\n",
       "      <td>Female</td>\n",
       "      <td>No</td>\n",
       "      <td>No</td>\n",
       "      <td>No</td>\n",
       "      <td>Yes</td>\n",
       "      <td>No</td>\n",
       "      <td>No</td>\n",
       "      <td>No internet service</td>\n",
       "      <td>No internet service</td>\n",
       "      <td>No internet service</td>\n",
       "      <td>No internet service</td>\n",
       "      <td>No internet service</td>\n",
       "      <td>No internet service</td>\n",
       "      <td>Month-to-month</td>\n",
       "      <td>No</td>\n",
       "      <td>Mailed check</td>\n",
       "      <td>0</td>\n",
       "    </tr>\n",
       "    <tr>\n",
       "      <th>1874</th>\n",
       "      <td>1</td>\n",
       "      <td>20.40</td>\n",
       "      <td>20.40</td>\n",
       "      <td>Female</td>\n",
       "      <td>No</td>\n",
       "      <td>No</td>\n",
       "      <td>No</td>\n",
       "      <td>Yes</td>\n",
       "      <td>No</td>\n",
       "      <td>No</td>\n",
       "      <td>No internet service</td>\n",
       "      <td>No internet service</td>\n",
       "      <td>No internet service</td>\n",
       "      <td>No internet service</td>\n",
       "      <td>No internet service</td>\n",
       "      <td>No internet service</td>\n",
       "      <td>Month-to-month</td>\n",
       "      <td>No</td>\n",
       "      <td>Mailed check</td>\n",
       "      <td>1</td>\n",
       "    </tr>\n",
       "    <tr>\n",
       "      <th>3239</th>\n",
       "      <td>1</td>\n",
       "      <td>20.50</td>\n",
       "      <td>20.50</td>\n",
       "      <td>Female</td>\n",
       "      <td>No</td>\n",
       "      <td>No</td>\n",
       "      <td>No</td>\n",
       "      <td>Yes</td>\n",
       "      <td>No</td>\n",
       "      <td>No</td>\n",
       "      <td>No internet service</td>\n",
       "      <td>No internet service</td>\n",
       "      <td>No internet service</td>\n",
       "      <td>No internet service</td>\n",
       "      <td>No internet service</td>\n",
       "      <td>No internet service</td>\n",
       "      <td>Month-to-month</td>\n",
       "      <td>No</td>\n",
       "      <td>Mailed check</td>\n",
       "      <td>0</td>\n",
       "    </tr>\n",
       "    <tr>\n",
       "      <th>1677</th>\n",
       "      <td>1</td>\n",
       "      <td>20.50</td>\n",
       "      <td>20.50</td>\n",
       "      <td>Female</td>\n",
       "      <td>No</td>\n",
       "      <td>No</td>\n",
       "      <td>No</td>\n",
       "      <td>Yes</td>\n",
       "      <td>No</td>\n",
       "      <td>No</td>\n",
       "      <td>No internet service</td>\n",
       "      <td>No internet service</td>\n",
       "      <td>No internet service</td>\n",
       "      <td>No internet service</td>\n",
       "      <td>No internet service</td>\n",
       "      <td>No internet service</td>\n",
       "      <td>Month-to-month</td>\n",
       "      <td>No</td>\n",
       "      <td>Mailed check</td>\n",
       "      <td>1</td>\n",
       "    </tr>\n",
       "    <tr>\n",
       "      <th>4735</th>\n",
       "      <td>1</td>\n",
       "      <td>20.90</td>\n",
       "      <td>20.90</td>\n",
       "      <td>Female</td>\n",
       "      <td>No</td>\n",
       "      <td>No</td>\n",
       "      <td>No</td>\n",
       "      <td>Yes</td>\n",
       "      <td>No</td>\n",
       "      <td>No</td>\n",
       "      <td>No internet service</td>\n",
       "      <td>No internet service</td>\n",
       "      <td>No internet service</td>\n",
       "      <td>No internet service</td>\n",
       "      <td>No internet service</td>\n",
       "      <td>No internet service</td>\n",
       "      <td>Month-to-month</td>\n",
       "      <td>No</td>\n",
       "      <td>Mailed check</td>\n",
       "      <td>0</td>\n",
       "    </tr>\n",
       "    <tr>\n",
       "      <th>2024</th>\n",
       "      <td>1</td>\n",
       "      <td>20.90</td>\n",
       "      <td>20.90</td>\n",
       "      <td>Female</td>\n",
       "      <td>No</td>\n",
       "      <td>No</td>\n",
       "      <td>No</td>\n",
       "      <td>Yes</td>\n",
       "      <td>No</td>\n",
       "      <td>No</td>\n",
       "      <td>No internet service</td>\n",
       "      <td>No internet service</td>\n",
       "      <td>No internet service</td>\n",
       "      <td>No internet service</td>\n",
       "      <td>No internet service</td>\n",
       "      <td>No internet service</td>\n",
       "      <td>Month-to-month</td>\n",
       "      <td>No</td>\n",
       "      <td>Mailed check</td>\n",
       "      <td>1</td>\n",
       "    </tr>\n",
       "    <tr>\n",
       "      <th>1040</th>\n",
       "      <td>1</td>\n",
       "      <td>45.40</td>\n",
       "      <td>45.40</td>\n",
       "      <td>Female</td>\n",
       "      <td>No</td>\n",
       "      <td>No</td>\n",
       "      <td>No</td>\n",
       "      <td>Yes</td>\n",
       "      <td>No</td>\n",
       "      <td>DSL</td>\n",
       "      <td>No</td>\n",
       "      <td>No</td>\n",
       "      <td>No</td>\n",
       "      <td>No</td>\n",
       "      <td>No</td>\n",
       "      <td>No</td>\n",
       "      <td>Month-to-month</td>\n",
       "      <td>Yes</td>\n",
       "      <td>Mailed check</td>\n",
       "      <td>0</td>\n",
       "    </tr>\n",
       "    <tr>\n",
       "      <th>5066</th>\n",
       "      <td>1</td>\n",
       "      <td>45.40</td>\n",
       "      <td>45.40</td>\n",
       "      <td>Female</td>\n",
       "      <td>No</td>\n",
       "      <td>No</td>\n",
       "      <td>No</td>\n",
       "      <td>Yes</td>\n",
       "      <td>No</td>\n",
       "      <td>DSL</td>\n",
       "      <td>No</td>\n",
       "      <td>No</td>\n",
       "      <td>No</td>\n",
       "      <td>No</td>\n",
       "      <td>No</td>\n",
       "      <td>No</td>\n",
       "      <td>Month-to-month</td>\n",
       "      <td>Yes</td>\n",
       "      <td>Mailed check</td>\n",
       "      <td>1</td>\n",
       "    </tr>\n",
       "  </tbody>\n",
       "</table>\n",
       "</div>"
      ],
      "text/plain": [
       "      ClientPeriod  MonthlySpending  TotalSpent     Sex IsSeniorCitizen  \\\n",
       "838              1            19.65       19.65  Female              No   \n",
       "4811             1            19.65       19.65  Female              No   \n",
       "3463             1            19.75       19.75    Male              No   \n",
       "4294             1            19.75       19.75    Male              No   \n",
       "3831             1            20.00       20.00    Male              No   \n",
       "1647             1            20.00       20.00    Male              No   \n",
       "3735             1            20.20       20.20    Male              No   \n",
       "3769             1            20.20       20.20    Male              No   \n",
       "881              1            20.40       20.40  Female              No   \n",
       "1874             1            20.40       20.40  Female              No   \n",
       "3239             1            20.50       20.50  Female              No   \n",
       "1677             1            20.50       20.50  Female              No   \n",
       "4735             1            20.90       20.90  Female              No   \n",
       "2024             1            20.90       20.90  Female              No   \n",
       "1040             1            45.40       45.40  Female              No   \n",
       "5066             1            45.40       45.40  Female              No   \n",
       "\n",
       "     HasPartner HasChild HasPhoneService HasMultiplePhoneNumbers  \\\n",
       "838          No       No             Yes                      No   \n",
       "4811         No       No             Yes                      No   \n",
       "3463         No       No             Yes                      No   \n",
       "4294         No       No             Yes                      No   \n",
       "3831         No       No             Yes                      No   \n",
       "1647         No       No             Yes                      No   \n",
       "3735         No       No             Yes                      No   \n",
       "3769         No       No             Yes                      No   \n",
       "881          No       No             Yes                      No   \n",
       "1874         No       No             Yes                      No   \n",
       "3239         No       No             Yes                      No   \n",
       "1677         No       No             Yes                      No   \n",
       "4735         No       No             Yes                      No   \n",
       "2024         No       No             Yes                      No   \n",
       "1040         No       No             Yes                      No   \n",
       "5066         No       No             Yes                      No   \n",
       "\n",
       "     HasInternetService HasOnlineSecurityService      HasOnlineBackup  \\\n",
       "838                  No      No internet service  No internet service   \n",
       "4811                 No      No internet service  No internet service   \n",
       "3463                 No      No internet service  No internet service   \n",
       "4294                 No      No internet service  No internet service   \n",
       "3831                 No      No internet service  No internet service   \n",
       "1647                 No      No internet service  No internet service   \n",
       "3735                 No      No internet service  No internet service   \n",
       "3769                 No      No internet service  No internet service   \n",
       "881                  No      No internet service  No internet service   \n",
       "1874                 No      No internet service  No internet service   \n",
       "3239                 No      No internet service  No internet service   \n",
       "1677                 No      No internet service  No internet service   \n",
       "4735                 No      No internet service  No internet service   \n",
       "2024                 No      No internet service  No internet service   \n",
       "1040                DSL                       No                   No   \n",
       "5066                DSL                       No                   No   \n",
       "\n",
       "      HasDeviceProtection HasTechSupportAccess          HasOnlineTV  \\\n",
       "838   No internet service  No internet service  No internet service   \n",
       "4811  No internet service  No internet service  No internet service   \n",
       "3463  No internet service  No internet service  No internet service   \n",
       "4294  No internet service  No internet service  No internet service   \n",
       "3831  No internet service  No internet service  No internet service   \n",
       "1647  No internet service  No internet service  No internet service   \n",
       "3735  No internet service  No internet service  No internet service   \n",
       "3769  No internet service  No internet service  No internet service   \n",
       "881   No internet service  No internet service  No internet service   \n",
       "1874  No internet service  No internet service  No internet service   \n",
       "3239  No internet service  No internet service  No internet service   \n",
       "1677  No internet service  No internet service  No internet service   \n",
       "4735  No internet service  No internet service  No internet service   \n",
       "2024  No internet service  No internet service  No internet service   \n",
       "1040                   No                   No                   No   \n",
       "5066                   No                   No                   No   \n",
       "\n",
       "     HasMovieSubscription HasContractPhone IsBillingPaperless PaymentMethod  \\\n",
       "838   No internet service   Month-to-month                 No  Mailed check   \n",
       "4811  No internet service   Month-to-month                 No  Mailed check   \n",
       "3463  No internet service   Month-to-month                 No  Mailed check   \n",
       "4294  No internet service   Month-to-month                 No  Mailed check   \n",
       "3831  No internet service   Month-to-month                 No  Mailed check   \n",
       "1647  No internet service   Month-to-month                 No  Mailed check   \n",
       "3735  No internet service   Month-to-month                 No  Mailed check   \n",
       "3769  No internet service   Month-to-month                 No  Mailed check   \n",
       "881   No internet service   Month-to-month                 No  Mailed check   \n",
       "1874  No internet service   Month-to-month                 No  Mailed check   \n",
       "3239  No internet service   Month-to-month                 No  Mailed check   \n",
       "1677  No internet service   Month-to-month                 No  Mailed check   \n",
       "4735  No internet service   Month-to-month                 No  Mailed check   \n",
       "2024  No internet service   Month-to-month                 No  Mailed check   \n",
       "1040                   No   Month-to-month                Yes  Mailed check   \n",
       "5066                   No   Month-to-month                Yes  Mailed check   \n",
       "\n",
       "      Churn  \n",
       "838       0  \n",
       "4811      1  \n",
       "3463      0  \n",
       "4294      1  \n",
       "3831      0  \n",
       "1647      1  \n",
       "3735      0  \n",
       "3769      1  \n",
       "881       0  \n",
       "1874      1  \n",
       "3239      0  \n",
       "1677      1  \n",
       "4735      0  \n",
       "2024      1  \n",
       "1040      0  \n",
       "5066      1  "
      ]
     },
     "execution_count": 306,
     "metadata": {},
     "output_type": "execute_result"
    }
   ],
   "source": [
    "train[train.drop(['Churn'], axis=1).duplicated(keep=False)].sort_values(by=[*train.columns])"
   ]
  },
  {
   "cell_type": "markdown",
   "id": "bfe22f73-8629-48ea-a20c-76a63a4cb2a3",
   "metadata": {},
   "source": [
    "Осталось 8 дубликатов, при этом на одинаковых наборах признаков дающих разные целевые значения. Так как для нас приоритетнее класс \"1\", оставим его"
   ]
  },
  {
   "cell_type": "code",
   "execution_count": 307,
   "id": "8ba811d9-a8a4-49ae-a884-67f495b699b1",
   "metadata": {},
   "outputs": [],
   "source": [
    "train.drop_duplicates(subset=list(train.columns[:-1]), keep='last', inplace=True)"
   ]
  },
  {
   "cell_type": "markdown",
   "id": "a6fc563c-dbd1-46e0-b4b8-a74ee1e34661",
   "metadata": {},
   "source": [
    "### Анализ числовых признаков"
   ]
  },
  {
   "cell_type": "markdown",
   "id": "4773b705-9860-46a2-bab1-45595dd5e9b5",
   "metadata": {},
   "source": [
    "Распределение признаков"
   ]
  },
  {
   "cell_type": "code",
   "execution_count": 308,
   "id": "e90e683d-cab8-49db-bd29-a3ffbef2a2fd",
   "metadata": {},
   "outputs": [
    {
     "data": {
      "text/html": [
       "<div>\n",
       "<style scoped>\n",
       "    .dataframe tbody tr th:only-of-type {\n",
       "        vertical-align: middle;\n",
       "    }\n",
       "\n",
       "    .dataframe tbody tr th {\n",
       "        vertical-align: top;\n",
       "    }\n",
       "\n",
       "    .dataframe thead th {\n",
       "        text-align: right;\n",
       "    }\n",
       "</style>\n",
       "<table border=\"1\" class=\"dataframe\">\n",
       "  <thead>\n",
       "    <tr style=\"text-align: right;\">\n",
       "      <th></th>\n",
       "      <th>ClientPeriod</th>\n",
       "      <th>MonthlySpending</th>\n",
       "      <th>TotalSpent</th>\n",
       "      <th>Churn</th>\n",
       "    </tr>\n",
       "  </thead>\n",
       "  <tbody>\n",
       "    <tr>\n",
       "      <th>count</th>\n",
       "      <td>5260.000000</td>\n",
       "      <td>5260.000000</td>\n",
       "      <td>5260.000000</td>\n",
       "      <td>5260.000000</td>\n",
       "    </tr>\n",
       "    <tr>\n",
       "      <th>mean</th>\n",
       "      <td>32.528327</td>\n",
       "      <td>65.040875</td>\n",
       "      <td>2296.898165</td>\n",
       "      <td>0.260646</td>\n",
       "    </tr>\n",
       "    <tr>\n",
       "      <th>std</th>\n",
       "      <td>24.517317</td>\n",
       "      <td>30.153470</td>\n",
       "      <td>2269.107245</td>\n",
       "      <td>0.439029</td>\n",
       "    </tr>\n",
       "    <tr>\n",
       "      <th>min</th>\n",
       "      <td>0.000000</td>\n",
       "      <td>18.250000</td>\n",
       "      <td>0.000000</td>\n",
       "      <td>0.000000</td>\n",
       "    </tr>\n",
       "    <tr>\n",
       "      <th>25%</th>\n",
       "      <td>9.000000</td>\n",
       "      <td>35.737500</td>\n",
       "      <td>403.300000</td>\n",
       "      <td>0.000000</td>\n",
       "    </tr>\n",
       "    <tr>\n",
       "      <th>50%</th>\n",
       "      <td>29.000000</td>\n",
       "      <td>70.500000</td>\n",
       "      <td>1414.900000</td>\n",
       "      <td>0.000000</td>\n",
       "    </tr>\n",
       "    <tr>\n",
       "      <th>75%</th>\n",
       "      <td>55.000000</td>\n",
       "      <td>90.050000</td>\n",
       "      <td>3813.712500</td>\n",
       "      <td>1.000000</td>\n",
       "    </tr>\n",
       "    <tr>\n",
       "      <th>max</th>\n",
       "      <td>72.000000</td>\n",
       "      <td>118.750000</td>\n",
       "      <td>8684.800000</td>\n",
       "      <td>1.000000</td>\n",
       "    </tr>\n",
       "  </tbody>\n",
       "</table>\n",
       "</div>"
      ],
      "text/plain": [
       "       ClientPeriod  MonthlySpending   TotalSpent        Churn\n",
       "count   5260.000000      5260.000000  5260.000000  5260.000000\n",
       "mean      32.528327        65.040875  2296.898165     0.260646\n",
       "std       24.517317        30.153470  2269.107245     0.439029\n",
       "min        0.000000        18.250000     0.000000     0.000000\n",
       "25%        9.000000        35.737500   403.300000     0.000000\n",
       "50%       29.000000        70.500000  1414.900000     0.000000\n",
       "75%       55.000000        90.050000  3813.712500     1.000000\n",
       "max       72.000000       118.750000  8684.800000     1.000000"
      ]
     },
     "execution_count": 308,
     "metadata": {},
     "output_type": "execute_result"
    }
   ],
   "source": [
    "train.describe()"
   ]
  },
  {
   "cell_type": "code",
   "execution_count": 309,
   "id": "e30aca14-758c-4540-b580-11aaa04497ba",
   "metadata": {},
   "outputs": [
    {
     "data": {
      "text/html": [
       "<div>\n",
       "<style scoped>\n",
       "    .dataframe tbody tr th:only-of-type {\n",
       "        vertical-align: middle;\n",
       "    }\n",
       "\n",
       "    .dataframe tbody tr th {\n",
       "        vertical-align: top;\n",
       "    }\n",
       "\n",
       "    .dataframe thead th {\n",
       "        text-align: right;\n",
       "    }\n",
       "</style>\n",
       "<table border=\"1\" class=\"dataframe\">\n",
       "  <thead>\n",
       "    <tr style=\"text-align: right;\">\n",
       "      <th></th>\n",
       "      <th>ClientPeriod</th>\n",
       "      <th>MonthlySpending</th>\n",
       "      <th>TotalSpent</th>\n",
       "    </tr>\n",
       "  </thead>\n",
       "  <tbody>\n",
       "    <tr>\n",
       "      <th>count</th>\n",
       "      <td>1761.000000</td>\n",
       "      <td>1761.000000</td>\n",
       "      <td>1761.000000</td>\n",
       "    </tr>\n",
       "    <tr>\n",
       "      <th>mean</th>\n",
       "      <td>32.293583</td>\n",
       "      <td>64.272601</td>\n",
       "      <td>2256.483135</td>\n",
       "    </tr>\n",
       "    <tr>\n",
       "      <th>std</th>\n",
       "      <td>24.593736</td>\n",
       "      <td>29.832517</td>\n",
       "      <td>2260.501794</td>\n",
       "    </tr>\n",
       "    <tr>\n",
       "      <th>min</th>\n",
       "      <td>0.000000</td>\n",
       "      <td>18.550000</td>\n",
       "      <td>0.000000</td>\n",
       "    </tr>\n",
       "    <tr>\n",
       "      <th>25%</th>\n",
       "      <td>9.000000</td>\n",
       "      <td>35.650000</td>\n",
       "      <td>405.600000</td>\n",
       "    </tr>\n",
       "    <tr>\n",
       "      <th>50%</th>\n",
       "      <td>29.000000</td>\n",
       "      <td>70.050000</td>\n",
       "      <td>1356.300000</td>\n",
       "    </tr>\n",
       "    <tr>\n",
       "      <th>75%</th>\n",
       "      <td>56.000000</td>\n",
       "      <td>89.400000</td>\n",
       "      <td>3759.050000</td>\n",
       "    </tr>\n",
       "    <tr>\n",
       "      <th>max</th>\n",
       "      <td>72.000000</td>\n",
       "      <td>117.350000</td>\n",
       "      <td>8496.700000</td>\n",
       "    </tr>\n",
       "  </tbody>\n",
       "</table>\n",
       "</div>"
      ],
      "text/plain": [
       "       ClientPeriod  MonthlySpending   TotalSpent\n",
       "count   1761.000000      1761.000000  1761.000000\n",
       "mean      32.293583        64.272601  2256.483135\n",
       "std       24.593736        29.832517  2260.501794\n",
       "min        0.000000        18.550000     0.000000\n",
       "25%        9.000000        35.650000   405.600000\n",
       "50%       29.000000        70.050000  1356.300000\n",
       "75%       56.000000        89.400000  3759.050000\n",
       "max       72.000000       117.350000  8496.700000"
      ]
     },
     "execution_count": 309,
     "metadata": {},
     "output_type": "execute_result"
    }
   ],
   "source": [
    "commit.describe()"
   ]
  },
  {
   "cell_type": "code",
   "execution_count": 310,
   "id": "52aae9af-3130-44db-b13a-d93ace452000",
   "metadata": {},
   "outputs": [
    {
     "data": {
      "text/plain": [
       "array([[<Axes: title={'center': 'ClientPeriod'}>,\n",
       "        <Axes: title={'center': 'MonthlySpending'}>],\n",
       "       [<Axes: title={'center': 'TotalSpent'}>,\n",
       "        <Axes: title={'center': 'Churn'}>]], dtype=object)"
      ]
     },
     "execution_count": 310,
     "metadata": {},
     "output_type": "execute_result"
    },
    {
     "data": {
      "image/png": "[encoded data removed]",
      "text/plain": [
       "<Figure size 640x480 with 4 Axes>"
      ]
     },
     "metadata": {},
     "output_type": "display_data"
    }
   ],
   "source": [
    "train.hist(bins=50)"
   ]
  },
  {
   "cell_type": "code",
   "execution_count": null,
   "id": "318e7029-1a5e-433e-9b22-a1ca4dd31d8f",
   "metadata": {},
   "outputs": [
    {
     "data": {
      "text/plain": [
       "array([[<Axes: title={'center': 'ClientPeriod'}>,\n",
       "        <Axes: title={'center': 'MonthlySpending'}>],\n",
       "       [<Axes: title={'center': 'TotalSpent'}>, <Axes: >]], dtype=object)"
      ]
     },
     "execution_count": 311,
     "metadata": {},
     "output_type": "execute_result"
    }
   ],
   "source": [
    "commit.hist(bins=50)"
   ]
  },
  {
   "cell_type": "markdown",
   "id": "baa446b8-b2fa-493e-bd8b-d0b80e121bb3",
   "metadata": {},
   "source": [
    "Гистограммы схожи, значит данные провдоподобные и сформированны не предвзято"
   ]
  },
  {
   "cell_type": "markdown",
   "id": "2e41e4cc-bd76-4f4f-a495-bf2037eb6901",
   "metadata": {},
   "source": [
    "Попробуем обнаружить взаимосвзязь между численными признаками"
   ]
  },
  {
   "cell_type": "code",
   "execution_count": null,
   "id": "525fe9d3-2d49-42ce-8855-f380467ff51d",
   "metadata": {},
   "outputs": [],
   "source": [
    "sns.pairplot(train[num_cols])"
   ]
  },
  {
   "cell_type": "markdown",
   "id": "ea87074d-68b7-41b3-b3f1-7f68ebf3b058",
   "metadata": {},
   "source": [
    "### Анализ категориальных признаков"
   ]
  },
  {
   "cell_type": "markdown",
   "id": "4c3aea5d-8191-4105-a40c-66c7fa8c4166",
   "metadata": {},
   "source": [
    "Рассмотрим распределение целевой переменной по всем категориальным признакам"
   ]
  },
  {
   "cell_type": "code",
   "execution_count": null,
   "id": "8cea0b3a-0281-4c7d-9006-1d32b78b18e5",
   "metadata": {},
   "outputs": [],
   "source": [
    "nrows, ncols = 4, 4\n",
    "fig, axes = plt.subplots(nrows=nrows, ncols=ncols,  figsize=(12, 12))\n",
    "plt.subplots_adjust(wspace=0.5, hspace=0.5)\n",
    "\n",
    "for i, column_name in enumerate(cat_cols):\n",
    "    row = i // nrows\n",
    "    col = i % ncols\n",
    "    axis = axes[row, col]\n",
    "    chart_title = \"\".join(column_name)\n",
    "    sns.countplot(train, x=column_name, hue=churn, ax=axis)\n",
    "    axis.set_title(chart_title, fontsize=8)\n",
    "    axis.set_xlabel(\"\")\n",
    "    axis.set_ylabel(\"Кол-во клиентов\", fontsize=8)\n",
    "    axis.legend((\"Активные\", \"Ушедшие\"), fontsize=8)\n",
    "    axis.set_xticklabels(axis.get_xticklabels(), rotation=45, fontsize=8)\n"
   ]
  },
  {
   "cell_type": "markdown",
   "id": "ee206cc8-f8a0-4375-b367-1d49e3eb584d",
   "metadata": {},
   "source": [
    "Заметим, что пол не влияет ни на что. уберем его"
   ]
  },
  {
   "cell_type": "code",
   "execution_count": null,
   "id": "e2440bf1-6807-4f6a-94dc-32a543cf657a",
   "metadata": {},
   "outputs": [],
   "source": [
    "train.drop(\"Sex\", axis=1, inplace=True)\n",
    "cat_cols.remove(\"Sex\")\n",
    "commit.drop(\"Sex\", axis=1, inplace=True)"
   ]
  },
  {
   "cell_type": "markdown",
   "id": "f044b5db-46a3-4c05-9e1b-5c77e97129a2",
   "metadata": {},
   "source": [
    "Для обнаружения корреляций между признаками закодируем категориальные признаки методом labelencoding(чтобы за раз закодировать ordinalencoder)"
   ]
  },
  {
   "cell_type": "code",
   "execution_count": null,
   "id": "d005aa1b-77f5-4acd-b18a-4621e2e5494e",
   "metadata": {},
   "outputs": [],
   "source": [
    "from sklearn.preprocessing import OrdinalEncoder\n",
    "\n",
    "oe = OrdinalEncoder()\n",
    "train_label_encoded = train.copy()\n",
    "train_label_encoded[cat_cols] = oe.fit_transform(train_label_encoded[cat_cols])\n",
    "\n",
    "train_label_encoded"
   ]
  },
  {
   "cell_type": "markdown",
   "id": "2f0bf44c-834f-4b20-820c-5507ecdb696a",
   "metadata": {},
   "source": [
    "Построим хитмап для обнаружения корреляций"
   ]
  },
  {
   "cell_type": "code",
   "execution_count": null,
   "id": "cc780b18-83d4-4100-b4bc-299a421f15e0",
   "metadata": {},
   "outputs": [],
   "source": [
    "corr_matrix = train_label_encoded.corr()\n",
    "fig, axes = plt.subplots(figsize=(15, 10))\n",
    "sns.heatmap(data=corr_matrix, annot=True, cmap=\"coolwarm\", ax=axes, linewidth=.5, fmt=\".2f\")\n"
   ]
  },
  {
   "cell_type": "markdown",
   "id": "49a2947f-52c3-4227-8a1c-2583ee8f7dbe",
   "metadata": {},
   "source": [
    "Как мы видим, TotalSpent зависима от ClientPeriod и MonthlySpending, в меньшей степени от HasContractPhone"
   ]
  },
  {
   "cell_type": "markdown",
   "id": "1d801b41-d874-400b-b6cf-98d31bb6ae52",
   "metadata": {},
   "source": [
    "Уберем TotalSpent чтобы не допустить мультиколлинеарности"
   ]
  },
  {
   "cell_type": "code",
   "execution_count": null,
   "id": "b34793bb-9ef6-4f97-a874-b179d9fa5809",
   "metadata": {},
   "outputs": [],
   "source": [
    "# train.drop(\"TotalSpent\", axis=1, inplace=True)\n",
    "# num_cols.remove(\"TotalSpent\")\n",
    "# commit.drop(\"TotalSpent\", axis=1, inplace=True)"
   ]
  },
  {
   "cell_type": "markdown",
   "id": "026fe7db-1c16-419d-b957-817274220ef3",
   "metadata": {},
   "source": [
    "Теперь, посмотрим распределение целевого признака "
   ]
  },
  {
   "cell_type": "code",
   "execution_count": null,
   "id": "23375dd1-9fab-40f0-8c06-18dcab7dea24",
   "metadata": {},
   "outputs": [],
   "source": [
    "train[churn].hist()"
   ]
  },
  {
   "cell_type": "markdown",
   "id": "e2737ac5-a20f-4990-8fd0-97cbc0a96604",
   "metadata": {},
   "source": [
    "Как мы видим, тут есть дисбаланс классов. Мы его исправим далее"
   ]
  },
  {
   "cell_type": "markdown",
   "id": "98538e99-e039-4355-b2f2-408669d480fe",
   "metadata": {},
   "source": [
    "# Подготовка данных для обучения"
   ]
  },
  {
   "cell_type": "markdown",
   "id": "70262189-b75c-4e30-8f84-19ae8a0a15cc",
   "metadata": {},
   "source": [
    "### Подготовка классов для пайплайнов"
   ]
  },
  {
   "cell_type": "code",
   "execution_count": null,
   "id": "d469010d-d11b-4a02-bd4a-2e70e0122758",
   "metadata": {},
   "outputs": [],
   "source": [
    "from sklearn.pipeline import Pipeline\n",
    "from sklearn.preprocessing import OneHotEncoder, StandardScaler\n",
    "from sklearn.compose import ColumnTransformer\n",
    "\n",
    "from imblearn.pipeline import Pipeline as Pipeline_imb # чтоб встроить синтетические данные в пайплайн\n",
    "\n",
    "from imblearn.over_sampling import SMOTE\n",
    "\n",
    "#пайп для категориальных признаков\n",
    "categorical_pipe = Pipeline(steps=[('ohe', OneHotEncoder(drop=\"first\", handle_unknown=\"error\"))])\n",
    "\n",
    "#пайп для численных признаков\n",
    "numeric_pipe = Pipeline(steps=[('scaler', StandardScaler())])\n",
    "\n",
    "#трансформер колонок\n",
    "columns_transformer = ColumnTransformer(\n",
    "    transformers=[\n",
    "        (\"categorical\", categorical_pipe, cat_cols),\n",
    "        (\"numeric\", numeric_pipe, num_cols),\n",
    "    ])\n",
    "\n",
    "#пайп для генерации синтетических данных\n",
    "smote_pipe = SMOTE(random_state=42)"
   ]
  },
  {
   "cell_type": "markdown",
   "id": "b6db9925-5432-47b1-baa5-d60c89ad601d",
   "metadata": {},
   "source": [
    "### Подготовим алгоритмы для нахождения лучших гиперпараметров"
   ]
  },
  {
   "cell_type": "code",
   "execution_count": null,
   "id": "4ca3604f-36a7-4180-a63f-d0245196fc9e",
   "metadata": {},
   "outputs": [],
   "source": [
    "from sklearn.model_selection import GridSearchCV, RandomizedSearchCV\n",
    "import optuna\n",
    "\n",
    "from sklearn.metrics import roc_auc_score"
   ]
  },
  {
   "cell_type": "markdown",
   "id": "f8a9d8fe-119a-464c-ab2d-ced8368daa78",
   "metadata": {},
   "source": [
    "### Разделим обучающую выборку на обучающую и контрольную"
   ]
  },
  {
   "cell_type": "code",
   "execution_count": null,
   "id": "a255147d-7124-474e-bd05-f52b3438eafd",
   "metadata": {},
   "outputs": [],
   "source": [
    "from sklearn.model_selection import train_test_split\n",
    "\n",
    "train_x, test_x, train_y, test_y = train_test_split(train.drop(columns=churn), train[churn], test_size=0.2, shuffle=False)\n",
    "train_x"
   ]
  },
  {
   "cell_type": "code",
   "execution_count": null,
   "id": "7754e52e-e8f5-4bb3-b638-82cfd58ada4b",
   "metadata": {},
   "outputs": [],
   "source": [
    "from imblearn.over_sampling import SMOTE\n",
    "\n",
    "smote = SMOTE(random_state=42)\n",
    "\n",
    "train_x, train_y = smote.fit_resample(train_x, train_y)\n",
    "\n",
    "train_y.hist(bins=50) "
   ]
  },
  {
   "cell_type": "markdown",
   "id": "9e25cbb4-85c9-48c6-996e-b8b0a3e76f0c",
   "metadata": {},
   "source": [
    "### Посмотрим на основе randomforest какие признаки вносят больший вклад в целевой признак"
   ]
  },
  {
   "cell_type": "code",
   "execution_count": null,
   "id": "226d78b9-f871-4f89-8db1-f47590a9055f",
   "metadata": {},
   "outputs": [],
   "source": [
    "from sklearn.ensemble import RandomForestClassifier\n",
    "\n",
    "\n",
    "train_x_le = train_x.copy()\n",
    "train_x_le[cat_cols] = OrdinalEncoder().fit_transform(train_x_le[cat_cols])\n",
    "\n",
    "\n",
    "clf = RandomForestClassifier(n_estimators=2000, min_impurity_decrease=0.001)\n",
    "clf.fit(train_x_le, train_y)\n",
    "pd.DataFrame(clf.feature_importances_, index=train_x_le.columns, columns=[\"importance\"]) \\\n",
    "    .sort_values(\"importance\") \\\n",
    "    .plot(kind=\"barh\", legend=False, figsize=(12, 8));\n",
    "plt.title(\"Feature importance\");"
   ]
  },
  {
   "cell_type": "markdown",
   "id": "43fe4ce8-5184-4ca2-b840-8741dbeec4ba",
   "metadata": {},
   "source": [
    "# Обучение моделей\n",
    "Обучать будем catboost, xgboost, logisticregression так как они показали наилучший результат в ноутбуке classif. Реализацию других моделей можно будет посмотреть там"
   ]
  },
  {
   "cell_type": "markdown",
   "id": "36f31e36-5c7e-4fbd-9366-1ff9c1bf1e9b",
   "metadata": {},
   "source": [
    "### Логистическая регрессия"
   ]
  },
  {
   "cell_type": "markdown",
   "id": "e3af1b24-7b71-4fb0-8aae-6c2bf8769db8",
   "metadata": {},
   "source": [
    "##### Обучение логистической регрессии"
   ]
  },
  {
   "cell_type": "code",
   "execution_count": null,
   "id": "5fc8b975-9f27-4056-a8b4-430f3cf3b535",
   "metadata": {},
   "outputs": [],
   "source": [
    "# from sklearn.linear_model import LogisticRegression\n",
    "# from sklearn.model_selection import GridSearchCV\n",
    "# from imblearn.pipeline import Pipeline as Pipeline_imb\n",
    "\n",
    "\n",
    "# lr_pipe = Pipeline_imb([\n",
    "#     ('preproc', columns_transformer),\n",
    "#     ('smote', smote_pipe),\n",
    "#     ('model', LogisticRegression())\n",
    "# ])\n",
    "\n",
    "# # пространство гиперпараметров\n",
    "# lr_params_grid = {\n",
    "#     \"model__C\": [i/10 for i in range(1, 20)],\n",
    "#     \"model__penalty\": [\"l2\"],\n",
    "#     \"model__solver\": [\"saga\"],\n",
    "#     \"model__max_iter\": [i for i in range(100, 1000, 100)]\n",
    "# }\n",
    "\n",
    "# lr_grid_search = GridSearchCV(\n",
    "#     estimator=lr_pipe,\n",
    "#     param_grid=lr_params_grid,\n",
    "#     scoring=\"roc_auc\",\n",
    "#     n_jobs=-1,\n",
    "#     cv=5,\n",
    "#     refit=True\n",
    "# )\n",
    "\n",
    "# lr_model = lr_grid_search.fit(train_x, train_y)\n",
    "# print(\"Лучшие параметры:\", lr_grid_search.best_params_)\n"
   ]
  },
  {
   "cell_type": "code",
   "execution_count": null,
   "id": "a78e16e8-60af-4386-a7e8-f84b3611ad31",
   "metadata": {},
   "outputs": [],
   "source": [
    "from sklearn.linear_model import LogisticRegression\n",
    "from imblearn.pipeline import Pipeline as Pipeline_imb\n",
    "\n",
    "\n",
    "lr_pipe = Pipeline_imb([\n",
    "    ('preproc', columns_transformer),\n",
    "    ('smote', smote_pipe),\n",
    "    ('model', LogisticRegression(C=0.1, max_iter=200, penalty='l1', solver='saga', random_state=42))\n",
    "])\n",
    "\n",
    "lr_model = lr_pipe.fit(train_x, train_y)\n"
   ]
  },
  {
   "cell_type": "code",
   "execution_count": null,
   "id": "2436e472-8f63-48a7-9fd7-8fd74baa8f0c",
   "metadata": {},
   "outputs": [],
   "source": [
    "roc_auc_score(test_y, lr_model.predict(test_x))\n"
   ]
  },
  {
   "cell_type": "markdown",
   "id": "0c9590d0-fefd-44ed-8a3b-61deb6906d81",
   "metadata": {},
   "source": [
    "Как мы видим, при наборе параметров {'model__C': 0.1, 'model__max_iter': 200, 'model__penalty': 'l2', 'model__solver': 'saga'}}\n",
    "\n",
    "Результат 0.758"
   ]
  },
  {
   "cell_type": "markdown",
   "id": "84b5cc92-5bea-4b55-ae7c-019f6f1639b7",
   "metadata": {},
   "source": [
    "##### Матрица ошибок"
   ]
  },
  {
   "cell_type": "code",
   "execution_count": null,
   "id": "0f37e1af-e6ae-4b97-bd61-2180e46f3b28",
   "metadata": {},
   "outputs": [],
   "source": [
    "import seaborn as sns\n",
    "from sklearn.metrics import confusion_matrix"
   ]
  },
  {
   "cell_type": "code",
   "execution_count": null,
   "id": "b14f6020-7647-466b-b336-0b7c63b6c009",
   "metadata": {},
   "outputs": [],
   "source": [
    "cm_lr = confusion_matrix(test_y ,lr_model.predict(test_x))\n",
    "sns.heatmap(cm_lr, annot=True, fmt='d')\n",
    "plt.title(\"cm logr\")\n",
    "plt.xlabel('prediction')\n",
    "plt.ylabel('true values')"
   ]
  },
  {
   "cell_type": "markdown",
   "id": "44c55904-5bb0-4a9c-a798-5b201b04b543",
   "metadata": {},
   "source": [
    "### CatBoost"
   ]
  },
  {
   "cell_type": "markdown",
   "id": "40d26e01-fa15-42a2-bf62-4001bbbab24c",
   "metadata": {},
   "source": [
    "##### Обучение catboost(использую random search или optuna)"
   ]
  },
  {
   "cell_type": "code",
   "execution_count": null,
   "id": "cac55f60-5127-462e-89b9-d5372168fcc0",
   "metadata": {
    "scrolled": true
   },
   "outputs": [],
   "source": [
    "# from catboost import CatBoostClassifier\n",
    "\n",
    "# cat_features = train_x.select_dtypes(include=[\"object\", \"category\"]).columns.tolist()\n",
    "\n",
    "# cb_params_grid = {\"depth\": [i for i in range(2, 5)], \n",
    "#                         \"l2_leaf_reg\": [i/10 for i in range(1, 11, 2)], \n",
    "#                         \"subsample\": [i/10 for i in range(1, 11, 2)], \n",
    "#                         \"n_estimators\": [i for i in range(1, 500, 200)], \n",
    "#                         \"learning_rate\": [i/100 for i in range(1, 100, 20)], \n",
    "#                         'class_weights': [[1, i/10] for i in range(10, 30, 5)]  \n",
    "#                        }\n",
    "\n",
    "# cb_model = CatBoostClassifier(\n",
    "#     cat_features=cat_features,\n",
    "#     logging_level=\"Silent\",\n",
    "#     random_seed=42,\n",
    "#     early_stopping_rounds=30,\n",
    "#     eval_metric=\"AUC:hints=skip_train~false\",\n",
    "#     grow_policy=\"Lossguide\"\n",
    "#     )\n",
    "\n",
    "# cb_model.grid_search(cb_params_grid, train_x, train_y, cv=3, plot=True, refit=True, verbose=True)\n",
    "\n",
    "# # cb_pipe = Pipeline_imb([\n",
    "# #     ('preproc', columns_transformer),\n",
    "# #     ('smote', smote_pipe),\n",
    "# #     ('model', cb_model)\n",
    "# # ])\n",
    "\n",
    "# # cb_rand_search = RandomizedSearchCV(\n",
    "# #     estimator=cb_pipe,\n",
    "# #     param_distributions=cb_params_rand,\n",
    "# #     n_iter=30,\n",
    "# #     scoring='roc_auc',\n",
    "# #     cv=5,\n",
    "# #     n_jobs=-1,\n",
    "# #     random_state=42,\n",
    "# #     refit=True\n",
    "# # )\n",
    "\n",
    "\n",
    "# # cb_model = cb_rand_search.fit(train_x, train_y)\n",
    "# # print(\"Лучшие параметры:\", cb_rand_search.best_params_)\n",
    "\n",
    "# print(f\"  Лучший результат: {cb_model.best_score_['learn']}\")\n",
    "# print(f\"  Лучший набор гиперпараметров: {cb_model.get_params()}\")"
   ]
  },
  {
   "cell_type": "code",
   "execution_count": null,
   "id": "228abe5a-c884-4481-b4e5-6b7c0917db38",
   "metadata": {
    "scrolled": true
   },
   "outputs": [],
   "source": [
    "# import optuna\n",
    "# from optuna.integration import catboost as ocb\n",
    "# from catboost import CatBoostClassifier\n",
    "\n",
    "# def objective(trial):\n",
    "#     lr = trial.suggest_float('lr', 0.01, 1)\n",
    "#     itr = trial.suggest_int('itr', 1, 800)\n",
    "#     dpt = trial.suggest_int('dpt', 2, 10)\n",
    "    \n",
    "#     cb_model = CatBoostClassifier(iterations=itr, learning_rate=lr, verbose=False, depth=dpt,\n",
    "#                             eval_metric = 'AUC', early_stopping_rounds=30, thread_count=6)\n",
    "\n",
    "#     cb_pipe = Pipeline_imb([\n",
    "#     ('preproc', columns_transformer),\n",
    "#     ('smote', smote_pipe),\n",
    "#     ('model', cb_model)\n",
    "#     ])\n",
    "    \n",
    "#     cb_model = cb_pipe.fit(train_x, train_y)\n",
    "    \n",
    "#     return roc_auc_score(test_y, cb_model.predict(test_x))\n",
    "\n",
    "# study = optuna.create_study(direction=\"maximize\", pruner=\"Hyperband\")\n",
    "# study.optimize(objective, n_trials=300)\n",
    "\n",
    "# print(\"Лучший ROC-AUC:\", study.best_value)\n",
    "# print(\"Лучшие параметры:\", study.best_params)"
   ]
  },
  {
   "cell_type": "code",
   "execution_count": null,
   "id": "0bb99506-802b-42aa-8eaa-ab1907fea4df",
   "metadata": {},
   "outputs": [],
   "source": [
    "from catboost import CatBoostClassifier\n",
    "\n",
    "# cat_features = train_x.select_dtypes(include=[\"object\", \"category\"]).columns.tolist()\n",
    "\n",
    "cb_model = CatBoostClassifier(\n",
    "    logging_level=\"Silent\",\n",
    "    iterations=28,\n",
    "    depth=2,\n",
    "    learning_rate=0.051,\n",
    "    )\n",
    "\n",
    "\n",
    "cb_pipe = Pipeline_imb([\n",
    "    ('preproc', columns_transformer),\n",
    "    ('smote', smote_pipe),\n",
    "    ('model', cb_model)\n",
    "])\n",
    "\n",
    "cb_model = cb_pipe.fit(train_x, train_y)\n"
   ]
  },
  {
   "cell_type": "code",
   "execution_count": null,
   "id": "4eabedb5-869d-4112-a1a4-81e2939a0676",
   "metadata": {},
   "outputs": [],
   "source": [
    "roc_auc_score(test_y, cb_model.predict(test_x))"
   ]
  },
  {
   "cell_type": "markdown",
   "id": "81c599c8-6376-4a70-a6a5-6e38129fddc1",
   "metadata": {},
   "source": [
    "Лучший ROC-AUC: 0.7652492036333792\n",
    "Лучшие параметры: {'lr': 0.05126077706708759, 'itr': 28, 'dpt': 2}"
   ]
  },
  {
   "cell_type": "markdown",
   "id": "038107aa-5624-4425-89db-8e0f275e4aa1",
   "metadata": {},
   "source": [
    "##### Матрица ошибок"
   ]
  },
  {
   "cell_type": "code",
   "execution_count": null,
   "id": "c8fcab41-974c-43ba-a2af-9910ed357126",
   "metadata": {},
   "outputs": [],
   "source": [
    "cm_cb = confusion_matrix(test_y ,cb_model.predict(test_x))\n",
    "sns.heatmap(cm_cb, annot=True, fmt='d')\n",
    "plt.title(\"cm cb\")\n",
    "plt.xlabel('prediction')\n",
    "plt.ylabel('true values')"
   ]
  },
  {
   "cell_type": "markdown",
   "id": "b72f5ad5-2fcb-452b-a0c0-3f77cffb341d",
   "metadata": {},
   "source": [
    "### XGBoost"
   ]
  },
  {
   "cell_type": "markdown",
   "id": "1f6af067-4251-4e47-ab9a-9de099168f8a",
   "metadata": {},
   "source": [
    "Обучение XGBoost(используем optuna)"
   ]
  },
  {
   "cell_type": "code",
   "execution_count": null,
   "id": "c3697a06-19c3-4e35-9a86-1b481acddf96",
   "metadata": {
    "scrolled": true
   },
   "outputs": [],
   "source": [
    "# import optuna\n",
    "# from optuna.integration import xgboost as xgb\n",
    "# from xgboost import XGBClassifier\n",
    "\n",
    "# def objective(trial):\n",
    "#     eta = trial.suggest_float('eta', 0.01, 1)\n",
    "#     dpt = trial.suggest_int('dpt', 2, 5)\n",
    "#     max_cat = trial.suggest_int('mcat', 1, 5)\n",
    "#     n_est = trial.suggest_int('nest', 50, 400)\n",
    "#     max_lvs = trial.suggest_int('mlvs', 1, 7)\n",
    "#     #max_cat_threshold\n",
    "\n",
    "\n",
    "#     # n_estimators : Optional[int]\n",
    "#     #     Number of boosting rounds.\n",
    "\n",
    "#     # max_depth :  typing.Optional[int]\n",
    "\n",
    "#     #     Maximum tree depth for base learners.\n",
    "\n",
    "#     # max_leaves : typing.Optional[int]\n",
    "\n",
    "#     #     Maximum number of leaves; 0 indicates no limit.\n",
    "\n",
    "#     # max_bin : typing.Optional[int]\n",
    "\n",
    "#     #     If using histogram-based algorithm, maximum number of bins per feature\n",
    "\n",
    "\n",
    "#     xgb = XGBClassifier(n_jobs=-1, eta=eta, n_estimators=n_est, max_leaves=max_lvs,\n",
    "#                              max_cat_threshold=max_cat, max_depth=dpt)\n",
    "#     xgb_pipe = Pipeline_imb([\n",
    "#     ('preproc', columns_transformer),\n",
    "#     ('smote', smote_pipe),\n",
    "#     ('model', xgb)\n",
    "#     ])\n",
    "    \n",
    "    \n",
    "#     xgb_model = xgb_pipe.fit(train_x, train_y)\n",
    "#     return roc_auc_score(test_y, xgb_model.predict(test_x))\n",
    "    \n",
    "# #     cb = CatBoostClassifier(iterations=itr, learning_rate=lr, verbose=False, class_weights=[1, w1], depth=dpt,\n",
    "# #                             eval_metric = 'AUC', early_stopping_rounds=30, thread_count=6)\n",
    "    \n",
    "# #     cb.fit(train_x_cb, train_y_cb, cat_features=cat_features)\n",
    "    \n",
    "# #     return roc_auc_score(test_y, cb.predict(test_x_cb))\n",
    "\n",
    "# study = optuna.create_study(direction=\"maximize\", pruner=\"Hyperband\")\n",
    "# study.optimize(objective, n_trials=500)\n",
    "\n",
    "# print(\"Лучший ROC-AUC:\", study.best_value)\n",
    "# print(\"Лучшие параметры:\", study.best_params)\n"
   ]
  },
  {
   "cell_type": "code",
   "execution_count": null,
   "id": "4c046059-2528-427d-b9bb-8abdf76f1c3c",
   "metadata": {},
   "outputs": [],
   "source": [
    "from xgboost import XGBClassifier\n",
    "\n",
    "xgb = XGBClassifier(\n",
    "    n_jobs=-1,\n",
    "    eta=0.027,\n",
    "    max_depth=3,\n",
    "    eval_metric='auc',\n",
    "    # scale_pos_weight=1.9,      \n",
    "    random_state=42,\n",
    "    n_estimators=266,\n",
    "    max_cat_threshold=5,\n",
    "    max_leaves=3\n",
    ")\n",
    "\n",
    "xgb_pipe = Pipeline_imb([\n",
    "    ('preproc', columns_transformer),\n",
    "    ('smote', smote_pipe),\n",
    "    ('model', xgb)\n",
    "    ])\n",
    "    \n",
    "    \n",
    "xgb_model = xgb_pipe.fit(train_x, train_y)\n",
    "\n",
    "\n",
    "\n"
   ]
  },
  {
   "cell_type": "code",
   "execution_count": null,
   "id": "383dc62c-de40-4a47-83f3-ac789ce33264",
   "metadata": {},
   "outputs": [],
   "source": [
    "roc_auc_score(test_y, xgb_model.predict(test_x))"
   ]
  },
  {
   "cell_type": "markdown",
   "id": "36ee7921-4c53-4d46-8f17-79110a131c41",
   "metadata": {},
   "source": [
    "Лучший ROC-AUC: 0.7664478107452694\n",
    "\n",
    "Лучшие параметры: {'eta': 0.014189299390712548, 'dpt': 4, 'mcat': 1, 'nest': 339, 'mlvs': 3}"
   ]
  },
  {
   "cell_type": "markdown",
   "id": "5f0185a4-9907-48fc-929c-a94ec040878f",
   "metadata": {},
   "source": [
    "### Матрица ошибок"
   ]
  },
  {
   "cell_type": "code",
   "execution_count": null,
   "id": "2103fb3f-70b7-4a56-a230-37597283cb4c",
   "metadata": {},
   "outputs": [],
   "source": [
    "cm_xgb = confusion_matrix(test_y ,xgb_model.predict(test_x))\n",
    "sns.heatmap(cm_xgb, annot=True, fmt='d')\n",
    "plt.title(\"cm xgb\")\n",
    "plt.xlabel('prediction')\n",
    "plt.ylabel('true values')"
   ]
  },
  {
   "cell_type": "markdown",
   "id": "655e7d58-d314-4ad5-ac90-a3def928a3af",
   "metadata": {},
   "source": [
    "# Обработка результатов для отправки"
   ]
  },
  {
   "cell_type": "markdown",
   "id": "63c91a56-e735-4d48-98b0-b3e02516bb3d",
   "metadata": {},
   "source": [
    "### Линейная регрессия"
   ]
  },
  {
   "cell_type": "code",
   "execution_count": null,
   "id": "0e68b309-ca1c-4c0e-8e2a-9ddae8c5f8ac",
   "metadata": {},
   "outputs": [],
   "source": [
    "lr_commit_predict = lr_model.predict(commit)\n",
    "\n",
    "submission = pd.DataFrame({\"Id\": commit.index,\n",
    "                          'Churn':lr_commit_predict})\n",
    "submission.to_csv('submission_logr.csv', index=False)"
   ]
  },
  {
   "cell_type": "markdown",
   "id": "048085c7-22a4-45fa-97a8-5bd483b2c1e3",
   "metadata": {},
   "source": [
    "### CatBoost"
   ]
  },
  {
   "cell_type": "code",
   "execution_count": null,
   "id": "7115cfb9-1a86-4843-9c24-f197c32e7277",
   "metadata": {},
   "outputs": [],
   "source": [
    "\n",
    "cb_commit_predict = cb_model.predict(commit)\n",
    "\n",
    "submission = pd.DataFrame({\"Id\": commit.index,\n",
    "                          'Churn':cb_commit_predict})\n",
    "submission.to_csv('submission_cb.csv', index=False)"
   ]
  },
  {
   "cell_type": "markdown",
   "id": "03f1ddad-3edd-410e-8800-abe9a6b6e7f7",
   "metadata": {},
   "source": [
    "### XGBoost"
   ]
  },
  {
   "cell_type": "code",
   "execution_count": null,
   "id": "c1275ebc-3dea-4501-bd83-f6eb76b50653",
   "metadata": {},
   "outputs": [],
   "source": [
    "xgb_commit_predict = xgb_model.predict(commit)\n",
    "\n",
    "submission = pd.DataFrame({\"Id\": commit.index,\n",
    "                          'Churn':xgb_commit_predict})\n",
    "submission.to_csv('submission_xgb.csv', index=False)"
   ]
  },
  {
   "cell_type": "code",
   "execution_count": null,
   "id": "7bd44562-fe99-4974-92c6-e3b3ff9d9527",
   "metadata": {},
   "outputs": [],
   "source": []
  }
 ],
 "metadata": {
  "kernelspec": {
   "display_name": "Python 3 (ipykernel)",
   "language": "python",
   "name": "python3"
  },
  "language_info": {
   "codemirror_mode": {
    "name": "ipython",
    "version": 3
   },
   "file_extension": ".py",
   "mimetype": "text/x-python",
   "name": "python",
   "nbconvert_exporter": "python",
   "pygments_lexer": "ipython3",
   "version": "3.11.4"
  }
 },
 "nbformat": 4,
 "nbformat_minor": 5
}
