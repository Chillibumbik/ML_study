{
 "cells": [
  {
   "cell_type": "markdown",
   "id": "607b08f3-381e-4bbd-bd79-c863bb260e81",
   "metadata": {},
   "source": [
    "# EDA\n",
    "\n",
    "за основу взял [1 занятие клуба ии в мифи](https://colab.research.google.com/drive/1V__EuSANRpZLZd5dW2H9Pgvxhllfud1x)"
   ]
  },
  {
   "cell_type": "markdown",
   "id": "4417a7cc-f0ec-4a17-8489-f9cb1f9ba6c2",
   "metadata": {},
   "source": [
    "### Загрузим файлы, с которыми будем работать"
   ]
  },
  {
   "cell_type": "code",
   "execution_count": null,
   "id": "ca7410be-77b3-4413-a75c-3f9738cb35f4",
   "metadata": {},
   "outputs": [],
   "source": [
    "import pandas as pd\n",
    "train = pd.read_csv(\"train.csv\")\n",
    "commit = pd.read_csv(\"test.csv\")"
   ]
  },
  {
   "cell_type": "markdown",
   "id": "60c8f21c-c4e3-4d51-9bb9-f428c6730bf7",
   "metadata": {},
   "source": [
    "### Выделим категориальные признаки, численные и целевой признак"
   ]
  },
  {
   "cell_type": "code",
   "execution_count": null,
   "id": "13378687-aa67-491a-b807-05f11c1f9b9e",
   "metadata": {},
   "outputs": [],
   "source": [
    "num_cols = [\n",
    "    \"ClientPeriod\",\n",
    "    \"MonthlySpending\",\n",
    "    \"TotalSpent\",\n",
    "]\n",
    "\n",
    "cat_cols = [\n",
    "    \"Sex\",\n",
    "    \"IsSeniorCitizen\",\n",
    "    \"HasPartner\",\n",
    "    \"HasChild\",\n",
    "    \"HasPhoneService\",\n",
    "    \"HasMultiplePhoneNumbers\",\n",
    "    \"HasInternetService\",\n",
    "    \"HasOnlineSecurityService\",\n",
    "    \"HasOnlineBackup\",\n",
    "    \"HasDeviceProtection\",\n",
    "    \"HasTechSupportAccess\",\n",
    "    \"HasOnlineTV\",\n",
    "    \"HasMovieSubscription\",\n",
    "    \"HasContractPhone\",\n",
    "    \"IsBillingPaperless\",\n",
    "    \"PaymentMethod\",\n",
    "]\n",
    "\n",
    "churn = \"Churn\""
   ]
  },
  {
   "cell_type": "markdown",
   "id": "0bf32f03-c671-42cb-8567-45282a333713",
   "metadata": {},
   "source": [
    "### Проанализируем данные на пустые и некорректные значения"
   ]
  },
  {
   "cell_type": "code",
   "execution_count": null,
   "id": "b2a69010-ea74-44de-ad90-3a9bd29a7ec9",
   "metadata": {},
   "outputs": [],
   "source": [
    "train.info()"
   ]
  },
  {
   "cell_type": "code",
   "execution_count": null,
   "id": "6ac0f5a8-1c9d-4912-8041-b6c8661033e1",
   "metadata": {},
   "outputs": [],
   "source": [
    "commit.info()"
   ]
  },
  {
   "cell_type": "markdown",
   "id": "eee1bb14-054e-4150-9ff0-1a6bc63c5f3a",
   "metadata": {},
   "source": [
    "Заметим, что TotalSpent представлен как object, а IsSeniorCitizen как int. Сделаем замену типов"
   ]
  },
  {
   "cell_type": "markdown",
   "id": "fa7a10e7-0f11-4daa-9d34-fe73764f50bc",
   "metadata": {},
   "source": [
    "Заменим все \" \" на пустые значения"
   ]
  },
  {
   "cell_type": "code",
   "execution_count": null,
   "id": "4651f5c4-8ff5-48a5-ae24-c027ec6b6c3f",
   "metadata": {},
   "outputs": [],
   "source": [
    "import numpy as np\n",
    "\n",
    "train.replace(' ', np.nan, inplace=True)\n",
    "commit.replace(' ', np.nan, inplace=True)"
   ]
  },
  {
   "cell_type": "code",
   "execution_count": null,
   "id": "fb7d2940-9411-4852-833a-a0a37e980f18",
   "metadata": {},
   "outputs": [],
   "source": [
    "%matplotlib inline\n",
    "import matplotlib.pyplot as plt\n",
    "import seaborn as sns\n",
    "\n",
    "# График распределения пропущенных значений\n",
    "plt.figure(figsize=(15,7))\n",
    "\n",
    "cmap = sns.cubehelix_palette(as_cmap=True, light=.9)\n",
    "\n",
    "sns.heatmap(train.isna().transpose(), cmap=cmap,\n",
    "            cbar_kws={'label': 'Missing Data'})"
   ]
  },
  {
   "cell_type": "code",
   "execution_count": null,
   "id": "2c811e11-3e73-46b5-a0cc-0c01f066bad3",
   "metadata": {},
   "outputs": [],
   "source": [
    "print(train.isna().sum())\n",
    "print(commit.isna().sum())"
   ]
  },
  {
   "cell_type": "markdown",
   "id": "4e2ac47b-1db1-47b3-a605-5847fb51bdd5",
   "metadata": {},
   "source": [
    "\n",
    "Как мы видим, пустые значения появились в totalspent. Заменим их на нули"
   ]
  },
  {
   "cell_type": "code",
   "execution_count": null,
   "id": "318120a5-dfff-458c-82ca-0c273ee22d25",
   "metadata": {},
   "outputs": [],
   "source": [
    "train[\"TotalSpent\"] = train[\"TotalSpent\"].replace(np.nan, 0).astype('float')\n",
    "commit[\"TotalSpent\"] = commit[\"TotalSpent\"].replace(np.nan, 0).astype('float')"
   ]
  },
  {
   "cell_type": "code",
   "execution_count": null,
   "id": "001dea10-2610-41d8-9e7c-d812781704da",
   "metadata": {},
   "outputs": [],
   "source": [
    "print(train.info())\n",
    "print(commit.info())"
   ]
  },
  {
   "cell_type": "markdown",
   "id": "8143c959-7a1a-49e3-8070-8f5ddcdfa946",
   "metadata": {},
   "source": [
    "Заменим для IsSeniorCitizen 0 на No, 1 на Yes"
   ]
  },
  {
   "cell_type": "code",
   "execution_count": null,
   "id": "05c8e17f-ab00-46dd-a9d7-8c60e3a543f3",
   "metadata": {
    "scrolled": true
   },
   "outputs": [],
   "source": [
    "# train.IsSeniorCitizen = train.IsSeniorCitizen.map(lambda x: \"Yes\" if x == 1 else \"No\")\n",
    "# commit.IsSeniorCitizen = commit.IsSeniorCitizen.map(lambda x: \"Yes\" if x == 1 else \"No\")\n",
    "# print(set(train.IsSeniorCitizen.to_list()))\n",
    "# print(set(commit.IsSeniorCitizen.to_list()))"
   ]
  },
  {
   "cell_type": "markdown",
   "id": "9070d0e3-fe59-401a-8fa1-1f6a482b19f2",
   "metadata": {},
   "source": [
    "### Проверим данные на наличие дубликатов"
   ]
  },
  {
   "cell_type": "code",
   "execution_count": null,
   "id": "7911e26b-0666-4237-8fb5-398f2a0d641e",
   "metadata": {},
   "outputs": [],
   "source": [
    "train.duplicated(keep=False).sum()"
   ]
  },
  {
   "cell_type": "markdown",
   "id": "0f0ff538-2c2f-4984-8273-e7d0af738f08",
   "metadata": {},
   "source": [
    "Получили 28 дублирующих строк. нужно их удалить"
   ]
  },
  {
   "cell_type": "code",
   "execution_count": null,
   "id": "81335edf-8b9a-4fe1-960f-549fd5a19b3d",
   "metadata": {},
   "outputs": [],
   "source": [
    "train.drop_duplicates(inplace=True)"
   ]
  },
  {
   "cell_type": "markdown",
   "id": "c24d3bc3-9f6f-4075-b835-b47a211e709f",
   "metadata": {},
   "source": [
    "Теперь посмотрим, будут ли дубликаты, если отбросить целевой признак"
   ]
  },
  {
   "cell_type": "code",
   "execution_count": null,
   "id": "ff2e4c80-7e74-43aa-ba52-44a49f1a71bf",
   "metadata": {},
   "outputs": [],
   "source": [
    "train.drop('Churn', axis=1).duplicated().sum()"
   ]
  },
  {
   "cell_type": "code",
   "execution_count": null,
   "id": "60329b01-d406-4094-8309-db85155d0815",
   "metadata": {},
   "outputs": [],
   "source": [
    "train[train.drop(['Churn'], axis=1).duplicated(keep=False)].sort_values(by=[*train.columns])"
   ]
  },
  {
   "cell_type": "markdown",
   "id": "bfe22f73-8629-48ea-a20c-76a63a4cb2a3",
   "metadata": {},
   "source": [
    "Осталось 8 дубликатов, при этом на одинаковых наборах признаков дающих разные целевые значения. Так как для нас приоритетнее класс \"1\", оставим его"
   ]
  },
  {
   "cell_type": "code",
   "execution_count": null,
   "id": "8ba811d9-a8a4-49ae-a884-67f495b699b1",
   "metadata": {},
   "outputs": [],
   "source": [
    "train.drop_duplicates(subset=list(train.columns[:-1]), keep='last', inplace=True)"
   ]
  },
  {
   "cell_type": "markdown",
   "id": "a6fc563c-dbd1-46e0-b4b8-a74ee1e34661",
   "metadata": {},
   "source": [
    "### Анализ числовых признаков"
   ]
  },
  {
   "cell_type": "markdown",
   "id": "4773b705-9860-46a2-bab1-45595dd5e9b5",
   "metadata": {},
   "source": [
    "Распределение признаков"
   ]
  },
  {
   "cell_type": "code",
   "execution_count": null,
   "id": "e90e683d-cab8-49db-bd29-a3ffbef2a2fd",
   "metadata": {},
   "outputs": [],
   "source": [
    "train.describe()"
   ]
  },
  {
   "cell_type": "code",
   "execution_count": null,
   "id": "e30aca14-758c-4540-b580-11aaa04497ba",
   "metadata": {},
   "outputs": [],
   "source": [
    "commit.describe()"
   ]
  },
  {
   "cell_type": "code",
   "execution_count": null,
   "id": "52aae9af-3130-44db-b13a-d93ace452000",
   "metadata": {},
   "outputs": [],
   "source": [
    "train.hist(bins=50)"
   ]
  },
  {
   "cell_type": "code",
   "execution_count": null,
   "id": "318e7029-1a5e-433e-9b22-a1ca4dd31d8f",
   "metadata": {},
   "outputs": [],
   "source": [
    "commit.hist(bins=50)"
   ]
  },
  {
   "cell_type": "markdown",
   "id": "baa446b8-b2fa-493e-bd8b-d0b80e121bb3",
   "metadata": {},
   "source": [
    "Гистограммы схожи, значит данные провдоподобные и сформированны не предвзято"
   ]
  },
  {
   "cell_type": "markdown",
   "id": "2e41e4cc-bd76-4f4f-a495-bf2037eb6901",
   "metadata": {},
   "source": [
    "Попробуем обнаружить взаимосвзязь между численными признаками"
   ]
  },
  {
   "cell_type": "code",
   "execution_count": null,
   "id": "525fe9d3-2d49-42ce-8855-f380467ff51d",
   "metadata": {},
   "outputs": [],
   "source": [
    "sns.pairplot(train[num_cols])"
   ]
  },
  {
   "cell_type": "markdown",
   "id": "ea87074d-68b7-41b3-b3f1-7f68ebf3b058",
   "metadata": {},
   "source": [
    "### Анализ категориальных признаков"
   ]
  },
  {
   "cell_type": "markdown",
   "id": "4c3aea5d-8191-4105-a40c-66c7fa8c4166",
   "metadata": {},
   "source": [
    "Рассмотрим распределение целевой переменной по всем категориальным признакам"
   ]
  },
  {
   "cell_type": "code",
   "execution_count": null,
   "id": "8cea0b3a-0281-4c7d-9006-1d32b78b18e5",
   "metadata": {},
   "outputs": [],
   "source": [
    "nrows, ncols = 4, 4\n",
    "fig, axes = plt.subplots(nrows=nrows, ncols=ncols,  figsize=(12, 12))\n",
    "plt.subplots_adjust(wspace=0.5, hspace=0.5)\n",
    "\n",
    "for i, column_name in enumerate(cat_cols):\n",
    "    row = i // nrows\n",
    "    col = i % ncols\n",
    "    axis = axes[row, col]\n",
    "    chart_title = \"\".join(column_name)\n",
    "    sns.countplot(train, x=column_name, hue=churn, ax=axis)\n",
    "    axis.set_title(chart_title, fontsize=8)\n",
    "    axis.set_xlabel(\"\")\n",
    "    axis.set_ylabel(\"Кол-во клиентов\", fontsize=8)\n",
    "    axis.legend((\"Активные\", \"Ушедшие\"), fontsize=8)\n",
    "    axis.set_xticklabels(axis.get_xticklabels(), rotation=45, fontsize=8)\n"
   ]
  },
  {
   "cell_type": "markdown",
   "id": "ee206cc8-f8a0-4375-b367-1d49e3eb584d",
   "metadata": {},
   "source": [
    "Заметим, что пол не влияет ни на что. уберем его"
   ]
  },
  {
   "cell_type": "code",
   "execution_count": null,
   "id": "12621b1a-8850-4c76-8956-cb936e7507dd",
   "metadata": {},
   "outputs": [],
   "source": [
    "# from scipy.stats import chi2_contingency # нашел анализ через хи квадрат\n",
    "# sex_cor = pd.crosstab(train[\"Sex\"], train[\"Churn\"])\n",
    "# chi2_contingency(sex_cor) # pvalue > 0.05 => нет зависимости, да и значение самого chi(statistic) небольшое"
   ]
  },
  {
   "cell_type": "code",
   "execution_count": null,
   "id": "e2440bf1-6807-4f6a-94dc-32a543cf657a",
   "metadata": {},
   "outputs": [],
   "source": [
    "# train.drop(\"Sex\", axis=1, inplace=True)\n",
    "# cat_cols.remove(\"Sex\")\n",
    "# commit.drop(\"Sex\", axis=1, inplace=True)"
   ]
  },
  {
   "cell_type": "markdown",
   "id": "f044b5db-46a3-4c05-9e1b-5c77e97129a2",
   "metadata": {},
   "source": [
    "Для обнаружения корреляций между признаками закодируем категориальные признаки методом labelencoding(чтобы за раз закодировать ordinalencoder)"
   ]
  },
  {
   "cell_type": "code",
   "execution_count": null,
   "id": "d005aa1b-77f5-4acd-b18a-4621e2e5494e",
   "metadata": {},
   "outputs": [],
   "source": [
    "patterns = {\n",
    "    \"No\": 0,\n",
    "    \"No internet service\": 0,\n",
    "    \"No phone service\": 0,\n",
    "    \"Yes\": 1,\n",
    "    \"Male\": 0,\n",
    "    \"Female\": 1,\n",
    "    \"DSL\": 1,\n",
    "    \"Fiber optic\": 2,\n",
    "    \"Month-to-month\": 0,\n",
    "    \"One year\": 1,\n",
    "    \"Two year\": 2,\n",
    "    \"Credit card (automatic)\": 0,\n",
    "    \"Bank transfer (automatic)\": 1,\n",
    "    \"Mailed check\": 2,\n",
    "    \"Electronic check\": 3,\n",
    "}\n",
    "\n",
    "train = train.replace(patterns)\n",
    "\n",
    "commit = commit.replace(patterns)\n",
    "\n",
    "train.head(5)"
   ]
  },
  {
   "cell_type": "markdown",
   "id": "2f0bf44c-834f-4b20-820c-5507ecdb696a",
   "metadata": {},
   "source": [
    "Построим хитмап для обнаружения корреляций"
   ]
  },
  {
   "cell_type": "code",
   "execution_count": null,
   "id": "cc780b18-83d4-4100-b4bc-299a421f15e0",
   "metadata": {},
   "outputs": [],
   "source": [
    "corr_matrix = train.corr()\n",
    "fig, axes = plt.subplots(figsize=(15, 10))\n",
    "sns.heatmap(data=corr_matrix, annot=True, cmap=\"coolwarm\", ax=axes, linewidth=.5, fmt=\".2f\")\n"
   ]
  },
  {
   "cell_type": "markdown",
   "id": "026fe7db-1c16-419d-b957-817274220ef3",
   "metadata": {},
   "source": [
    "Теперь, посмотрим распределение целевого признака "
   ]
  },
  {
   "cell_type": "code",
   "execution_count": null,
   "id": "23375dd1-9fab-40f0-8c06-18dcab7dea24",
   "metadata": {},
   "outputs": [],
   "source": [
    "train[churn].hist()"
   ]
  },
  {
   "cell_type": "markdown",
   "id": "e2737ac5-a20f-4990-8fd0-97cbc0a96604",
   "metadata": {},
   "source": [
    "Как мы видим, тут есть дисбаланс классов. Мы его исправим далее"
   ]
  },
  {
   "cell_type": "markdown",
   "id": "98538e99-e039-4355-b2f2-408669d480fe",
   "metadata": {},
   "source": [
    "# Подготовка данных для обучения"
   ]
  },
  {
   "cell_type": "markdown",
   "id": "007ed601-35b5-4911-97cf-659581ad0e4c",
   "metadata": {},
   "source": [
    "### Стандартизируем численные признаки"
   ]
  },
  {
   "cell_type": "code",
   "execution_count": null,
   "id": "1316e9aa-567d-43e7-b0f0-a47a360969a4",
   "metadata": {},
   "outputs": [],
   "source": [
    "# from sklearn.preprocessing import StandardScaler\n",
    "\n",
    "# cols_to_scale = num_cols\n",
    "\n",
    "# scaler = StandardScaler()\n",
    "# scaled_vals = scaler.fit_transform(train[cols_to_scale])\n",
    "\n",
    "# scaled_df = pd.DataFrame(scaled_vals, columns=cols_to_scale, index=train.index)\n",
    "\n",
    "# train[cols_to_scale] = scaled_df\n",
    "# train.head(5)"
   ]
  },
  {
   "cell_type": "code",
   "execution_count": null,
   "id": "5af7cf69-2bb8-4c4c-9127-80ab4f2bdda4",
   "metadata": {
    "scrolled": true
   },
   "outputs": [],
   "source": [
    "# scaled_vals = scaler.transform(commit[cols_to_scale])\n",
    "\n",
    "# scaled_df = pd.DataFrame(scaled_vals, columns=cols_to_scale, index=commit.index)\n",
    "\n",
    "# commit[cols_to_scale] = scaled_df\n",
    "# commit.head(5)"
   ]
  },
  {
   "cell_type": "markdown",
   "id": "f8a9d8fe-119a-464c-ab2d-ced8368daa78",
   "metadata": {},
   "source": [
    "### Разделим обучающую выборку на обучающую и контрольную"
   ]
  },
  {
   "cell_type": "code",
   "execution_count": null,
   "id": "a255147d-7124-474e-bd05-f52b3438eafd",
   "metadata": {},
   "outputs": [],
   "source": [
    "from sklearn.model_selection import train_test_split\n",
    "\n",
    "train_x, test_x, train_y, test_y = train_test_split(train.drop(columns='Churn'), train['Churn'], test_size=0.2, shuffle=False)\n",
    "train_x"
   ]
  },
  {
   "cell_type": "markdown",
   "id": "81b83758-f75c-4a91-abb0-0a032ca52640",
   "metadata": {},
   "source": [
    "### Сгенерируем синтетические данные"
   ]
  },
  {
   "cell_type": "code",
   "execution_count": null,
   "id": "7754e52e-e8f5-4bb3-b638-82cfd58ada4b",
   "metadata": {},
   "outputs": [],
   "source": [
    "# from imblearn.over_sampling import SMOTE\n",
    "\n",
    "# smote = SMOTE(random_state=42)\n",
    "\n",
    "# train_x, train_y = smote.fit_resample(train_x, train_y)\n",
    "\n",
    "# train_y.hist(bins=50) "
   ]
  },
  {
   "cell_type": "markdown",
   "id": "9e25cbb4-85c9-48c6-996e-b8b0a3e76f0c",
   "metadata": {},
   "source": [
    "### Посмотрим на основе randomforest какие признаки вносят больший вклад в целевой признак"
   ]
  },
  {
   "cell_type": "code",
   "execution_count": null,
   "id": "226d78b9-f871-4f89-8db1-f47590a9055f",
   "metadata": {},
   "outputs": [],
   "source": [
    "from sklearn.ensemble import RandomForestClassifier\n",
    "\n",
    "clf = RandomForestClassifier(n_estimators=1000, min_impurity_decrease=0.001)\n",
    "clf.fit(train_x, train_y)\n",
    "pd.DataFrame(clf.feature_importances_, index=train_x.columns, columns=[\"importance\"]) \\\n",
    "    .sort_values(\"importance\") \\\n",
    "    .plot(kind=\"barh\", legend=False, figsize=(12, 8));\n",
    "plt.title(\"Feature importance\");"
   ]
  },
  {
   "cell_type": "markdown",
   "id": "43fe4ce8-5184-4ca2-b840-8741dbeec4ba",
   "metadata": {},
   "source": [
    "# Обучение моделей\n",
    "Обучать будем catboost, xgboost, logisticregression так как они показали наилучший результат в ноутбуке classif. Реализацию других моделей можно будет посмотреть там"
   ]
  },
  {
   "cell_type": "code",
   "execution_count": null,
   "id": "85c4ac05-c081-4ae3-b87a-c1be837e15e6",
   "metadata": {},
   "outputs": [],
   "source": [
    "from sklearn.metrics import roc_auc_score"
   ]
  },
  {
   "cell_type": "markdown",
   "id": "36f31e36-5c7e-4fbd-9366-1ff9c1bf1e9b",
   "metadata": {},
   "source": [
    "### Логистическая регрессия"
   ]
  },
  {
   "cell_type": "markdown",
   "id": "e3af1b24-7b71-4fb0-8aae-6c2bf8769db8",
   "metadata": {},
   "source": [
    "##### Обучение логистической регрессии"
   ]
  },
  {
   "cell_type": "code",
   "execution_count": null,
   "id": "5fc8b975-9f27-4056-a8b4-430f3cf3b535",
   "metadata": {
    "scrolled": true
   },
   "outputs": [],
   "source": [
    "# import optuna\n",
    "# from optuna.integration import catboost as ocb\n",
    "# from sklearn.linear_model import LogisticRegression\n",
    "# from optuna.pruners import SuccessiveHalvingPruner # обрезаем плохие модели\n",
    "\n",
    "\n",
    "# def objective(trial):\n",
    "#     c = trial.suggest_float('c', 0.01, 1)\n",
    "#     itr = trial.suggest_int('itr', 1, 1000)\n",
    "#     # l1_rat = trial.suggest_float('l1_rat', 0.01, 1)\n",
    "    \n",
    "#     lr_model = LogisticRegression(penalty=\"l1\", solver=\"saga\", max_iter=itr, random_state=42, C=c)\n",
    "\n",
    "    \n",
    "#     lr_model.fit(train_x, train_y)\n",
    "    \n",
    "#     return roc_auc_score(test_y, lr_model.predict(test_x))\n",
    "\n",
    "# study = optuna.create_study(direction=\"maximize\", pruner=SuccessiveHalvingPruner())\n",
    "# study.optimize(objective, n_trials=300, n_jobs=-1)\n",
    "\n",
    "# print(\"Лучший ROC-AUC:\", study.best_value)\n",
    "# print(\"Лучшие параметры:\", study.best_params)"
   ]
  },
  {
   "cell_type": "code",
   "execution_count": null,
   "id": "a78e16e8-60af-4386-a7e8-f84b3611ad31",
   "metadata": {},
   "outputs": [],
   "source": [
    "from sklearn.linear_model import LogisticRegression\n",
    "\n",
    "\n",
    "lr_model =  LogisticRegression(penalty=\"l1\", solver=\"saga\", max_iter=1000, random_state=42, C=1.734)\n",
    "\n",
    "lr_model.fit(train_x, train_y)\n"
   ]
  },
  {
   "cell_type": "code",
   "execution_count": null,
   "id": "2436e472-8f63-48a7-9fd7-8fd74baa8f0c",
   "metadata": {},
   "outputs": [],
   "source": [
    "roc_auc_score(test_y, lr_model.predict(test_x))\n"
   ]
  },
  {
   "cell_type": "markdown",
   "id": "0c9590d0-fefd-44ed-8a3b-61deb6906d81",
   "metadata": {},
   "source": [
    "Как мы видим, при наборе параметров {'c': 0.44697610690114725, 'itr': 998, 'l1_rat': 0.8477676487546828}\n",
    "\n",
    "Результат 0.692"
   ]
  },
  {
   "cell_type": "markdown",
   "id": "84b5cc92-5bea-4b55-ae7c-019f6f1639b7",
   "metadata": {},
   "source": [
    "##### Матрица ошибок"
   ]
  },
  {
   "cell_type": "code",
   "execution_count": null,
   "id": "0f37e1af-e6ae-4b97-bd61-2180e46f3b28",
   "metadata": {},
   "outputs": [],
   "source": [
    "import seaborn as sns\n",
    "from sklearn.metrics import confusion_matrix"
   ]
  },
  {
   "cell_type": "code",
   "execution_count": null,
   "id": "b14f6020-7647-466b-b336-0b7c63b6c009",
   "metadata": {},
   "outputs": [],
   "source": [
    "cm_lr = confusion_matrix(test_y ,lr_model.predict(test_x))\n",
    "sns.heatmap(cm_lr, annot=True, fmt='d')\n",
    "plt.title(\"cm logr\")\n",
    "plt.xlabel('prediction')\n",
    "plt.ylabel('true values')"
   ]
  },
  {
   "cell_type": "markdown",
   "id": "44c55904-5bb0-4a9c-a798-5b201b04b543",
   "metadata": {},
   "source": [
    "### CatBoost"
   ]
  },
  {
   "cell_type": "markdown",
   "id": "40d26e01-fa15-42a2-bf62-4001bbbab24c",
   "metadata": {},
   "source": [
    "##### Обучение catboost(использую или optuna)"
   ]
  },
  {
   "cell_type": "code",
   "execution_count": null,
   "id": "228abe5a-c884-4481-b4e5-6b7c0917db38",
   "metadata": {
    "scrolled": true
   },
   "outputs": [],
   "source": [
    "# import optuna\n",
    "# from optuna.integration import catboost as ocb\n",
    "# from catboost import CatBoostClassifier\n",
    "\n",
    "# def objective(trial):\n",
    "#     lr = trial.suggest_float('lr', 0.01, 1)\n",
    "#     itr = trial.suggest_int('itr', 1, 800)\n",
    "#     dpt = trial.suggest_int('dpt', 2, 10)\n",
    "    \n",
    "#     cb_model = CatBoostClassifier(iterations=itr, learning_rate=lr, verbose=False, depth=dpt,\n",
    "#                             eval_metric = 'AUC', early_stopping_rounds=30, thread_count=6, task_type='GPU', loss_function='CrossEntropy')\n",
    "\n",
    "    \n",
    "#     cb_model.fit(train_x, train_y)\n",
    "    \n",
    "#     return roc_auc_score(test_y, cb_model.predict(test_x))\n",
    "\n",
    "# study = optuna.create_study(direction=\"maximize\", pruner=\"Hyperband\")\n",
    "# study.optimize(objective, n_trials=700, n_jobs=-1)\n",
    "\n",
    "# print(\"Лучший ROC-AUC:\", study.best_value)\n",
    "# print(\"Лучшие параметры:\", study.best_params)"
   ]
  },
  {
   "cell_type": "code",
   "execution_count": 207,
   "id": "0bb99506-802b-42aa-8eaa-ab1907fea4df",
   "metadata": {},
   "outputs": [
    {
     "name": "stdout",
     "output_type": "stream",
     "text": [
      "0:\tlearn: 0.6583756\ttotal: 3.97ms\tremaining: 988ms\n",
      "249:\tlearn: 0.3750538\ttotal: 788ms\tremaining: 0us\n"
     ]
    },
    {
     "data": {
      "text/plain": [
       "<catboost.core.CatBoostClassifier at 0x16573fd89d0>"
      ]
     },
     "execution_count": 207,
     "metadata": {},
     "output_type": "execute_result"
    }
   ],
   "source": [
    "from catboost import CatBoostClassifier\n",
    "\n",
    "# cat_features = train_x.select_dtypes(include=[\"object\", \"category\"]).columns.tolist()\n",
    "\n",
    "cb_model = CatBoostClassifier(depth= 4,\n",
    " grow_policy ='Lossguide',\n",
    " iterations = 250,\n",
    " l2_leaf_reg = 10,\n",
    " learning_rate =0.05,\n",
    " metric_period = 1000,\n",
    " min_data_in_leaf =100,\n",
    " random_seed =0,\n",
    " random_strength =5,\n",
    " subsample = 0.6\n",
    " \n",
    "    )\n",
    "\n",
    "cb_model.fit(train_x, train_y)\n"
   ]
  },
  {
   "cell_type": "code",
   "execution_count": 208,
   "id": "4eabedb5-869d-4112-a1a4-81e2939a0676",
   "metadata": {},
   "outputs": [
    {
     "data": {
      "text/plain": [
       "0.7167206851303167"
      ]
     },
     "execution_count": 208,
     "metadata": {},
     "output_type": "execute_result"
    }
   ],
   "source": [
    "roc_auc_score(test_y, cb_model.predict(test_x))"
   ]
  },
  {
   "cell_type": "markdown",
   "id": "81c599c8-6376-4a70-a6a5-6e38129fddc1",
   "metadata": {},
   "source": [
    "Лучший ROC-AUC: 0.7581108839089893\n",
    "\n",
    "Лучшие параметры: {'lr': 0.02731100461738269, 'itr': 35, 'dpt': 5}"
   ]
  },
  {
   "cell_type": "markdown",
   "id": "038107aa-5624-4425-89db-8e0f275e4aa1",
   "metadata": {},
   "source": [
    "##### Матрица ошибок"
   ]
  },
  {
   "cell_type": "code",
   "execution_count": 45,
   "id": "c8fcab41-974c-43ba-a2af-9910ed357126",
   "metadata": {},
   "outputs": [
    {
     "data": {
      "text/plain": [
       "Text(50.722222222222214, 0.5, 'true values')"
      ]
     },
     "execution_count": 45,
     "metadata": {},
     "output_type": "execute_result"
    },
    {
     "data": {
      "image/png": "[encoded data removed]",
      "text/plain": [
       "<Figure size 640x480 with 2 Axes>"
      ]
     },
     "metadata": {},
     "output_type": "display_data"
    }
   ],
   "source": [
    "cm_cb = confusion_matrix(test_y ,cb_model.predict(test_x))\n",
    "sns.heatmap(cm_cb, annot=True, fmt='d')\n",
    "plt.title(\"cm cb\")\n",
    "plt.xlabel('prediction')\n",
    "plt.ylabel('true values')"
   ]
  },
  {
   "cell_type": "markdown",
   "id": "b72f5ad5-2fcb-452b-a0c0-3f77cffb341d",
   "metadata": {},
   "source": [
    "### XGBoost"
   ]
  },
  {
   "cell_type": "markdown",
   "id": "1f6af067-4251-4e47-ab9a-9de099168f8a",
   "metadata": {},
   "source": [
    "Обучение XGBoost(используем optuna)"
   ]
  },
  {
   "cell_type": "code",
   "execution_count": 46,
   "id": "c3697a06-19c3-4e35-9a86-1b481acddf96",
   "metadata": {
    "scrolled": true
   },
   "outputs": [
    {
     "name": "stderr",
     "output_type": "stream",
     "text": [
      "[I 2025-07-13 04:25:04,055] A new study created in memory with name: no-name-3286094e-d023-4628-8f4b-e3e6e678c42b\n",
      "[I 2025-07-13 04:25:04,526] Trial 0 finished with value: 0.7336565167596341 and parameters: {'eta': 0.22685280322196336, 'dpt': 3, 'mcat': 3, 'nest': 213, 'mlvs': 3}. Best is trial 0 with value: 0.7336565167596341.\n",
      "[I 2025-07-13 04:25:04,798] Trial 1 finished with value: 0.7395313144801939 and parameters: {'eta': 0.34197334347166053, 'dpt': 5, 'mcat': 3, 'nest': 297, 'mlvs': 2}. Best is trial 1 with value: 0.7395313144801939.\n",
      "[I 2025-07-13 04:25:05,361] Trial 2 finished with value: 0.7116526867810096 and parameters: {'eta': 0.2795156955053917, 'dpt': 4, 'mcat': 1, 'nest': 330, 'mlvs': 6}. Best is trial 1 with value: 0.7395313144801939.\n",
      "[I 2025-07-13 04:25:05,851] Trial 3 finished with value: 0.7114509869381964 and parameters: {'eta': 0.4006591756758787, 'dpt': 4, 'mcat': 2, 'nest': 288, 'mlvs': 5}. Best is trial 1 with value: 0.7395313144801939.\n",
      "[I 2025-07-13 04:25:06,009] Trial 4 finished with value: 0.7418752057570235 and parameters: {'eta': 0.2633922469183861, 'dpt': 5, 'mcat': 1, 'nest': 181, 'mlvs': 2}. Best is trial 4 with value: 0.7418752057570235.\n",
      "[I 2025-07-13 04:25:06,526] Trial 5 finished with value: 0.7022469826167194 and parameters: {'eta': 0.5598422930146583, 'dpt': 3, 'mcat': 2, 'nest': 299, 'mlvs': 6}. Best is trial 4 with value: 0.7418752057570235.\n",
      "[I 2025-07-13 04:25:06,781] Trial 6 finished with value: 0.7395846374271446 and parameters: {'eta': 0.0436738115413846, 'dpt': 3, 'mcat': 3, 'nest': 193, 'mlvs': 4}. Best is trial 4 with value: 0.7418752057570235.\n",
      "[I 2025-07-13 04:25:06,995] Trial 7 finished with value: 0.5 and parameters: {'eta': 0.7554074653042733, 'dpt': 3, 'mcat': 4, 'nest': 310, 'mlvs': 1}. Best is trial 4 with value: 0.7418752057570235.\n",
      "[I 2025-07-13 04:25:07,243] Trial 8 finished with value: 0.723348959275179 and parameters: {'eta': 0.13793881248111364, 'dpt': 4, 'mcat': 5, 'nest': 195, 'mlvs': 5}. Best is trial 4 with value: 0.7418752057570235.\n",
      "[I 2025-07-13 04:25:07,393] Trial 9 finished with value: 0.721705221475701 and parameters: {'eta': 0.21441800927758903, 'dpt': 5, 'mcat': 4, 'nest': 105, 'mlvs': 6}. Best is trial 4 with value: 0.7418752057570235.\n",
      "[I 2025-07-13 04:25:07,484] Trial 10 finished with value: 0.5 and parameters: {'eta': 0.9164049878096363, 'dpt': 2, 'mcat': 1, 'nest': 54, 'mlvs': 1}. Best is trial 4 with value: 0.7418752057570235.\n",
      "[I 2025-07-13 04:25:07,761] Trial 11 finished with value: 0.7562468991547154 and parameters: {'eta': 0.013547019449086161, 'dpt': 2, 'mcat': 2, 'nest': 158, 'mlvs': 3}. Best is trial 11 with value: 0.7562468991547154.\n",
      "[I 2025-07-13 04:25:07,991] Trial 12 finished with value: 0.7511557169154297 and parameters: {'eta': 0.039221588505821796, 'dpt': 2, 'mcat': 2, 'nest': 137, 'mlvs': 3}. Best is trial 11 with value: 0.7562468991547154.\n",
      "[I 2025-07-13 04:25:08,182] Trial 13 finished with value: 0.7552499918856386 and parameters: {'eta': 0.017923695021482798, 'dpt': 2, 'mcat': 2, 'nest': 124, 'mlvs': 3}. Best is trial 11 with value: 0.7562468991547154.\n",
      "[I 2025-07-13 04:25:08,665] Trial 14 finished with value: 0.7150352163288773 and parameters: {'eta': 0.5801827855107745, 'dpt': 2, 'mcat': 2, 'nest': 386, 'mlvs': 3}. Best is trial 11 with value: 0.7562468991547154.\n",
      "[I 2025-07-13 04:25:08,841] Trial 15 finished with value: 0.7483968340079845 and parameters: {'eta': 0.058493175387560825, 'dpt': 2, 'mcat': 2, 'nest': 111, 'mlvs': 4}. Best is trial 11 with value: 0.7562468991547154.\n",
      "[I 2025-07-13 04:25:08,948] Trial 16 finished with value: 0.7499455178585506 and parameters: {'eta': 0.4424265488388637, 'dpt': 2, 'mcat': 4, 'nest': 58, 'mlvs': 2}. Best is trial 11 with value: 0.7562468991547154.\n",
      "[I 2025-07-13 04:25:09,170] Trial 17 finished with value: 0.7342500243430845 and parameters: {'eta': 0.14583156930496632, 'dpt': 2, 'mcat': 1, 'nest': 151, 'mlvs': 7}. Best is trial 11 with value: 0.7562468991547154.\n",
      "[I 2025-07-13 04:25:09,481] Trial 18 finished with value: 0.7122995173114106 and parameters: {'eta': 0.6985729786050916, 'dpt': 3, 'mcat': 3, 'nest': 259, 'mlvs': 4}. Best is trial 11 with value: 0.7562468991547154.\n",
      "[I 2025-07-13 04:25:09,712] Trial 19 finished with value: 0.7374007149911669 and parameters: {'eta': 0.15024690364321408, 'dpt': 2, 'mcat': 2, 'nest': 96, 'mlvs': 3}. Best is trial 11 with value: 0.7562468991547154.\n",
      "[I 2025-07-13 04:25:09,949] Trial 20 finished with value: 0.7214084676839758 and parameters: {'eta': 0.9771089134833523, 'dpt': 3, 'mcat': 3, 'nest': 240, 'mlvs': 2}. Best is trial 11 with value: 0.7562468991547154.\n",
      "[I 2025-07-13 04:25:10,181] Trial 21 finished with value: 0.7545081074063256 and parameters: {'eta': 0.011040721057895482, 'dpt': 2, 'mcat': 2, 'nest': 147, 'mlvs': 3}. Best is trial 11 with value: 0.7562468991547154.\n",
      "[I 2025-07-13 04:25:10,413] Trial 22 finished with value: 0.7475181645777982 and parameters: {'eta': 0.013282990313158164, 'dpt': 2, 'mcat': 2, 'nest': 158, 'mlvs': 4}. Best is trial 11 with value: 0.7562468991547154.\n",
      "[I 2025-07-13 04:25:10,664] Trial 23 finished with value: 0.7364038077220901 and parameters: {'eta': 0.11162428963227908, 'dpt': 2, 'mcat': 1, 'nest': 131, 'mlvs': 3}. Best is trial 11 with value: 0.7562468991547154.\n",
      "[I 2025-07-13 04:25:10,810] Trial 24 finished with value: 0.7518558703927815 and parameters: {'eta': 0.010452257673637055, 'dpt': 2, 'mcat': 2, 'nest': 79, 'mlvs': 5}. Best is trial 11 with value: 0.7562468991547154.\n",
      "[I 2025-07-13 04:25:10,994] Trial 25 finished with value: 0.745862834833331 and parameters: {'eta': 0.18626004493537457, 'dpt': 3, 'mcat': 2, 'nest': 172, 'mlvs': 2}. Best is trial 11 with value: 0.7562468991547154.\n",
      "[I 2025-07-13 04:25:11,187] Trial 26 finished with value: 0.7398929831638591 and parameters: {'eta': 0.08044934330292641, 'dpt': 2, 'mcat': 1, 'nest': 121, 'mlvs': 3}. Best is trial 11 with value: 0.7562468991547154.\n",
      "[I 2025-07-13 04:25:11,384] Trial 27 finished with value: 0.5 and parameters: {'eta': 0.3091482968426271, 'dpt': 3, 'mcat': 3, 'nest': 221, 'mlvs': 1}. Best is trial 11 with value: 0.7562468991547154.\n",
      "[I 2025-07-13 04:25:11,554] Trial 28 finished with value: 0.7443141509827651 and parameters: {'eta': 0.10494951635256519, 'dpt': 2, 'mcat': 2, 'nest': 82, 'mlvs': 4}. Best is trial 11 with value: 0.7562468991547154.\n",
      "[I 2025-07-13 04:25:11,846] Trial 29 finished with value: 0.7330096862292331 and parameters: {'eta': 0.2165726370046454, 'dpt': 3, 'mcat': 3, 'nest': 207, 'mlvs': 3}. Best is trial 11 with value: 0.7562468991547154.\n",
      "[I 2025-07-13 04:25:12,011] Trial 30 finished with value: 0.7410266753838093 and parameters: {'eta': 0.3583042638951096, 'dpt': 4, 'mcat': 5, 'nest': 155, 'mlvs': 2}. Best is trial 11 with value: 0.7562468991547154.\n",
      "[I 2025-07-13 04:25:12,161] Trial 31 finished with value: 0.7475181645777982 and parameters: {'eta': 0.02587444535109464, 'dpt': 2, 'mcat': 2, 'nest': 79, 'mlvs': 5}. Best is trial 11 with value: 0.7562468991547154.\n",
      "[I 2025-07-13 04:25:12,297] Trial 32 finished with value: 0.7518558703927815 and parameters: {'eta': 0.011025140953039334, 'dpt': 2, 'mcat': 3, 'nest': 87, 'mlvs': 5}. Best is trial 11 with value: 0.7562468991547154.\n",
      "[I 2025-07-13 04:25:12,474] Trial 33 finished with value: 0.738694376051969 and parameters: {'eta': 0.10562746295344874, 'dpt': 2, 'mcat': 2, 'nest': 135, 'mlvs': 3}. Best is trial 11 with value: 0.7562468991547154.\n",
      "[I 2025-07-13 04:25:12,666] Trial 34 finished with value: 0.7346001010817603 and parameters: {'eta': 0.1788317642459144, 'dpt': 2, 'mcat': 1, 'nest': 110, 'mlvs': 4}. Best is trial 11 with value: 0.7562468991547154.\n",
      "[I 2025-07-13 04:25:12,798] Trial 35 finished with value: 0.7320127789601562 and parameters: {'eta': 0.25321718079064565, 'dpt': 2, 'mcat': 2, 'nest': 64, 'mlvs': 5}. Best is trial 11 with value: 0.7562468991547154.\n",
      "[I 2025-07-13 04:25:13,040] Trial 36 finished with value: 0.7375374999420403 and parameters: {'eta': 0.10364964386674713, 'dpt': 2, 'mcat': 1, 'nest': 167, 'mlvs': 7}. Best is trial 11 with value: 0.7562468991547154.\n",
      "[I 2025-07-13 04:25:13,300] Trial 37 finished with value: 0.7388844839497929 and parameters: {'eta': 0.2952208287660472, 'dpt': 3, 'mcat': 2, 'nest': 243, 'mlvs': 2}. Best is trial 11 with value: 0.7562468991547154.\n",
      "[I 2025-07-13 04:25:13,678] Trial 38 finished with value: 0.7246959432829315 and parameters: {'eta': 0.06921404816109203, 'dpt': 5, 'mcat': 3, 'nest': 190, 'mlvs': 6}. Best is trial 11 with value: 0.7562468991547154.\n",
      "[I 2025-07-13 04:25:13,946] Trial 39 finished with value: 0.7163288773896795 and parameters: {'eta': 0.39944027861622977, 'dpt': 3, 'mcat': 2, 'nest': 139, 'mlvs': 5}. Best is trial 11 with value: 0.7562468991547154.\n",
      "[I 2025-07-13 04:25:14,138] Trial 40 finished with value: 0.7378342537337654 and parameters: {'eta': 0.1800188247053595, 'dpt': 3, 'mcat': 1, 'nest': 122, 'mlvs': 4}. Best is trial 11 with value: 0.7562468991547154.\n",
      "[I 2025-07-13 04:25:14,295] Trial 41 finished with value: 0.7557368535751877 and parameters: {'eta': 0.01503232349550814, 'dpt': 2, 'mcat': 3, 'nest': 79, 'mlvs': 5}. Best is trial 11 with value: 0.7562468991547154.\n",
      "[I 2025-07-13 04:25:14,453] Trial 42 finished with value: 0.7518558703927815 and parameters: {'eta': 0.010814205241525926, 'dpt': 2, 'mcat': 4, 'nest': 79, 'mlvs': 5}. Best is trial 11 with value: 0.7562468991547154.\n",
      "[I 2025-07-13 04:25:14,644] Trial 43 finished with value: 0.7463079655209188 and parameters: {'eta': 0.0721158463815117, 'dpt': 2, 'mcat': 3, 'nest': 95, 'mlvs': 6}. Best is trial 11 with value: 0.7562468991547154.\n",
      "[I 2025-07-13 04:25:14,794] Trial 44 finished with value: 0.7384509452071943 and parameters: {'eta': 0.13814114379669915, 'dpt': 2, 'mcat': 2, 'nest': 68, 'mlvs': 3}. Best is trial 11 with value: 0.7562468991547154.\n",
      "[I 2025-07-13 04:25:14,987] Trial 45 finished with value: 0.7394362605312821 and parameters: {'eta': 0.0785537110229257, 'dpt': 2, 'mcat': 4, 'nest': 110, 'mlvs': 4}. Best is trial 11 with value: 0.7562468991547154.\n",
      "[I 2025-07-13 04:25:15,338] Trial 46 finished with value: 0.6952269007312198 and parameters: {'eta': 0.7965980025085451, 'dpt': 4, 'mcat': 2, 'nest': 182, 'mlvs': 6}. Best is trial 11 with value: 0.7562468991547154.\n",
      "[I 2025-07-13 04:25:15,793] Trial 47 finished with value: 0.7397863372699578 and parameters: {'eta': 0.05100733073049786, 'dpt': 2, 'mcat': 3, 'nest': 362, 'mlvs': 3}. Best is trial 11 with value: 0.7562468991547154.\n",
      "[I 2025-07-13 04:25:15,956] Trial 48 finished with value: 0.7125962711031358 and parameters: {'eta': 0.5122241216153215, 'dpt': 2, 'mcat': 2, 'nest': 98, 'mlvs': 5}. Best is trial 11 with value: 0.7562468991547154.\n",
      "[I 2025-07-13 04:25:16,072] Trial 49 finished with value: 0.7531379395085943 and parameters: {'eta': 0.23885717409764992, 'dpt': 2, 'mcat': 2, 'nest': 51, 'mlvs': 2}. Best is trial 11 with value: 0.7562468991547154.\n",
      "[I 2025-07-13 04:25:16,184] Trial 50 finished with value: 0.5 and parameters: {'eta': 0.22075410089662512, 'dpt': 3, 'mcat': 3, 'nest': 53, 'mlvs': 1}. Best is trial 11 with value: 0.7562468991547154.\n",
      "[I 2025-07-13 04:25:16,318] Trial 51 finished with value: 0.7574339143216162 and parameters: {'eta': 0.044456680438850045, 'dpt': 2, 'mcat': 2, 'nest': 75, 'mlvs': 2}. Best is trial 51 with value: 0.7574339143216162.\n",
      "[I 2025-07-13 04:25:16,447] Trial 52 finished with value: 0.7499571098035398 and parameters: {'eta': 0.1358250012457189, 'dpt': 2, 'mcat': 2, 'nest': 65, 'mlvs': 2}. Best is trial 51 with value: 0.7574339143216162.\n",
      "[I 2025-07-13 04:25:16,640] Trial 53 finished with value: 0.7496603560118145 and parameters: {'eta': 0.047378762045315034, 'dpt': 2, 'mcat': 2, 'nest': 149, 'mlvs': 2}. Best is trial 51 with value: 0.7574339143216162.\n",
      "[I 2025-07-13 04:25:16,760] Trial 54 finished with value: 0.7522476781334186 and parameters: {'eta': 0.1563467368757269, 'dpt': 2, 'mcat': 2, 'nest': 50, 'mlvs': 2}. Best is trial 51 with value: 0.7574339143216162.\n",
      "[I 2025-07-13 04:25:16,913] Trial 55 finished with value: 0.5 and parameters: {'eta': 0.25057382634352277, 'dpt': 2, 'mcat': 1, 'nest': 123, 'mlvs': 1}. Best is trial 51 with value: 0.7574339143216162.\n",
      "[I 2025-07-13 04:25:17,089] Trial 56 finished with value: 0.7485683947938256 and parameters: {'eta': 0.05069293386436376, 'dpt': 2, 'mcat': 2, 'nest': 97, 'mlvs': 3}. Best is trial 51 with value: 0.7574339143216162.\n",
      "[I 2025-07-13 04:25:17,243] Trial 57 finished with value: 0.7249926970746567 and parameters: {'eta': 0.6371665684799848, 'dpt': 2, 'mcat': 1, 'nest': 69, 'mlvs': 3}. Best is trial 51 with value: 0.7574339143216162.\n",
      "[I 2025-07-13 04:25:17,518] Trial 58 finished with value: 0.7505923483889515 and parameters: {'eta': 0.096980490646134, 'dpt': 2, 'mcat': 5, 'nest': 276, 'mlvs': 2}. Best is trial 51 with value: 0.7574339143216162.\n",
      "[I 2025-07-13 04:25:17,696] Trial 59 finished with value: 0.755873638526061 and parameters: {'eta': 0.12791903932525384, 'dpt': 2, 'mcat': 3, 'nest': 142, 'mlvs': 2}. Best is trial 51 with value: 0.7574339143216162.\n",
      "[I 2025-07-13 04:25:17,953] Trial 60 finished with value: 0.7445807657175183 and parameters: {'eta': 0.038833515414927106, 'dpt': 3, 'mcat': 3, 'nest': 168, 'mlvs': 3}. Best is trial 51 with value: 0.7574339143216162.\n",
      "[I 2025-07-13 04:25:18,124] Trial 61 finished with value: 0.7534346933003195 and parameters: {'eta': 0.12387296583941262, 'dpt': 2, 'mcat': 4, 'nest': 143, 'mlvs': 2}. Best is trial 51 with value: 0.7574339143216162.\n",
      "[I 2025-07-13 04:25:18,318] Trial 62 finished with value: 0.5 and parameters: {'eta': 0.12344316068291863, 'dpt': 2, 'mcat': 4, 'nest': 139, 'mlvs': 1}. Best is trial 51 with value: 0.7574339143216162.\n",
      "[I 2025-07-13 04:25:18,542] Trial 63 finished with value: 0.7490552564833748 and parameters: {'eta': 0.08119514994036856, 'dpt': 2, 'mcat': 4, 'nest': 207, 'mlvs': 2}. Best is trial 51 with value: 0.7574339143216162.\n",
      "[I 2025-07-13 04:25:18,714] Trial 64 finished with value: 0.7517909555008416 and parameters: {'eta': 0.16956409048040577, 'dpt': 2, 'mcat': 3, 'nest': 120, 'mlvs': 2}. Best is trial 51 with value: 0.7574339143216162.\n",
      "[I 2025-07-13 04:25:18,948] Trial 65 finished with value: 0.7417801518081115 and parameters: {'eta': 0.04015468221695862, 'dpt': 2, 'mcat': 5, 'nest': 148, 'mlvs': 4}. Best is trial 51 with value: 0.7574339143216162.\n",
      "[I 2025-07-13 04:25:19,405] Trial 66 finished with value: 0.7351518776632494 and parameters: {'eta': 0.1953597725424463, 'dpt': 5, 'mcat': 3, 'nest': 160, 'mlvs': 3}. Best is trial 51 with value: 0.7574339143216162.\n",
      "[I 2025-07-13 04:25:19,610] Trial 67 finished with value: 0.5 and parameters: {'eta': 0.12909330477666106, 'dpt': 2, 'mcat': 3, 'nest': 186, 'mlvs': 1}. Best is trial 51 with value: 0.7574339143216162.\n",
      "[I 2025-07-13 04:25:19,871] Trial 68 finished with value: 0.7411333212777105 and parameters: {'eta': 0.07629091065318917, 'dpt': 2, 'mcat': 4, 'nest': 173, 'mlvs': 3}. Best is trial 51 with value: 0.7574339143216162.\n",
      "[I 2025-07-13 04:25:20,032] Trial 69 finished with value: 0.7478798332614633 and parameters: {'eta': 0.012720011905049317, 'dpt': 2, 'mcat': 3, 'nest': 127, 'mlvs': 2}. Best is trial 51 with value: 0.7574339143216162.\n",
      "[I 2025-07-13 04:25:20,214] Trial 70 finished with value: 0.7436139975054135 and parameters: {'eta': 0.10525327683586766, 'dpt': 2, 'mcat': 3, 'nest': 110, 'mlvs': 4}. Best is trial 51 with value: 0.7574339143216162.\n",
      "[I 2025-07-13 04:25:20,352] Trial 71 finished with value: 0.7577306681133413 and parameters: {'eta': 0.04998503436188255, 'dpt': 2, 'mcat': 2, 'nest': 88, 'mlvs': 2}. Best is trial 71 with value: 0.7577306681133413.\n",
      "[I 2025-07-13 04:25:20,490] Trial 72 finished with value: 0.760169613339083 and parameters: {'eta': 0.045861854206167174, 'dpt': 2, 'mcat': 2, 'nest': 90, 'mlvs': 2}. Best is trial 72 with value: 0.760169613339083.\n",
      "[I 2025-07-13 04:25:20,688] Trial 73 finished with value: 0.7503187784872049 and parameters: {'eta': 0.03603975764967032, 'dpt': 2, 'mcat': 2, 'nest': 92, 'mlvs': 3}. Best is trial 72 with value: 0.760169613339083.\n",
      "[I 2025-07-13 04:25:20,825] Trial 74 finished with value: 0.7541464387226604 and parameters: {'eta': 0.061467502529260025, 'dpt': 2, 'mcat': 2, 'nest': 75, 'mlvs': 2}. Best is trial 72 with value: 0.760169613339083.\n",
      "[I 2025-07-13 04:25:20,976] Trial 75 finished with value: 0.752544431925144 and parameters: {'eta': 0.09260625517003018, 'dpt': 2, 'mcat': 2, 'nest': 105, 'mlvs': 2}. Best is trial 72 with value: 0.760169613339083.\n",
      "[I 2025-07-13 04:25:21,099] Trial 76 finished with value: 0.5 and parameters: {'eta': 0.010387687943343129, 'dpt': 4, 'mcat': 2, 'nest': 85, 'mlvs': 1}. Best is trial 72 with value: 0.760169613339083.\n",
      "[I 2025-07-13 04:25:21,269] Trial 77 finished with value: 0.7442306889788424 and parameters: {'eta': 0.05938916939489416, 'dpt': 2, 'mcat': 2, 'nest': 116, 'mlvs': 3}. Best is trial 72 with value: 0.760169613339083.\n",
      "[I 2025-07-13 04:25:21,425] Trial 78 finished with value: 0.7586325214335063 and parameters: {'eta': 0.0315871404411248, 'dpt': 2, 'mcat': 2, 'nest': 102, 'mlvs': 3}. Best is trial 72 with value: 0.760169613339083.\n",
      "[I 2025-07-13 04:25:21,583] Trial 79 finished with value: 0.7477615954225727 and parameters: {'eta': 0.15077569833946702, 'dpt': 3, 'mcat': 2, 'nest': 101, 'mlvs': 2}. Best is trial 72 with value: 0.760169613339083.\n",
      "[I 2025-07-13 04:25:21,728] Trial 80 finished with value: 0.7566387068953524 and parameters: {'eta': 0.03490074916814455, 'dpt': 2, 'mcat': 2, 'nest': 87, 'mlvs': 2}. Best is trial 72 with value: 0.760169613339083.\n",
      "[I 2025-07-13 04:25:21,857] Trial 81 finished with value: 0.7572855374257536 and parameters: {'eta': 0.03506833730255114, 'dpt': 2, 'mcat': 2, 'nest': 86, 'mlvs': 2}. Best is trial 72 with value: 0.760169613339083.\n",
      "[I 2025-07-13 04:25:21,974] Trial 82 finished with value: 0.7558434994690889 and parameters: {'eta': 0.040768967536605624, 'dpt': 2, 'mcat': 2, 'nest': 61, 'mlvs': 2}. Best is trial 72 with value: 0.760169613339083.\n",
      "[I 2025-07-13 04:25:22,090] Trial 83 finished with value: 0.5 and parameters: {'eta': 0.03845875355964508, 'dpt': 2, 'mcat': 2, 'nest': 59, 'mlvs': 1}. Best is trial 72 with value: 0.760169613339083.\n",
      "[I 2025-07-13 04:25:22,219] Trial 84 finished with value: 0.7563836841055888 and parameters: {'eta': 0.07528775297651176, 'dpt': 2, 'mcat': 2, 'nest': 72, 'mlvs': 2}. Best is trial 72 with value: 0.760169613339083.\n",
      "[I 2025-07-13 04:25:22,359] Trial 85 finished with value: 0.7504555634380782 and parameters: {'eta': 0.09214454805786168, 'dpt': 2, 'mcat': 2, 'nest': 89, 'mlvs': 2}. Best is trial 72 with value: 0.760169613339083.\n",
      "[I 2025-07-13 04:25:22,492] Trial 86 finished with value: 0.7534346933003195 and parameters: {'eta': 0.19958078943758764, 'dpt': 2, 'mcat': 1, 'nest': 74, 'mlvs': 2}. Best is trial 72 with value: 0.760169613339083.\n",
      "[I 2025-07-13 04:25:22,654] Trial 87 finished with value: 0.7336565167596341 and parameters: {'eta': 0.871067027296764, 'dpt': 2, 'mcat': 2, 'nest': 91, 'mlvs': 2}. Best is trial 72 with value: 0.760169613339083.\n",
      "[I 2025-07-13 04:25:22,798] Trial 88 finished with value: 0.5 and parameters: {'eta': 0.06726946078019999, 'dpt': 2, 'mcat': 2, 'nest': 104, 'mlvs': 1}. Best is trial 72 with value: 0.760169613339083.\n",
      "[I 2025-07-13 04:25:22,938] Trial 89 finished with value: 0.7541881697246217 and parameters: {'eta': 0.10794676398680277, 'dpt': 2, 'mcat': 2, 'nest': 85, 'mlvs': 2}. Best is trial 72 with value: 0.760169613339083.\n",
      "[I 2025-07-13 04:25:23,072] Trial 90 finished with value: 0.7485985338507977 and parameters: {'eta': 0.4576009568873104, 'dpt': 2, 'mcat': 2, 'nest': 72, 'mlvs': 2}. Best is trial 72 with value: 0.760169613339083.\n",
      "[I 2025-07-13 04:25:23,195] Trial 91 finished with value: 0.7490251174264028 and parameters: {'eta': 0.0393439022492992, 'dpt': 2, 'mcat': 2, 'nest': 62, 'mlvs': 2}. Best is trial 72 with value: 0.760169613339083.\n",
      "[I 2025-07-13 04:25:23,311] Trial 92 finished with value: 0.7565853839484019 and parameters: {'eta': 0.0740004439361418, 'dpt': 2, 'mcat': 2, 'nest': 58, 'mlvs': 2}. Best is trial 72 with value: 0.760169613339083.\n",
      "[I 2025-07-13 04:25:23,441] Trial 93 finished with value: 0.7571788915318522 and parameters: {'eta': 0.06875895085928359, 'dpt': 2, 'mcat': 2, 'nest': 84, 'mlvs': 2}. Best is trial 72 with value: 0.760169613339083.\n",
      "[I 2025-07-13 04:25:23,579] Trial 94 finished with value: 0.7560336073669128 and parameters: {'eta': 0.0689284112727723, 'dpt': 2, 'mcat': 2, 'nest': 83, 'mlvs': 2}. Best is trial 72 with value: 0.760169613339083.\n",
      "[I 2025-07-13 04:25:23,699] Trial 95 finished with value: 0.5 and parameters: {'eta': 0.08500245059440859, 'dpt': 2, 'mcat': 2, 'nest': 57, 'mlvs': 1}. Best is trial 72 with value: 0.760169613339083.\n",
      "[I 2025-07-13 04:25:23,816] Trial 96 finished with value: 0.7533396393514075 and parameters: {'eta': 0.16568102103644958, 'dpt': 2, 'mcat': 2, 'nest': 71, 'mlvs': 2}. Best is trial 72 with value: 0.760169613339083.\n",
      "[I 2025-07-13 04:25:23,957] Trial 97 finished with value: 0.7539030078778858 and parameters: {'eta': 0.02520506082393424, 'dpt': 2, 'mcat': 2, 'nest': 96, 'mlvs': 2}. Best is trial 72 with value: 0.760169613339083.\n",
      "[I 2025-07-13 04:25:24,091] Trial 98 finished with value: 0.7619617280344235 and parameters: {'eta': 0.05379656513653722, 'dpt': 2, 'mcat': 2, 'nest': 77, 'mlvs': 2}. Best is trial 98 with value: 0.7619617280344235.\n",
      "[I 2025-07-13 04:25:24,386] Trial 99 finished with value: 0.7532863164044569 and parameters: {'eta': 0.058065852326731206, 'dpt': 2, 'mcat': 2, 'nest': 311, 'mlvs': 2}. Best is trial 98 with value: 0.7619617280344235.\n",
      "[I 2025-07-13 04:25:24,513] Trial 100 finished with value: 0.5 and parameters: {'eta': 0.10339605342713182, 'dpt': 2, 'mcat': 2, 'nest': 77, 'mlvs': 1}. Best is trial 98 with value: 0.7619617280344235.\n",
      "[I 2025-07-13 04:25:24,672] Trial 101 finished with value: 0.7574339143216162 and parameters: {'eta': 0.02850707934769943, 'dpt': 2, 'mcat': 2, 'nest': 112, 'mlvs': 2}. Best is trial 98 with value: 0.7619617280344235.\n",
      "[I 2025-07-13 04:25:24,782] Trial 102 finished with value: 0.7534462852453088 and parameters: {'eta': 0.08373011611764873, 'dpt': 2, 'mcat': 2, 'nest': 66, 'mlvs': 2}. Best is trial 98 with value: 0.7619617280344235.\n",
      "[I 2025-07-13 04:25:24,920] Trial 103 finished with value: 0.753096208506633 and parameters: {'eta': 0.05829844205206293, 'dpt': 2, 'mcat': 2, 'nest': 114, 'mlvs': 2}. Best is trial 98 with value: 0.7619617280344235.\n",
      "[I 2025-07-13 04:25:25,050] Trial 104 finished with value: 0.75649032999949 and parameters: {'eta': 0.028484684422179916, 'dpt': 2, 'mcat': 2, 'nest': 102, 'mlvs': 2}. Best is trial 98 with value: 0.7619617280344235.\n",
      "[I 2025-07-13 04:25:25,203] Trial 105 finished with value: 0.75649032999949 and parameters: {'eta': 0.024901375766503326, 'dpt': 2, 'mcat': 1, 'nest': 104, 'mlvs': 2}. Best is trial 98 with value: 0.7619617280344235.\n",
      "[I 2025-07-13 04:25:25,381] Trial 106 finished with value: 0.7544316005693963 and parameters: {'eta': 0.11316050826373286, 'dpt': 2, 'mcat': 2, 'nest': 130, 'mlvs': 2}. Best is trial 98 with value: 0.7619617280344235.\n",
      "[I 2025-07-13 04:25:25,522] Trial 107 finished with value: 0.7539864698818085 and parameters: {'eta': 0.1416151749731906, 'dpt': 2, 'mcat': 2, 'nest': 89, 'mlvs': 2}. Best is trial 98 with value: 0.7619617280344235.\n",
      "[I 2025-07-13 04:25:25,660] Trial 108 finished with value: 0.7558434994690889 and parameters: {'eta': 0.03443320493451232, 'dpt': 2, 'mcat': 2, 'nest': 82, 'mlvs': 2}. Best is trial 98 with value: 0.7619617280344235.\n",
      "[I 2025-07-13 04:25:25,843] Trial 109 finished with value: 0.750158809646353 and parameters: {'eta': 0.053070258642892325, 'dpt': 2, 'mcat': 2, 'nest': 109, 'mlvs': 3}. Best is trial 98 with value: 0.7619617280344235.\n",
      "[I 2025-07-13 04:25:25,990] Trial 110 finished with value: 0.5 and parameters: {'eta': 0.0227305282504501, 'dpt': 2, 'mcat': 2, 'nest': 100, 'mlvs': 1}. Best is trial 98 with value: 0.7619617280344235.\n",
      "[I 2025-07-13 04:25:26,129] Trial 111 finished with value: 0.7560869303138633 and parameters: {'eta': 0.051359899641094525, 'dpt': 2, 'mcat': 1, 'nest': 93, 'mlvs': 2}. Best is trial 98 with value: 0.7619617280344235.\n",
      "[I 2025-07-13 04:25:26,267] Trial 112 finished with value: 0.7553450458345505 and parameters: {'eta': 0.027017873261215682, 'dpt': 2, 'mcat': 1, 'nest': 103, 'mlvs': 2}. Best is trial 98 with value: 0.7619617280344235.\n",
      "[I 2025-07-13 04:25:26,410] Trial 113 finished with value: 0.7531912624555449 and parameters: {'eta': 0.08854153857058128, 'dpt': 2, 'mcat': 1, 'nest': 118, 'mlvs': 2}. Best is trial 98 with value: 0.7619617280344235.\n",
      "[I 2025-07-13 04:25:26,551] Trial 114 finished with value: 0.7537546309820232 and parameters: {'eta': 0.028367915637166327, 'dpt': 4, 'mcat': 1, 'nest': 80, 'mlvs': 2}. Best is trial 98 with value: 0.7619617280344235.\n",
      "[I 2025-07-13 04:25:26,698] Trial 115 finished with value: 0.7513991477602042 and parameters: {'eta': 0.11549050295865548, 'dpt': 2, 'mcat': 2, 'nest': 88, 'mlvs': 2}. Best is trial 98 with value: 0.7619617280344235.\n",
      "[I 2025-07-13 04:25:26,803] Trial 116 finished with value: 0.7554400997834623 and parameters: {'eta': 0.06692668305997465, 'dpt': 2, 'mcat': 2, 'nest': 66, 'mlvs': 2}. Best is trial 98 with value: 0.7619617280344235.\n",
      "[I 2025-07-13 04:25:26,957] Trial 117 finished with value: 0.7356503312977878 and parameters: {'eta': 0.3373225696458671, 'dpt': 2, 'mcat': 2, 'nest': 97, 'mlvs': 3}. Best is trial 98 with value: 0.7619617280344235.\n",
      "[I 2025-07-13 04:25:27,066] Trial 118 finished with value: 0.7431619116508321 and parameters: {'eta': 0.013451799486357725, 'dpt': 2, 'mcat': 2, 'nest': 55, 'mlvs': 2}. Best is trial 98 with value: 0.7619617280344235.\n",
      "[I 2025-07-13 04:25:27,262] Trial 119 finished with value: 0.7335197318087607 and parameters: {'eta': 0.09339863817819205, 'dpt': 2, 'mcat': 2, 'nest': 107, 'mlvs': 3}. Best is trial 98 with value: 0.7619617280344235.\n",
      "[I 2025-07-13 04:25:27,380] Trial 120 finished with value: 0.5 and parameters: {'eta': 0.6786483135683199, 'dpt': 2, 'mcat': 1, 'nest': 50, 'mlvs': 1}. Best is trial 98 with value: 0.7619617280344235.\n",
      "[I 2025-07-13 04:25:27,524] Trial 121 finished with value: 0.7581757988009292 and parameters: {'eta': 0.07470678600419914, 'dpt': 2, 'mcat': 2, 'nest': 73, 'mlvs': 2}. Best is trial 98 with value: 0.7619617280344235.\n",
      "[I 2025-07-13 04:25:27,668] Trial 122 finished with value: 0.7613148975040224 and parameters: {'eta': 0.050112997945607404, 'dpt': 2, 'mcat': 2, 'nest': 81, 'mlvs': 2}. Best is trial 98 with value: 0.7619617280344235.\n",
      "[I 2025-07-13 04:25:27,787] Trial 123 finished with value: 0.7624601816689618 and parameters: {'eta': 0.04743221867862777, 'dpt': 2, 'mcat': 2, 'nest': 76, 'mlvs': 2}. Best is trial 123 with value: 0.7624601816689618.\n",
      "[I 2025-07-13 04:25:27,903] Trial 124 finished with value: 0.7595227828086819 and parameters: {'eta': 0.05072583165082706, 'dpt': 2, 'mcat': 2, 'nest': 76, 'mlvs': 2}. Best is trial 123 with value: 0.7624601816689618.\n",
      "[I 2025-07-13 04:25:28,028] Trial 125 finished with value: 0.7570838375829403 and parameters: {'eta': 0.05755019827648059, 'dpt': 2, 'mcat': 2, 'nest': 77, 'mlvs': 2}. Best is trial 123 with value: 0.7624601816689618.\n",
      "[I 2025-07-13 04:25:28,159] Trial 126 finished with value: 0.750900694125666 and parameters: {'eta': 0.13033274024640257, 'dpt': 2, 'mcat': 2, 'nest': 75, 'mlvs': 2}. Best is trial 123 with value: 0.7624601816689618.\n",
      "[I 2025-07-13 04:25:28,285] Trial 127 finished with value: 0.7624601816689618 and parameters: {'eta': 0.05794266690584153, 'dpt': 2, 'mcat': 2, 'nest': 67, 'mlvs': 2}. Best is trial 123 with value: 0.7624601816689618.\n",
      "[I 2025-07-13 04:25:28,408] Trial 128 finished with value: 0.7513040938112925 and parameters: {'eta': 0.09217040132961993, 'dpt': 2, 'mcat': 2, 'nest': 68, 'mlvs': 2}. Best is trial 123 with value: 0.7624601816689618.\n",
      "[I 2025-07-13 04:25:28,531] Trial 129 finished with value: 0.7547816773080722 and parameters: {'eta': 0.15363866737402931, 'dpt': 2, 'mcat': 2, 'nest': 83, 'mlvs': 2}. Best is trial 123 with value: 0.7624601816689618.\n",
      "[I 2025-07-13 04:25:28,665] Trial 130 finished with value: 0.7580807448520173 and parameters: {'eta': 0.05078522678807721, 'dpt': 2, 'mcat': 2, 'nest': 66, 'mlvs': 2}. Best is trial 123 with value: 0.7624601816689618.\n",
      "[I 2025-07-13 04:25:28,793] Trial 131 finished with value: 0.7613148975040224 and parameters: {'eta': 0.055264936407922925, 'dpt': 2, 'mcat': 2, 'nest': 64, 'mlvs': 2}. Best is trial 123 with value: 0.7624601816689618.\n",
      "[I 2025-07-13 04:25:28,916] Trial 132 finished with value: 0.7579323679561546 and parameters: {'eta': 0.047896909094342834, 'dpt': 2, 'mcat': 2, 'nest': 63, 'mlvs': 2}. Best is trial 123 with value: 0.7624601816689618.\n",
      "[I 2025-07-13 04:25:29,031] Trial 133 finished with value: 0.7561402532608141 and parameters: {'eta': 0.04976822126843394, 'dpt': 2, 'mcat': 2, 'nest': 61, 'mlvs': 2}. Best is trial 123 with value: 0.7624601816689618.\n",
      "[I 2025-07-13 04:25:29,146] Trial 134 finished with value: 0.7431619116508321 and parameters: {'eta': 0.010969426495711497, 'dpt': 2, 'mcat': 2, 'nest': 68, 'mlvs': 2}. Best is trial 123 with value: 0.7624601816689618.\n",
      "[I 2025-07-13 04:25:29,260] Trial 135 finished with value: 0.7516008476030177 and parameters: {'eta': 0.1192904695183661, 'dpt': 2, 'mcat': 2, 'nest': 64, 'mlvs': 2}. Best is trial 123 with value: 0.7624601816689618.\n",
      "[I 2025-07-13 04:25:29,372] Trial 136 finished with value: 0.7552383999406492 and parameters: {'eta': 0.07792854575323184, 'dpt': 2, 'mcat': 2, 'nest': 72, 'mlvs': 2}. Best is trial 123 with value: 0.7624601816689618.\n",
      "[I 2025-07-13 04:25:29,504] Trial 137 finished with value: 0.7387361070539303 and parameters: {'eta': 0.5829894766535717, 'dpt': 2, 'mcat': 2, 'nest': 56, 'mlvs': 3}. Best is trial 123 with value: 0.7624601816689618.\n",
      "[I 2025-07-13 04:25:29,868] Trial 138 finished with value: 0.7517909555008416 and parameters: {'eta': 0.051023949157963336, 'dpt': 2, 'mcat': 2, 'nest': 398, 'mlvs': 2}. Best is trial 123 with value: 0.7624601816689618.\n",
      "[I 2025-07-13 04:25:30,190] Trial 139 finished with value: 0.7466580422595946 and parameters: {'eta': 0.10735915083275348, 'dpt': 2, 'mcat': 2, 'nest': 354, 'mlvs': 2}. Best is trial 123 with value: 0.7624601816689618.\n",
      "[I 2025-07-13 04:25:30,308] Trial 140 finished with value: 0.5 and parameters: {'eta': 0.04476219941933537, 'dpt': 2, 'mcat': 2, 'nest': 50, 'mlvs': 1}. Best is trial 123 with value: 0.7624601816689618.\n",
      "[I 2025-07-13 04:25:30,443] Trial 141 finished with value: 0.7540931157757098 and parameters: {'eta': 0.07316183091466655, 'dpt': 2, 'mcat': 2, 'nest': 79, 'mlvs': 2}. Best is trial 123 with value: 0.7624601816689618.\n",
      "[I 2025-07-13 04:25:30,604] Trial 142 finished with value: 0.7553450458345505 and parameters: {'eta': 0.03957525156897422, 'dpt': 2, 'mcat': 2, 'nest': 73, 'mlvs': 2}. Best is trial 123 with value: 0.7624601816689618.\n",
      "[I 2025-07-13 04:25:30,746] Trial 143 finished with value: 0.7499571098035398 and parameters: {'eta': 0.09240688707424771, 'dpt': 2, 'mcat': 2, 'nest': 93, 'mlvs': 2}. Best is trial 123 with value: 0.7624601816689618.\n",
      "[I 2025-07-13 04:25:30,862] Trial 144 finished with value: 0.7381843304724414 and parameters: {'eta': 0.9903064219666803, 'dpt': 2, 'mcat': 2, 'nest': 62, 'mlvs': 2}. Best is trial 123 with value: 0.7624601816689618.\n",
      "[I 2025-07-13 04:25:30,994] Trial 145 finished with value: 0.7545915694102483 and parameters: {'eta': 0.062521903721141, 'dpt': 2, 'mcat': 2, 'nest': 89, 'mlvs': 2}. Best is trial 123 with value: 0.7624601816689618.\n",
      "[I 2025-07-13 04:25:31,114] Trial 146 finished with value: 0.7521108931825453 and parameters: {'eta': 0.03129058818648596, 'dpt': 2, 'mcat': 2, 'nest': 78, 'mlvs': 2}. Best is trial 123 with value: 0.7624601816689618.\n",
      "[I 2025-07-13 04:25:31,248] Trial 147 finished with value: 0.7592260290169567 and parameters: {'eta': 0.04818202765799788, 'dpt': 2, 'mcat': 2, 'nest': 67, 'mlvs': 2}. Best is trial 123 with value: 0.7624601816689618.\n",
      "[I 2025-07-13 04:25:31,376] Trial 148 finished with value: 0.7540931157757098 and parameters: {'eta': 0.07997755138461216, 'dpt': 5, 'mcat': 2, 'nest': 68, 'mlvs': 2}. Best is trial 123 with value: 0.7624601816689618.\n",
      "[I 2025-07-13 04:25:31,504] Trial 149 finished with value: 0.7592793519639074 and parameters: {'eta': 0.051420936643416876, 'dpt': 2, 'mcat': 2, 'nest': 58, 'mlvs': 3}. Best is trial 123 with value: 0.7624601816689618.\n",
      "[I 2025-07-13 04:25:31,646] Trial 150 finished with value: 0.7473697876819356 and parameters: {'eta': 0.10453111668159337, 'dpt': 2, 'mcat': 2, 'nest': 58, 'mlvs': 3}. Best is trial 123 with value: 0.7624601816689618.\n",
      "[I 2025-07-13 04:25:31,763] Trial 151 finished with value: 0.7624601816689618 and parameters: {'eta': 0.054986541019761234, 'dpt': 2, 'mcat': 2, 'nest': 65, 'mlvs': 2}. Best is trial 123 with value: 0.7624601816689618.\n",
      "[I 2025-07-13 04:25:31,878] Trial 152 finished with value: 0.7592260290169567 and parameters: {'eta': 0.05338630476062223, 'dpt': 2, 'mcat': 2, 'nest': 62, 'mlvs': 2}. Best is trial 123 with value: 0.7624601816689618.\n",
      "[I 2025-07-13 04:25:31,988] Trial 153 finished with value: 0.7595227828086819 and parameters: {'eta': 0.0609153092517211, 'dpt': 2, 'mcat': 2, 'nest': 60, 'mlvs': 2}. Best is trial 123 with value: 0.7624601816689618.\n",
      "[I 2025-07-13 04:25:32,104] Trial 154 finished with value: 0.7429184808060575 and parameters: {'eta': 0.010664964573060792, 'dpt': 2, 'mcat': 2, 'nest': 50, 'mlvs': 3}. Best is trial 123 with value: 0.7624601816689618.\n",
      "[I 2025-07-13 04:25:32,219] Trial 155 finished with value: 0.7530011545577209 and parameters: {'eta': 0.07354624861637571, 'dpt': 2, 'mcat': 2, 'nest': 62, 'mlvs': 2}. Best is trial 123 with value: 0.7624601816689618.\n",
      "[I 2025-07-13 04:25:32,352] Trial 156 finished with value: 0.7485568028488363 and parameters: {'eta': 0.059743686978380416, 'dpt': 2, 'mcat': 2, 'nest': 67, 'mlvs': 4}. Best is trial 123 with value: 0.7624601816689618.\n",
      "[I 2025-07-13 04:25:32,462] Trial 157 finished with value: 0.7498620558546277 and parameters: {'eta': 0.09179641169802119, 'dpt': 2, 'mcat': 2, 'nest': 57, 'mlvs': 2}. Best is trial 123 with value: 0.7624601816689618.\n",
      "[I 2025-07-13 04:25:32,595] Trial 158 finished with value: 0.7543365466204843 and parameters: {'eta': 0.1246076318563954, 'dpt': 2, 'mcat': 2, 'nest': 72, 'mlvs': 2}. Best is trial 123 with value: 0.7624601816689618.\n",
      "[I 2025-07-13 04:25:32,709] Trial 159 finished with value: 0.7593744059128194 and parameters: {'eta': 0.05445652094131687, 'dpt': 2, 'mcat': 2, 'nest': 63, 'mlvs': 2}. Best is trial 123 with value: 0.7624601816689618.\n",
      "[I 2025-07-13 04:25:32,815] Trial 160 finished with value: 0.7606680669736214 and parameters: {'eta': 0.06705216888416292, 'dpt': 2, 'mcat': 2, 'nest': 55, 'mlvs': 2}. Best is trial 123 with value: 0.7624601816689618.\n",
      "[I 2025-07-13 04:25:32,928] Trial 161 finished with value: 0.7606680669736214 and parameters: {'eta': 0.06797077972952519, 'dpt': 2, 'mcat': 2, 'nest': 55, 'mlvs': 2}. Best is trial 123 with value: 0.7624601816689618.\n",
      "[I 2025-07-13 04:25:33,050] Trial 162 finished with value: 0.7613148975040224 and parameters: {'eta': 0.07280898336470755, 'dpt': 2, 'mcat': 2, 'nest': 56, 'mlvs': 2}. Best is trial 123 with value: 0.7624601816689618.\n",
      "[I 2025-07-13 04:25:33,159] Trial 163 finished with value: 0.7589710062271928 and parameters: {'eta': 0.10283235871233408, 'dpt': 2, 'mcat': 2, 'nest': 54, 'mlvs': 2}. Best is trial 123 with value: 0.7624601816689618.\n",
      "[I 2025-07-13 04:25:33,266] Trial 164 finished with value: 0.7505088863850287 and parameters: {'eta': 0.10370744120362271, 'dpt': 2, 'mcat': 2, 'nest': 50, 'mlvs': 2}. Best is trial 123 with value: 0.7624601816689618.\n",
      "[I 2025-07-13 04:25:33,382] Trial 165 finished with value: 0.7531495314535835 and parameters: {'eta': 0.08517760710104574, 'dpt': 2, 'mcat': 2, 'nest': 56, 'mlvs': 2}. Best is trial 123 with value: 0.7624601816689618.\n",
      "[I 2025-07-13 04:25:33,490] Trial 166 finished with value: 0.7511023939684793 and parameters: {'eta': 0.1398787181253123, 'dpt': 2, 'mcat': 2, 'nest': 55, 'mlvs': 2}. Best is trial 123 with value: 0.7624601816689618.\n",
      "[I 2025-07-13 04:25:33,618] Trial 167 finished with value: 0.7590243291741434 and parameters: {'eta': 0.06652896599378795, 'dpt': 2, 'mcat': 2, 'nest': 61, 'mlvs': 2}. Best is trial 123 with value: 0.7624601816689618.\n",
      "[I 2025-07-13 04:25:33,829] Trial 168 finished with value: 0.7519926553436548 and parameters: {'eta': 0.06692884089449594, 'dpt': 2, 'mcat': 2, 'nest': 233, 'mlvs': 2}. Best is trial 123 with value: 0.7624601816689618.\n",
      "[I 2025-07-13 04:25:33,957] Trial 169 finished with value: 0.7624601816689618 and parameters: {'eta': 0.05847685080129544, 'dpt': 2, 'mcat': 2, 'nest': 62, 'mlvs': 2}. Best is trial 123 with value: 0.7624601816689618.\n",
      "[I 2025-07-13 04:25:34,075] Trial 170 finished with value: 0.7558434994690889 and parameters: {'eta': 0.043161677683408436, 'dpt': 2, 'mcat': 2, 'nest': 67, 'mlvs': 2}. Best is trial 123 with value: 0.7624601816689618.\n",
      "[I 2025-07-13 04:25:34,185] Trial 171 finished with value: 0.7608164438694839 and parameters: {'eta': 0.06387311469537346, 'dpt': 2, 'mcat': 2, 'nest': 61, 'mlvs': 2}. Best is trial 123 with value: 0.7624601816689618.\n",
      "[I 2025-07-13 04:25:34,304] Trial 172 finished with value: 0.7521526241845067 and parameters: {'eta': 0.083332156166646, 'dpt': 2, 'mcat': 2, 'nest': 60, 'mlvs': 2}. Best is trial 123 with value: 0.7624601816689618.\n",
      "[I 2025-07-13 04:25:34,438] Trial 173 finished with value: 0.7583774986437425 and parameters: {'eta': 0.055534746035404384, 'dpt': 2, 'mcat': 2, 'nest': 78, 'mlvs': 2}. Best is trial 123 with value: 0.7624601816689618.\n",
      "[I 2025-07-13 04:25:34,561] Trial 174 finished with value: 0.7431619116508321 and parameters: {'eta': 0.010227672357708946, 'dpt': 2, 'mcat': 2, 'nest': 50, 'mlvs': 2}. Best is trial 123 with value: 0.7624601816689618.\n",
      "[I 2025-07-13 04:25:34,711] Trial 175 finished with value: 0.7521108931825453 and parameters: {'eta': 0.0316870883094904, 'dpt': 2, 'mcat': 2, 'nest': 70, 'mlvs': 2}. Best is trial 123 with value: 0.7624601816689618.\n",
      "[I 2025-07-13 04:25:34,829] Trial 176 finished with value: 0.7496603560118145 and parameters: {'eta': 0.11368256815430229, 'dpt': 2, 'mcat': 2, 'nest': 64, 'mlvs': 2}. Best is trial 123 with value: 0.7624601816689618.\n",
      "[I 2025-07-13 04:25:34,960] Trial 177 finished with value: 0.7613148975040224 and parameters: {'eta': 0.061765138380169234, 'dpt': 2, 'mcat': 2, 'nest': 58, 'mlvs': 2}. Best is trial 123 with value: 0.7624601816689618.\n",
      "[I 2025-07-13 04:25:35,104] Trial 178 finished with value: 0.7537430390370339 and parameters: {'eta': 0.08930179730129648, 'dpt': 2, 'mcat': 2, 'nest': 75, 'mlvs': 2}. Best is trial 123 with value: 0.7624601816689618.\n",
      "[I 2025-07-13 04:25:35,375] Trial 179 finished with value: 0.7508473711787154 and parameters: {'eta': 0.06784937646829779, 'dpt': 2, 'mcat': 2, 'nest': 262, 'mlvs': 2}. Best is trial 123 with value: 0.7624601816689618.\n",
      "[I 2025-07-13 04:25:35,504] Trial 180 finished with value: 0.7490251174264028 and parameters: {'eta': 0.026737686682543893, 'dpt': 2, 'mcat': 2, 'nest': 58, 'mlvs': 2}. Best is trial 123 with value: 0.7624601816689618.\n",
      "[I 2025-07-13 04:25:35,655] Trial 181 finished with value: 0.7598728595473578 and parameters: {'eta': 0.051718694979321626, 'dpt': 2, 'mcat': 2, 'nest': 63, 'mlvs': 2}. Best is trial 123 with value: 0.7624601816689618.\n",
      "[I 2025-07-13 04:25:35,787] Trial 182 finished with value: 0.7574339143216162 and parameters: {'eta': 0.04832267912523134, 'dpt': 2, 'mcat': 2, 'nest': 70, 'mlvs': 2}. Best is trial 123 with value: 0.7624601816689618.\n",
      "[I 2025-07-13 04:25:35,924] Trial 183 finished with value: 0.7519509243416934 and parameters: {'eta': 0.08080791388405859, 'dpt': 2, 'mcat': 2, 'nest': 81, 'mlvs': 2}. Best is trial 123 with value: 0.7624601816689618.\n",
      "[I 2025-07-13 04:25:36,033] Trial 184 finished with value: 0.7508172321217432 and parameters: {'eta': 0.03530572689209581, 'dpt': 2, 'mcat': 2, 'nest': 58, 'mlvs': 2}. Best is trial 123 with value: 0.7624601816689618.\n",
      "[I 2025-07-13 04:25:36,148] Trial 185 finished with value: 0.7577306681133413 and parameters: {'eta': 0.06290736421214206, 'dpt': 2, 'mcat': 2, 'nest': 67, 'mlvs': 2}. Best is trial 123 with value: 0.7624601816689618.\n",
      "[I 2025-07-13 04:25:36,291] Trial 186 finished with value: 0.7498620558546277 and parameters: {'eta': 0.09311819161118809, 'dpt': 4, 'mcat': 2, 'nest': 56, 'mlvs': 2}. Best is trial 123 with value: 0.7624601816689618.\n",
      "[I 2025-07-13 04:25:36,397] Trial 187 finished with value: 0.7501704015913422 and parameters: {'eta': 0.039367324203864205, 'dpt': 2, 'mcat': 2, 'nest': 50, 'mlvs': 2}. Best is trial 123 with value: 0.7624601816689618.\n",
      "[I 2025-07-13 04:25:36,520] Trial 188 finished with value: 0.7431619116508321 and parameters: {'eta': 0.010884442307616593, 'dpt': 2, 'mcat': 2, 'nest': 74, 'mlvs': 2}. Best is trial 123 with value: 0.7624601816689618.\n",
      "[I 2025-07-13 04:25:36,663] Trial 189 finished with value: 0.741175052279672 and parameters: {'eta': 0.7696806341651135, 'dpt': 2, 'mcat': 2, 'nest': 81, 'mlvs': 2}. Best is trial 123 with value: 0.7624601816689618.\n",
      "[I 2025-07-13 04:25:36,804] Trial 190 finished with value: 0.744569173772529 and parameters: {'eta': 0.39692701463961527, 'dpt': 2, 'mcat': 2, 'nest': 63, 'mlvs': 2}. Best is trial 123 with value: 0.7624601816689618.\n",
      "[I 2025-07-13 04:25:36,937] Trial 191 finished with value: 0.7606680669736214 and parameters: {'eta': 0.05731723504102265, 'dpt': 2, 'mcat': 2, 'nest': 63, 'mlvs': 2}. Best is trial 123 with value: 0.7624601816689618.\n",
      "[I 2025-07-13 04:25:37,058] Trial 192 finished with value: 0.7595227828086819 and parameters: {'eta': 0.06167665792247021, 'dpt': 2, 'mcat': 2, 'nest': 68, 'mlvs': 2}. Best is trial 123 with value: 0.7624601816689618.\n",
      "[I 2025-07-13 04:25:37,226] Trial 193 finished with value: 0.7439756661890786 and parameters: {'eta': 0.07086228424985859, 'dpt': 2, 'mcat': 2, 'nest': 73, 'mlvs': 7}. Best is trial 123 with value: 0.7624601816689618.\n",
      "[I 2025-07-13 04:25:37,356] Trial 194 finished with value: 0.7606680669736214 and parameters: {'eta': 0.061280851209150715, 'dpt': 2, 'mcat': 2, 'nest': 58, 'mlvs': 2}. Best is trial 123 with value: 0.7624601816689618.\n",
      "[I 2025-07-13 04:25:37,485] Trial 195 finished with value: 0.7498087329076771 and parameters: {'eta': 0.11845938632893212, 'dpt': 2, 'mcat': 2, 'nest': 64, 'mlvs': 2}. Best is trial 123 with value: 0.7624601816689618.\n",
      "[I 2025-07-13 04:25:37,642] Trial 196 finished with value: 0.7542414926715725 and parameters: {'eta': 0.08187480455305765, 'dpt': 2, 'mcat': 2, 'nest': 78, 'mlvs': 2}. Best is trial 123 with value: 0.7624601816689618.\n",
      "[I 2025-07-13 04:25:37,771] Trial 197 finished with value: 0.7605196900777589 and parameters: {'eta': 0.061759124739678116, 'dpt': 2, 'mcat': 2, 'nest': 55, 'mlvs': 2}. Best is trial 123 with value: 0.7624601816689618.\n",
      "[I 2025-07-13 04:25:37,898] Trial 198 finished with value: 0.7527994547149077 and parameters: {'eta': 0.09936759125346092, 'dpt': 2, 'mcat': 2, 'nest': 56, 'mlvs': 2}. Best is trial 123 with value: 0.7624601816689618.\n",
      "[I 2025-07-13 04:25:38,022] Trial 199 finished with value: 0.7490251174264028 and parameters: {'eta': 0.028199084271008097, 'dpt': 2, 'mcat': 2, 'nest': 50, 'mlvs': 2}. Best is trial 123 with value: 0.7624601816689618.\n",
      "[I 2025-07-13 04:25:38,157] Trial 200 finished with value: 0.7467113652065452 and parameters: {'eta': 0.28510189473818415, 'dpt': 2, 'mcat': 2, 'nest': 71, 'mlvs': 2}. Best is trial 123 with value: 0.7624601816689618.\n",
      "[I 2025-07-13 04:25:38,303] Trial 201 finished with value: 0.7590243291741434 and parameters: {'eta': 0.06729352979177082, 'dpt': 2, 'mcat': 2, 'nest': 62, 'mlvs': 2}. Best is trial 123 with value: 0.7624601816689618.\n",
      "[I 2025-07-13 04:25:38,442] Trial 202 finished with value: 0.7595227828086819 and parameters: {'eta': 0.05534680773518332, 'dpt': 2, 'mcat': 2, 'nest': 68, 'mlvs': 2}. Best is trial 123 with value: 0.7624601816689618.\n",
      "[I 2025-07-13 04:25:38,595] Trial 203 finished with value: 0.7560869303138633 and parameters: {'eta': 0.06790212351536472, 'dpt': 2, 'mcat': 2, 'nest': 70, 'mlvs': 2}. Best is trial 123 with value: 0.7624601816689618.\n",
      "[I 2025-07-13 04:25:38,744] Trial 204 finished with value: 0.7566387068953524 and parameters: {'eta': 0.03555771938498137, 'dpt': 2, 'mcat': 2, 'nest': 83, 'mlvs': 2}. Best is trial 123 with value: 0.7624601816689618.\n",
      "[I 2025-07-13 04:25:38,870] Trial 205 finished with value: 0.7537963619839845 and parameters: {'eta': 0.08656162712350397, 'dpt': 2, 'mcat': 2, 'nest': 56, 'mlvs': 2}. Best is trial 123 with value: 0.7624601816689618.\n",
      "[I 2025-07-13 04:25:39,011] Trial 206 finished with value: 0.7618133511385609 and parameters: {'eta': 0.05434234505041358, 'dpt': 2, 'mcat': 2, 'nest': 66, 'mlvs': 2}. Best is trial 123 with value: 0.7624601816689618.\n",
      "[I 2025-07-13 04:25:39,148] Trial 207 finished with value: 0.7553450458345505 and parameters: {'eta': 0.03319408885231935, 'dpt': 2, 'mcat': 2, 'nest': 76, 'mlvs': 2}. Best is trial 123 with value: 0.7624601816689618.\n",
      "[I 2025-07-13 04:25:39,277] Trial 208 finished with value: 0.7560336073669128 and parameters: {'eta': 0.10131741972531091, 'dpt': 2, 'mcat': 2, 'nest': 57, 'mlvs': 2}. Best is trial 123 with value: 0.7624601816689618.\n",
      "[I 2025-07-13 04:25:39,396] Trial 209 finished with value: 0.7613148975040224 and parameters: {'eta': 0.0751038011163137, 'dpt': 2, 'mcat': 2, 'nest': 50, 'mlvs': 2}. Best is trial 123 with value: 0.7624601816689618.\n",
      "[I 2025-07-13 04:25:39,519] Trial 210 finished with value: 0.757232214478803 and parameters: {'eta': 0.0807909230946622, 'dpt': 2, 'mcat': 2, 'nest': 50, 'mlvs': 2}. Best is trial 123 with value: 0.7624601816689618.\n",
      "[I 2025-07-13 04:25:39,673] Trial 211 finished with value: 0.7613148975040224 and parameters: {'eta': 0.06353100479930564, 'dpt': 2, 'mcat': 2, 'nest': 64, 'mlvs': 2}. Best is trial 123 with value: 0.7624601816689618.\n",
      "[I 2025-07-13 04:25:39,804] Trial 212 finished with value: 0.7553450458345505 and parameters: {'eta': 0.04334348060780152, 'dpt': 2, 'mcat': 2, 'nest': 63, 'mlvs': 2}. Best is trial 123 with value: 0.7624601816689618.\n",
      "[I 2025-07-13 04:25:39,934] Trial 213 finished with value: 0.7600212364432204 and parameters: {'eta': 0.06421434008593846, 'dpt': 2, 'mcat': 2, 'nest': 56, 'mlvs': 2}. Best is trial 123 with value: 0.7624601816689618.\n",
      "[I 2025-07-13 04:25:40,051] Trial 214 finished with value: 0.7577306681133413 and parameters: {'eta': 0.08022543708177991, 'dpt': 2, 'mcat': 2, 'nest': 55, 'mlvs': 2}. Best is trial 123 with value: 0.7624601816689618.\n",
      "[I 2025-07-13 04:25:40,165] Trial 215 finished with value: 0.7490251174264028 and parameters: {'eta': 0.022562626371380415, 'dpt': 2, 'mcat': 2, 'nest': 55, 'mlvs': 2}. Best is trial 123 with value: 0.7624601816689618.\n",
      "[I 2025-07-13 04:25:40,290] Trial 216 finished with value: 0.7574339143216162 and parameters: {'eta': 0.047840382611301004, 'dpt': 2, 'mcat': 2, 'nest': 64, 'mlvs': 2}. Best is trial 123 with value: 0.7624601816689618.\n",
      "[I 2025-07-13 04:25:40,424] Trial 217 finished with value: 0.7533929622983582 and parameters: {'eta': 0.11272078780640346, 'dpt': 2, 'mcat': 2, 'nest': 74, 'mlvs': 2}. Best is trial 123 with value: 0.7624601816689618.\n",
      "[I 2025-07-13 04:25:40,537] Trial 218 finished with value: 0.7460112117291936 and parameters: {'eta': 0.49684912748513244, 'dpt': 2, 'mcat': 2, 'nest': 51, 'mlvs': 2}. Best is trial 123 with value: 0.7624601816689618.\n",
      "[I 2025-07-13 04:25:40,676] Trial 219 finished with value: 0.755938553418001 and parameters: {'eta': 0.07343801819640022, 'dpt': 2, 'mcat': 2, 'nest': 61, 'mlvs': 2}. Best is trial 123 with value: 0.7624601816689618.\n",
      "[I 2025-07-13 04:25:40,809] Trial 220 finished with value: 0.7574756453235776 and parameters: {'eta': 0.09728998288796392, 'dpt': 2, 'mcat': 2, 'nest': 69, 'mlvs': 2}. Best is trial 123 with value: 0.7624601816689618.\n",
      "[I 2025-07-13 04:25:40,933] Trial 221 finished with value: 0.7613148975040224 and parameters: {'eta': 0.06151960455925639, 'dpt': 2, 'mcat': 2, 'nest': 60, 'mlvs': 2}. Best is trial 123 with value: 0.7624601816689618.\n",
      "[I 2025-07-13 04:25:41,045] Trial 222 finished with value: 0.7605196900777589 and parameters: {'eta': 0.05906185156882755, 'dpt': 2, 'mcat': 2, 'nest': 50, 'mlvs': 2}. Best is trial 123 with value: 0.7624601816689618.\n",
      "[I 2025-07-13 04:25:41,168] Trial 223 finished with value: 0.7595227828086819 and parameters: {'eta': 0.06784361984827905, 'dpt': 2, 'mcat': 2, 'nest': 58, 'mlvs': 2}. Best is trial 123 with value: 0.7624601816689618.\n",
      "[I 2025-07-13 04:25:41,284] Trial 224 finished with value: 0.7501704015913422 and parameters: {'eta': 0.039694916400657705, 'dpt': 2, 'mcat': 2, 'nest': 51, 'mlvs': 2}. Best is trial 123 with value: 0.7624601816689618.\n",
      "[I 2025-07-13 04:25:41,409] Trial 225 finished with value: 0.7613148975040224 and parameters: {'eta': 0.06257410476354591, 'dpt': 2, 'mcat': 2, 'nest': 61, 'mlvs': 2}. Best is trial 123 with value: 0.7624601816689618.\n",
      "[I 2025-07-13 04:25:41,531] Trial 226 finished with value: 0.7590243291741434 and parameters: {'eta': 0.07957039847939486, 'dpt': 2, 'mcat': 2, 'nest': 50, 'mlvs': 2}. Best is trial 123 with value: 0.7624601816689618.\n",
      "[I 2025-07-13 04:25:41,661] Trial 227 finished with value: 0.7490251174264028 and parameters: {'eta': 0.02432028346699816, 'dpt': 2, 'mcat': 2, 'nest': 58, 'mlvs': 2}. Best is trial 123 with value: 0.7624601816689618.\n",
      "[I 2025-07-13 04:25:41,785] Trial 228 finished with value: 0.7511557169154297 and parameters: {'eta': 0.09481917683561686, 'dpt': 2, 'mcat': 2, 'nest': 66, 'mlvs': 2}. Best is trial 123 with value: 0.7624601816689618.\n",
      "[I 2025-07-13 04:25:41,904] Trial 229 finished with value: 0.7613148975040224 and parameters: {'eta': 0.06363053732804669, 'dpt': 2, 'mcat': 2, 'nest': 57, 'mlvs': 2}. Best is trial 123 with value: 0.7624601816689618.\n",
      "[I 2025-07-13 04:25:42,027] Trial 230 finished with value: 0.7631070121993629 and parameters: {'eta': 0.06065924956039591, 'dpt': 2, 'mcat': 2, 'nest': 62, 'mlvs': 2}. Best is trial 230 with value: 0.7631070121993629.\n",
      "[I 2025-07-13 04:25:42,161] Trial 231 finished with value: 0.7624601816689618 and parameters: {'eta': 0.05941070215896967, 'dpt': 2, 'mcat': 2, 'nest': 62, 'mlvs': 2}. Best is trial 230 with value: 0.7631070121993629.\n",
      "[I 2025-07-13 04:25:42,300] Trial 232 finished with value: 0.7619617280344235 and parameters: {'eta': 0.06753827944521346, 'dpt': 2, 'mcat': 2, 'nest': 61, 'mlvs': 2}. Best is trial 230 with value: 0.7631070121993629.\n",
      "[I 2025-07-13 04:25:42,430] Trial 233 finished with value: 0.7521526241845067 and parameters: {'eta': 0.08142574604745573, 'dpt': 2, 'mcat': 2, 'nest': 64, 'mlvs': 2}. Best is trial 230 with value: 0.7631070121993629.\n",
      "[I 2025-07-13 04:25:42,570] Trial 234 finished with value: 0.7541464387226604 and parameters: {'eta': 0.07528108787970889, 'dpt': 2, 'mcat': 2, 'nest': 60, 'mlvs': 2}. Best is trial 230 with value: 0.7631070121993629.\n",
      "[I 2025-07-13 04:25:42,715] Trial 235 finished with value: 0.7572855374257536 and parameters: {'eta': 0.04391550275192352, 'dpt': 2, 'mcat': 2, 'nest': 69, 'mlvs': 2}. Best is trial 230 with value: 0.7631070121993629.\n",
      "[I 2025-07-13 04:25:42,841] Trial 236 finished with value: 0.750158809646353 and parameters: {'eta': 0.10434395350609085, 'dpt': 2, 'mcat': 2, 'nest': 60, 'mlvs': 2}. Best is trial 230 with value: 0.7631070121993629.\n",
      "[I 2025-07-13 04:25:42,976] Trial 237 finished with value: 0.7590243291741434 and parameters: {'eta': 0.06326058070629245, 'dpt': 2, 'mcat': 2, 'nest': 71, 'mlvs': 2}. Best is trial 230 with value: 0.7631070121993629.\n",
      "[I 2025-07-13 04:25:43,110] Trial 238 finished with value: 0.7511023939684793 and parameters: {'eta': 0.12595930689094964, 'dpt': 2, 'mcat': 2, 'nest': 63, 'mlvs': 2}. Best is trial 230 with value: 0.7631070121993629.\n",
      "[I 2025-07-13 04:25:43,329] Trial 239 finished with value: 0.7532445854024954 and parameters: {'eta': 0.0341099170999779, 'dpt': 2, 'mcat': 2, 'nest': 201, 'mlvs': 2}. Best is trial 230 with value: 0.7631070121993629.\n",
      "[I 2025-07-13 04:25:43,448] Trial 240 finished with value: 0.7531495314535835 and parameters: {'eta': 0.08609023778609526, 'dpt': 2, 'mcat': 2, 'nest': 56, 'mlvs': 2}. Best is trial 230 with value: 0.7631070121993629.\n",
      "[I 2025-07-13 04:25:43,560] Trial 241 finished with value: 0.742373659391562 and parameters: {'eta': 0.8407114390483266, 'dpt': 2, 'mcat': 2, 'nest': 50, 'mlvs': 2}. Best is trial 230 with value: 0.7631070121993629.\n",
      "[I 2025-07-13 04:25:43,690] Trial 242 finished with value: 0.7587275753824183 and parameters: {'eta': 0.056661581862625134, 'dpt': 2, 'mcat': 2, 'nest': 57, 'mlvs': 2}. Best is trial 230 with value: 0.7631070121993629.\n",
      "[I 2025-07-13 04:25:43,829] Trial 243 finished with value: 0.7613148975040224 and parameters: {'eta': 0.06525159685939273, 'dpt': 2, 'mcat': 2, 'nest': 65, 'mlvs': 2}. Best is trial 230 with value: 0.7631070121993629.\n",
      "[I 2025-07-13 04:25:43,966] Trial 244 finished with value: 0.7560869303138633 and parameters: {'eta': 0.06800248542233094, 'dpt': 2, 'mcat': 2, 'nest': 68, 'mlvs': 2}. Best is trial 230 with value: 0.7631070121993629.\n",
      "[I 2025-07-13 04:25:44,094] Trial 245 finished with value: 0.7631070121993629 and parameters: {'eta': 0.04790274926348268, 'dpt': 2, 'mcat': 2, 'nest': 74, 'mlvs': 2}. Best is trial 230 with value: 0.7631070121993629.\n",
      "[I 2025-07-13 04:25:44,243] Trial 246 finished with value: 0.7491619023772761 and parameters: {'eta': 0.025697429262176493, 'dpt': 2, 'mcat': 2, 'nest': 75, 'mlvs': 6}. Best is trial 230 with value: 0.7631070121993629.\n",
      "[I 2025-07-13 04:25:44,366] Trial 247 finished with value: 0.758430821590693 and parameters: {'eta': 0.04615110989180885, 'dpt': 2, 'mcat': 2, 'nest': 66, 'mlvs': 2}. Best is trial 230 with value: 0.7631070121993629.\n",
      "[I 2025-07-13 04:25:44,501] Trial 248 finished with value: 0.7367422925157766 and parameters: {'eta': 0.9425724793790384, 'dpt': 2, 'mcat': 2, 'nest': 80, 'mlvs': 2}. Best is trial 230 with value: 0.7631070121993629.\n",
      "[I 2025-07-13 04:25:44,634] Trial 249 finished with value: 0.753096208506633 and parameters: {'eta': 0.08994068720953836, 'dpt': 2, 'mcat': 2, 'nest': 71, 'mlvs': 2}. Best is trial 230 with value: 0.7631070121993629.\n",
      "[I 2025-07-13 04:25:44,754] Trial 250 finished with value: 0.7566387068953524 and parameters: {'eta': 0.046549241906494274, 'dpt': 2, 'mcat': 2, 'nest': 64, 'mlvs': 2}. Best is trial 230 with value: 0.7631070121993629.\n",
      "[I 2025-07-13 04:25:44,886] Trial 251 finished with value: 0.7523010010803692 and parameters: {'eta': 0.07843449061348699, 'dpt': 5, 'mcat': 2, 'nest': 74, 'mlvs': 2}. Best is trial 230 with value: 0.7631070121993629.\n",
      "[I 2025-07-13 04:25:45,023] Trial 252 finished with value: 0.7490251174264028 and parameters: {'eta': 0.02361728858630996, 'dpt': 2, 'mcat': 2, 'nest': 64, 'mlvs': 2}. Best is trial 230 with value: 0.7631070121993629.\n",
      "[I 2025-07-13 04:25:45,160] Trial 253 finished with value: 0.757879045009204 and parameters: {'eta': 0.05617930411834254, 'dpt': 2, 'mcat': 2, 'nest': 83, 'mlvs': 2}. Best is trial 230 with value: 0.7631070121993629.\n",
      "[I 2025-07-13 04:25:45,277] Trial 254 finished with value: 0.7527994547149077 and parameters: {'eta': 0.09646240058110198, 'dpt': 2, 'mcat': 2, 'nest': 60, 'mlvs': 2}. Best is trial 230 with value: 0.7631070121993629.\n",
      "[I 2025-07-13 04:25:45,399] Trial 255 finished with value: 0.7490251174264028 and parameters: {'eta': 0.01091031844239207, 'dpt': 4, 'mcat': 2, 'nest': 72, 'mlvs': 2}. Best is trial 230 with value: 0.7631070121993629.\n",
      "[I 2025-07-13 04:25:45,537] Trial 256 finished with value: 0.7587275753824183 and parameters: {'eta': 0.040635187644163545, 'dpt': 2, 'mcat': 2, 'nest': 78, 'mlvs': 2}. Best is trial 230 with value: 0.7631070121993629.\n",
      "[I 2025-07-13 04:25:45,680] Trial 257 finished with value: 0.7539447388798473 and parameters: {'eta': 0.07776575564653011, 'dpt': 2, 'mcat': 2, 'nest': 68, 'mlvs': 2}. Best is trial 230 with value: 0.7631070121993629.\n",
      "[I 2025-07-13 04:25:45,792] Trial 258 finished with value: 0.7613148975040224 and parameters: {'eta': 0.06107885820962163, 'dpt': 2, 'mcat': 2, 'nest': 59, 'mlvs': 2}. Best is trial 230 with value: 0.7631070121993629.\n",
      "[I 2025-07-13 04:25:45,917] Trial 259 finished with value: 0.755683530628237 and parameters: {'eta': 0.10818993258309975, 'dpt': 3, 'mcat': 2, 'nest': 61, 'mlvs': 2}. Best is trial 230 with value: 0.7631070121993629.\n",
      "[I 2025-07-13 04:25:46,046] Trial 260 finished with value: 0.75649032999949 and parameters: {'eta': 0.03857854499541913, 'dpt': 2, 'mcat': 2, 'nest': 68, 'mlvs': 2}. Best is trial 230 with value: 0.7631070121993629.\n",
      "[I 2025-07-13 04:25:46,315] Trial 261 finished with value: 0.7504972944400395 and parameters: {'eta': 0.06700600021605697, 'dpt': 2, 'mcat': 2, 'nest': 290, 'mlvs': 2}. Best is trial 230 with value: 0.7631070121993629.\n",
      "[I 2025-07-13 04:25:46,442] Trial 262 finished with value: 0.7525027009231824 and parameters: {'eta': 0.08867513603499896, 'dpt': 2, 'mcat': 2, 'nest': 55, 'mlvs': 2}. Best is trial 230 with value: 0.7631070121993629.\n",
      "[I 2025-07-13 04:25:46,577] Trial 263 finished with value: 0.7606680669736214 and parameters: {'eta': 0.048685243418229204, 'dpt': 2, 'mcat': 2, 'nest': 79, 'mlvs': 2}. Best is trial 230 with value: 0.7631070121993629.\n",
      "[I 2025-07-13 04:25:46,722] Trial 264 finished with value: 0.7513156857562815 and parameters: {'eta': 0.03088703666301853, 'dpt': 2, 'mcat': 2, 'nest': 62, 'mlvs': 2}. Best is trial 230 with value: 0.7631070121993629.\n",
      "[I 2025-07-13 04:25:46,845] Trial 265 finished with value: 0.7624601816689618 and parameters: {'eta': 0.07000876910367257, 'dpt': 2, 'mcat': 2, 'nest': 50, 'mlvs': 2}. Best is trial 230 with value: 0.7631070121993629.\n",
      "[I 2025-07-13 04:25:46,960] Trial 266 finished with value: 0.7573272684277149 and parameters: {'eta': 0.1158669318828554, 'dpt': 2, 'mcat': 2, 'nest': 50, 'mlvs': 2}. Best is trial 230 with value: 0.7631070121993629.\n",
      "[I 2025-07-13 04:25:47,076] Trial 267 finished with value: 0.760169613339083 and parameters: {'eta': 0.07510814537388653, 'dpt': 2, 'mcat': 2, 'nest': 56, 'mlvs': 2}. Best is trial 230 with value: 0.7631070121993629.\n",
      "[I 2025-07-13 04:25:47,205] Trial 268 finished with value: 0.7527461317679571 and parameters: {'eta': 0.09545432197034087, 'dpt': 2, 'mcat': 2, 'nest': 72, 'mlvs': 2}. Best is trial 230 with value: 0.7631070121993629.\n",
      "[I 2025-07-13 04:25:47,334] Trial 269 finished with value: 0.7606680669736214 and parameters: {'eta': 0.0696590267484519, 'dpt': 2, 'mcat': 2, 'nest': 56, 'mlvs': 2}. Best is trial 230 with value: 0.7631070121993629.\n",
      "[I 2025-07-13 04:25:47,457] Trial 270 finished with value: 0.7571371605298909 and parameters: {'eta': 0.045697751789012094, 'dpt': 2, 'mcat': 2, 'nest': 65, 'mlvs': 2}. Best is trial 230 with value: 0.7631070121993629.\n",
      "[I 2025-07-13 04:25:47,611] Trial 271 finished with value: 0.7506688552258806 and parameters: {'eta': 0.020253312890496727, 'dpt': 2, 'mcat': 2, 'nest': 86, 'mlvs': 2}. Best is trial 230 with value: 0.7631070121993629.\n",
      "[I 2025-07-13 04:25:47,750] Trial 272 finished with value: 0.7590243291741434 and parameters: {'eta': 0.07968979532015397, 'dpt': 2, 'mcat': 2, 'nest': 50, 'mlvs': 2}. Best is trial 230 with value: 0.7631070121993629.\n",
      "[I 2025-07-13 04:25:47,901] Trial 273 finished with value: 0.7543365466204843 and parameters: {'eta': 0.13456639705386803, 'dpt': 2, 'mcat': 2, 'nest': 73, 'mlvs': 2}. Best is trial 230 with value: 0.7631070121993629.\n",
      "[I 2025-07-13 04:25:48,043] Trial 274 finished with value: 0.7613148975040224 and parameters: {'eta': 0.062172708916588174, 'dpt': 2, 'mcat': 2, 'nest': 60, 'mlvs': 2}. Best is trial 230 with value: 0.7631070121993629.\n",
      "[I 2025-07-13 04:25:48,175] Trial 275 finished with value: 0.7546982153041495 and parameters: {'eta': 0.03877639704572043, 'dpt': 3, 'mcat': 2, 'nest': 66, 'mlvs': 2}. Best is trial 230 with value: 0.7631070121993629.\n",
      "[I 2025-07-13 04:25:48,402] Trial 276 finished with value: 0.7504022404911276 and parameters: {'eta': 0.060418869048428664, 'dpt': 2, 'mcat': 2, 'nest': 219, 'mlvs': 2}. Best is trial 230 with value: 0.7631070121993629.\n",
      "[I 2025-07-13 04:25:48,519] Trial 277 finished with value: 0.5 and parameters: {'eta': 0.10134221768381804, 'dpt': 2, 'mcat': 2, 'nest': 60, 'mlvs': 1}. Best is trial 230 with value: 0.7631070121993629.\n",
      "[I 2025-07-13 04:25:48,670] Trial 278 finished with value: 0.7508172321217432 and parameters: {'eta': 0.030267026531417152, 'dpt': 2, 'mcat': 2, 'nest': 78, 'mlvs': 2}. Best is trial 230 with value: 0.7631070121993629.\n",
      "[I 2025-07-13 04:25:48,807] Trial 279 finished with value: 0.7619617280344235 and parameters: {'eta': 0.05613909915050946, 'dpt': 2, 'mcat': 2, 'nest': 69, 'mlvs': 2}. Best is trial 230 with value: 0.7631070121993629.\n",
      "[I 2025-07-13 04:25:48,939] Trial 280 finished with value: 0.7624601816689618 and parameters: {'eta': 0.049283379335397455, 'dpt': 2, 'mcat': 2, 'nest': 72, 'mlvs': 2}. Best is trial 230 with value: 0.7631070121993629.\n",
      "[I 2025-07-13 04:25:49,071] Trial 281 finished with value: 0.744569173772529 and parameters: {'eta': 0.31891137380217016, 'dpt': 2, 'mcat': 2, 'nest': 84, 'mlvs': 2}. Best is trial 230 with value: 0.7631070121993629.\n",
      "[I 2025-07-13 04:25:49,204] Trial 282 finished with value: 0.7431619116508321 and parameters: {'eta': 0.01008562453222487, 'dpt': 2, 'mcat': 5, 'nest': 74, 'mlvs': 2}. Best is trial 230 with value: 0.7631070121993629.\n",
      "[I 2025-07-13 04:25:49,333] Trial 283 finished with value: 0.7580807448520173 and parameters: {'eta': 0.04726882880773366, 'dpt': 2, 'mcat': 2, 'nest': 70, 'mlvs': 2}. Best is trial 230 with value: 0.7631070121993629.\n",
      "[I 2025-07-13 04:25:49,473] Trial 284 finished with value: 0.7532445854024954 and parameters: {'eta': 0.0866170603958326, 'dpt': 2, 'mcat': 2, 'nest': 79, 'mlvs': 2}. Best is trial 230 with value: 0.7631070121993629.\n",
      "[I 2025-07-13 04:25:49,607] Trial 285 finished with value: 0.7417268288611609 and parameters: {'eta': 0.6083407057965409, 'dpt': 2, 'mcat': 2, 'nest': 69, 'mlvs': 2}. Best is trial 230 with value: 0.7631070121993629.\n",
      "[I 2025-07-13 04:25:49,752] Trial 286 finished with value: 0.7558434994690889 and parameters: {'eta': 0.03139527967172135, 'dpt': 2, 'mcat': 2, 'nest': 90, 'mlvs': 2}. Best is trial 230 with value: 0.7631070121993629.\n",
      "[I 2025-07-13 04:25:49,876] Trial 287 finished with value: 0.7593744059128194 and parameters: {'eta': 0.05168328801384925, 'dpt': 2, 'mcat': 2, 'nest': 66, 'mlvs': 2}. Best is trial 230 with value: 0.7631070121993629.\n",
      "[I 2025-07-13 04:25:50,179] Trial 288 finished with value: 0.749447064224012 and parameters: {'eta': 0.08006463614131236, 'dpt': 2, 'mcat': 2, 'nest': 361, 'mlvs': 2}. Best is trial 230 with value: 0.7631070121993629.\n",
      "[I 2025-07-13 04:25:50,303] Trial 289 finished with value: 0.7619617280344235 and parameters: {'eta': 0.05224514503061099, 'dpt': 2, 'mcat': 2, 'nest': 76, 'mlvs': 2}. Best is trial 230 with value: 0.7631070121993629.\n",
      "[I 2025-07-13 04:25:50,435] Trial 290 finished with value: 0.7567870837912152 and parameters: {'eta': 0.03718076555482641, 'dpt': 2, 'mcat': 2, 'nest': 84, 'mlvs': 2}. Best is trial 230 with value: 0.7631070121993629.\n",
      "[I 2025-07-13 04:25:50,560] Trial 291 finished with value: 0.7534045542433474 and parameters: {'eta': 0.02445691639328202, 'dpt': 2, 'mcat': 2, 'nest': 75, 'mlvs': 2}. Best is trial 230 with value: 0.7631070121993629.\n",
      "[I 2025-07-13 04:25:50,710] Trial 292 finished with value: 0.7583774986437425 and parameters: {'eta': 0.051924571684435344, 'dpt': 2, 'mcat': 2, 'nest': 79, 'mlvs': 2}. Best is trial 230 with value: 0.7631070121993629.\n",
      "[I 2025-07-13 04:25:50,845] Trial 293 finished with value: 0.7473697876819356 and parameters: {'eta': 0.10949853314391807, 'dpt': 2, 'mcat': 2, 'nest': 72, 'mlvs': 2}. Best is trial 230 with value: 0.7631070121993629.\n",
      "[I 2025-07-13 04:25:50,990] Trial 294 finished with value: 0.748515071846875 and parameters: {'eta': 0.08606591588128618, 'dpt': 2, 'mcat': 2, 'nest': 85, 'mlvs': 2}. Best is trial 230 with value: 0.7631070121993629.\n",
      "[I 2025-07-13 04:25:51,121] Trial 295 finished with value: 0.7593744059128194 and parameters: {'eta': 0.053528895417411446, 'dpt': 2, 'mcat': 2, 'nest': 66, 'mlvs': 2}. Best is trial 230 with value: 0.7631070121993629.\n",
      "[I 2025-07-13 04:25:51,253] Trial 296 finished with value: 0.745957888782243 and parameters: {'eta': 0.5351090562456692, 'dpt': 2, 'mcat': 2, 'nest': 76, 'mlvs': 2}. Best is trial 230 with value: 0.7631070121993629.\n",
      "[I 2025-07-13 04:25:51,395] Trial 297 finished with value: 0.7490251174264028 and parameters: {'eta': 0.010508477952073672, 'dpt': 2, 'mcat': 2, 'nest': 93, 'mlvs': 2}. Best is trial 230 with value: 0.7631070121993629.\n",
      "[I 2025-07-13 04:25:51,524] Trial 298 finished with value: 0.755938553418001 and parameters: {'eta': 0.07289311620654021, 'dpt': 2, 'mcat': 2, 'nest': 61, 'mlvs': 2}. Best is trial 230 with value: 0.7631070121993629.\n",
      "[I 2025-07-13 04:25:51,646] Trial 299 finished with value: 0.7534045542433474 and parameters: {'eta': 0.04027803016566762, 'dpt': 2, 'mcat': 2, 'nest': 50, 'mlvs': 2}. Best is trial 230 with value: 0.7631070121993629.\n",
      "[I 2025-07-13 04:25:51,784] Trial 300 finished with value: 0.7423203364446114 and parameters: {'eta': 0.6779589136105769, 'dpt': 2, 'mcat': 2, 'nest': 68, 'mlvs': 2}. Best is trial 230 with value: 0.7631070121993629.\n",
      "[I 2025-07-13 04:25:51,908] Trial 301 finished with value: 0.5 and parameters: {'eta': 0.10066915446607722, 'dpt': 2, 'mcat': 2, 'nest': 57, 'mlvs': 1}. Best is trial 230 with value: 0.7631070121993629.\n",
      "[I 2025-07-13 04:25:52,040] Trial 302 finished with value: 0.7530011545577209 and parameters: {'eta': 0.06520782566365278, 'dpt': 2, 'mcat': 2, 'nest': 72, 'mlvs': 2}. Best is trial 230 with value: 0.7631070121993629.\n",
      "[I 2025-07-13 04:25:52,170] Trial 303 finished with value: 0.7534045542433474 and parameters: {'eta': 0.029562393112669283, 'dpt': 2, 'mcat': 2, 'nest': 62, 'mlvs': 2}. Best is trial 230 with value: 0.7631070121993629.\n",
      "[I 2025-07-13 04:25:52,311] Trial 304 finished with value: 0.7520993012375561 and parameters: {'eta': 0.08707399445997654, 'dpt': 2, 'mcat': 2, 'nest': 81, 'mlvs': 2}. Best is trial 230 with value: 0.7631070121993629.\n",
      "[I 2025-07-13 04:25:52,437] Trial 305 finished with value: 0.7516008476030177 and parameters: {'eta': 0.1224369467686574, 'dpt': 2, 'mcat': 2, 'nest': 67, 'mlvs': 2}. Best is trial 230 with value: 0.7631070121993629.\n",
      "[I 2025-07-13 04:25:52,562] Trial 306 finished with value: 0.7566387068953524 and parameters: {'eta': 0.04964535256251058, 'dpt': 2, 'mcat': 2, 'nest': 57, 'mlvs': 2}. Best is trial 230 with value: 0.7631070121993629.\n",
      "[I 2025-07-13 04:25:52,709] Trial 307 finished with value: 0.7557368535751877 and parameters: {'eta': 0.06955756105188621, 'dpt': 2, 'mcat': 2, 'nest': 74, 'mlvs': 2}. Best is trial 230 with value: 0.7631070121993629.\n",
      "[I 2025-07-13 04:25:52,989] Trial 308 finished with value: 0.7510490710215286 and parameters: {'eta': 0.041809720445597096, 'dpt': 2, 'mcat': 2, 'nest': 319, 'mlvs': 2}. Best is trial 230 with value: 0.7631070121993629.\n",
      "[I 2025-07-13 04:25:53,110] Trial 309 finished with value: 0.7523010010803692 and parameters: {'eta': 0.09510797864525425, 'dpt': 3, 'mcat': 2, 'nest': 63, 'mlvs': 2}. Best is trial 230 with value: 0.7631070121993629.\n",
      "[I 2025-07-13 04:25:53,225] Trial 310 finished with value: 0.7587275753824183 and parameters: {'eta': 0.056091611289205194, 'dpt': 2, 'mcat': 2, 'nest': 55, 'mlvs': 2}. Best is trial 230 with value: 0.7631070121993629.\n",
      "[I 2025-07-13 04:25:53,338] Trial 311 finished with value: 0.7490251174264028 and parameters: {'eta': 0.024375785012066768, 'dpt': 2, 'mcat': 4, 'nest': 50, 'mlvs': 2}. Best is trial 230 with value: 0.7631070121993629.\n",
      "[I 2025-07-13 04:25:53,474] Trial 312 finished with value: 0.7539447388798473 and parameters: {'eta': 0.07481381097385421, 'dpt': 2, 'mcat': 2, 'nest': 70, 'mlvs': 2}. Best is trial 230 with value: 0.7631070121993629.\n",
      "[I 2025-07-13 04:25:53,625] Trial 313 finished with value: 0.757232214478803 and parameters: {'eta': 0.05373714315594232, 'dpt': 2, 'mcat': 2, 'nest': 88, 'mlvs': 2}. Best is trial 230 with value: 0.7631070121993629.\n",
      "[I 2025-07-13 04:25:53,771] Trial 314 finished with value: 0.7521526241845067 and parameters: {'eta': 0.08122719243147021, 'dpt': 2, 'mcat': 2, 'nest': 64, 'mlvs': 2}. Best is trial 230 with value: 0.7631070121993629.\n",
      "[I 2025-07-13 04:25:53,909] Trial 315 finished with value: 0.7521108931825453 and parameters: {'eta': 0.031336038885596953, 'dpt': 2, 'mcat': 2, 'nest': 78, 'mlvs': 2}. Best is trial 230 with value: 0.7631070121993629.\n",
      "[I 2025-07-13 04:25:54,164] Trial 316 finished with value: 0.7331580631250956 and parameters: {'eta': 0.459728359999085, 'dpt': 2, 'mcat': 2, 'nest': 262, 'mlvs': 2}. Best is trial 230 with value: 0.7631070121993629.\n",
      "[I 2025-07-13 04:25:54,304] Trial 317 finished with value: 0.7505622093319795 and parameters: {'eta': 0.010183122447509983, 'dpt': 2, 'mcat': 2, 'nest': 59, 'mlvs': 5}. Best is trial 230 with value: 0.7631070121993629.\n",
      "[I 2025-07-13 04:25:54,436] Trial 318 finished with value: 0.7540397928287592 and parameters: {'eta': 0.11442289415938084, 'dpt': 2, 'mcat': 2, 'nest': 68, 'mlvs': 2}. Best is trial 230 with value: 0.7631070121993629.\n",
      "[I 2025-07-13 04:25:54,553] Trial 319 finished with value: 0.5 and parameters: {'eta': 0.05573615607747513, 'dpt': 2, 'mcat': 2, 'nest': 57, 'mlvs': 1}. Best is trial 230 with value: 0.7631070121993629.\n",
      "[I 2025-07-13 04:25:54,700] Trial 320 finished with value: 0.7551850769936986 and parameters: {'eta': 0.09150556670378798, 'dpt': 2, 'mcat': 2, 'nest': 77, 'mlvs': 2}. Best is trial 230 with value: 0.7631070121993629.\n",
      "[I 2025-07-13 04:25:54,844] Trial 321 finished with value: 0.755938553418001 and parameters: {'eta': 0.07075605346712878, 'dpt': 2, 'mcat': 2, 'nest': 64, 'mlvs': 2}. Best is trial 230 with value: 0.7631070121993629.\n",
      "[I 2025-07-13 04:25:54,978] Trial 322 finished with value: 0.7486634487427377 and parameters: {'eta': 0.03953083568940106, 'dpt': 2, 'mcat': 2, 'nest': 50, 'mlvs': 7}. Best is trial 230 with value: 0.7631070121993629.\n",
      "[I 2025-07-13 04:25:55,106] Trial 323 finished with value: 0.7530011545577209 and parameters: {'eta': 0.06544096862316544, 'dpt': 2, 'mcat': 2, 'nest': 72, 'mlvs': 2}. Best is trial 230 with value: 0.7631070121993629.\n",
      "[I 2025-07-13 04:25:55,249] Trial 324 finished with value: 0.7541881697246217 and parameters: {'eta': 0.10215967386617353, 'dpt': 2, 'mcat': 2, 'nest': 84, 'mlvs': 2}. Best is trial 230 with value: 0.7631070121993629.\n",
      "[I 2025-07-13 04:25:55,374] Trial 325 finished with value: 0.7540513847737483 and parameters: {'eta': 0.042688378614120476, 'dpt': 2, 'mcat': 2, 'nest': 60, 'mlvs': 2}. Best is trial 230 with value: 0.7631070121993629.\n",
      "[I 2025-07-13 04:25:55,524] Trial 326 finished with value: 0.7410266753838093 and parameters: {'eta': 0.1437462485408763, 'dpt': 2, 'mcat': 2, 'nest': 68, 'mlvs': 4}. Best is trial 230 with value: 0.7631070121993629.\n",
      "[I 2025-07-13 04:25:55,655] Trial 327 finished with value: 0.7490251174264028 and parameters: {'eta': 0.025930083582267435, 'dpt': 2, 'mcat': 2, 'nest': 55, 'mlvs': 2}. Best is trial 230 with value: 0.7631070121993629.\n",
      "[I 2025-07-13 04:25:55,795] Trial 328 finished with value: 0.7581757988009292 and parameters: {'eta': 0.07296065390396655, 'dpt': 2, 'mcat': 2, 'nest': 76, 'mlvs': 2}. Best is trial 230 with value: 0.7631070121993629.\n",
      "[I 2025-07-13 04:25:56,116] Trial 329 finished with value: 0.7593744059128194 and parameters: {'eta': 0.05408539991201049, 'dpt': 2, 'mcat': 2, 'nest': 63, 'mlvs': 2}. Best is trial 230 with value: 0.7631070121993629.\n",
      "[I 2025-07-13 04:25:56,259] Trial 330 finished with value: 0.7548883232019734 and parameters: {'eta': 0.08785304744366434, 'dpt': 2, 'mcat': 2, 'nest': 71, 'mlvs': 2}. Best is trial 230 with value: 0.7631070121993629.\n",
      "[I 2025-07-13 04:25:56,381] Trial 331 finished with value: 0.7526093468170837 and parameters: {'eta': 0.039841833307807537, 'dpt': 2, 'mcat': 2, 'nest': 56, 'mlvs': 2}. Best is trial 230 with value: 0.7631070121993629.\n",
      "[I 2025-07-13 04:25:56,512] Trial 332 finished with value: 0.7613148975040224 and parameters: {'eta': 0.06372175857964162, 'dpt': 2, 'mcat': 2, 'nest': 65, 'mlvs': 2}. Best is trial 230 with value: 0.7631070121993629.\n",
      "[I 2025-07-13 04:25:56,658] Trial 333 finished with value: 0.7512507708643419 and parameters: {'eta': 0.10831154004769761, 'dpt': 2, 'mcat': 2, 'nest': 84, 'mlvs': 2}. Best is trial 230 with value: 0.7631070121993629.\n",
      "[I 2025-07-13 04:25:56,804] Trial 334 finished with value: 0.7491619023772761 and parameters: {'eta': 0.08272451063965487, 'dpt': 2, 'mcat': 2, 'nest': 92, 'mlvs': 2}. Best is trial 230 with value: 0.7631070121993629.\n",
      "[I 2025-07-13 04:25:56,923] Trial 335 finished with value: 0.7490251174264028 and parameters: {'eta': 0.024537006243575445, 'dpt': 2, 'mcat': 3, 'nest': 59, 'mlvs': 2}. Best is trial 230 with value: 0.7631070121993629.\n",
      "[I 2025-07-13 04:25:57,067] Trial 336 finished with value: 0.7590243291741434 and parameters: {'eta': 0.05471910010226964, 'dpt': 2, 'mcat': 2, 'nest': 79, 'mlvs': 2}. Best is trial 230 with value: 0.7631070121993629.\n",
      "[I 2025-07-13 04:25:57,191] Trial 337 finished with value: 0.7520877092925666 and parameters: {'eta': 0.3831895988133697, 'dpt': 2, 'mcat': 2, 'nest': 50, 'mlvs': 2}. Best is trial 230 with value: 0.7631070121993629.\n",
      "[I 2025-07-13 04:25:57,438] Trial 338 finished with value: 0.7573921833196549 and parameters: {'eta': 0.01022175306057374, 'dpt': 2, 'mcat': 2, 'nest': 179, 'mlvs': 3}. Best is trial 230 with value: 0.7631070121993629.\n",
      "[I 2025-07-13 04:25:57,688] Trial 339 finished with value: 0.7405282217492709 and parameters: {'eta': 0.24380079416653153, 'dpt': 2, 'mcat': 2, 'nest': 248, 'mlvs': 2}. Best is trial 230 with value: 0.7631070121993629.\n",
      "[I 2025-07-13 04:25:57,819] Trial 340 finished with value: 0.7568821377401271 and parameters: {'eta': 0.07250778005281716, 'dpt': 2, 'mcat': 2, 'nest': 70, 'mlvs': 2}. Best is trial 230 with value: 0.7631070121993629.\n",
      "[I 2025-07-13 04:25:57,948] Trial 341 finished with value: 0.75355293113921 and parameters: {'eta': 0.042260696529320546, 'dpt': 2, 'mcat': 2, 'nest': 62, 'mlvs': 2}. Best is trial 230 with value: 0.7631070121993629.\n",
      "[I 2025-07-13 04:25:58,085] Trial 342 finished with value: 0.7554818307854239 and parameters: {'eta': 0.12336821984552189, 'dpt': 2, 'mcat': 2, 'nest': 73, 'mlvs': 2}. Best is trial 230 with value: 0.7631070121993629.\n",
      "[I 2025-07-13 04:25:58,232] Trial 343 finished with value: 0.7550900230447867 and parameters: {'eta': 0.08918210180830614, 'dpt': 5, 'mcat': 2, 'nest': 56, 'mlvs': 2}. Best is trial 230 with value: 0.7631070121993629.\n",
      "[I 2025-07-13 04:25:58,375] Trial 344 finished with value: 0.760169613339083 and parameters: {'eta': 0.058766464696080774, 'dpt': 4, 'mcat': 2, 'nest': 66, 'mlvs': 2}. Best is trial 230 with value: 0.7631070121993629.\n",
      "[I 2025-07-13 04:25:58,526] Trial 345 finished with value: 0.7539030078778858 and parameters: {'eta': 0.03218206872883096, 'dpt': 2, 'mcat': 2, 'nest': 76, 'mlvs': 2}. Best is trial 230 with value: 0.7631070121993629.\n",
      "[I 2025-07-13 04:25:58,669] Trial 346 finished with value: 0.7613148975040224 and parameters: {'eta': 0.07295650900364098, 'dpt': 2, 'mcat': 2, 'nest': 56, 'mlvs': 2}. Best is trial 230 with value: 0.7631070121993629.\n",
      "[I 2025-07-13 04:25:58,810] Trial 347 finished with value: 0.7560869303138633 and parameters: {'eta': 0.0965645783352804, 'dpt': 2, 'mcat': 2, 'nest': 50, 'mlvs': 2}. Best is trial 230 with value: 0.7631070121993629.\n",
      "[I 2025-07-13 04:25:58,943] Trial 348 finished with value: 0.7592260290169567 and parameters: {'eta': 0.04996233435338607, 'dpt': 2, 'mcat': 2, 'nest': 64, 'mlvs': 2}. Best is trial 230 with value: 0.7631070121993629.\n",
      "[I 2025-07-13 04:25:59,119] Trial 349 finished with value: 0.7552499918856386 and parameters: {'eta': 0.02827494813358837, 'dpt': 2, 'mcat': 2, 'nest': 82, 'mlvs': 3}. Best is trial 230 with value: 0.7631070121993629.\n",
      "[I 2025-07-13 04:25:59,255] Trial 350 finished with value: 0.7565853839484019 and parameters: {'eta': 0.06588099004037773, 'dpt': 2, 'mcat': 3, 'nest': 69, 'mlvs': 2}. Best is trial 230 with value: 0.7631070121993629.\n",
      "[I 2025-07-13 04:25:59,387] Trial 351 finished with value: 0.7546982153041495 and parameters: {'eta': 0.044919556894808636, 'dpt': 2, 'mcat': 2, 'nest': 59, 'mlvs': 2}. Best is trial 230 with value: 0.7631070121993629.\n",
      "[I 2025-07-13 04:25:59,537] Trial 352 finished with value: 0.7403798448534082 and parameters: {'eta': 0.7312175462877659, 'dpt': 2, 'mcat': 2, 'nest': 74, 'mlvs': 2}. Best is trial 230 with value: 0.7631070121993629.\n",
      "[I 2025-07-13 04:25:59,693] Trial 353 finished with value: 0.7552383999406492 and parameters: {'eta': 0.08238358935133969, 'dpt': 2, 'mcat': 2, 'nest': 65, 'mlvs': 2}. Best is trial 230 with value: 0.7631070121993629.\n",
      "[I 2025-07-13 04:25:59,831] Trial 354 finished with value: 0.5 and parameters: {'eta': 0.11159039449733993, 'dpt': 2, 'mcat': 2, 'nest': 50, 'mlvs': 1}. Best is trial 230 with value: 0.7631070121993629.\n",
      "[I 2025-07-13 04:25:59,966] Trial 355 finished with value: 0.7606680669736214 and parameters: {'eta': 0.05832704414796251, 'dpt': 2, 'mcat': 2, 'nest': 61, 'mlvs': 2}. Best is trial 230 with value: 0.7631070121993629.\n",
      "[I 2025-07-13 04:26:00,121] Trial 356 finished with value: 0.7517492244988802 and parameters: {'eta': 0.09436905309856188, 'dpt': 2, 'mcat': 2, 'nest': 88, 'mlvs': 2}. Best is trial 230 with value: 0.7631070121993629.\n",
      "[I 2025-07-13 04:26:00,447] Trial 357 finished with value: 0.7549833771508854 and parameters: {'eta': 0.03036367196864271, 'dpt': 2, 'mcat': 2, 'nest': 335, 'mlvs': 2}. Best is trial 230 with value: 0.7631070121993629.\n",
      "[I 2025-07-13 04:26:00,584] Trial 358 finished with value: 0.7565853839484019 and parameters: {'eta': 0.0660244265887384, 'dpt': 2, 'mcat': 2, 'nest': 69, 'mlvs': 2}. Best is trial 230 with value: 0.7631070121993629.\n",
      "[I 2025-07-13 04:26:00,760] Trial 359 finished with value: 0.757232214478803 and parameters: {'eta': 0.04658813194457341, 'dpt': 2, 'mcat': 2, 'nest': 97, 'mlvs': 2}. Best is trial 230 with value: 0.7631070121993629.\n",
      "[I 2025-07-13 04:26:00,902] Trial 360 finished with value: 0.7524493779762319 and parameters: {'eta': 0.08305670487435902, 'dpt': 2, 'mcat': 2, 'nest': 77, 'mlvs': 2}. Best is trial 230 with value: 0.7631070121993629.\n",
      "[I 2025-07-13 04:26:01,022] Trial 361 finished with value: 0.7490251174264028 and parameters: {'eta': 0.02292179271522269, 'dpt': 2, 'mcat': 2, 'nest': 56, 'mlvs': 2}. Best is trial 230 with value: 0.7631070121993629.\n",
      "[I 2025-07-13 04:26:01,156] Trial 362 finished with value: 0.7523543240273198 and parameters: {'eta': 0.07060367314992486, 'dpt': 2, 'mcat': 2, 'nest': 65, 'mlvs': 2}. Best is trial 230 with value: 0.7631070121993629.\n",
      "[I 2025-07-13 04:26:01,300] Trial 363 finished with value: 0.7618133511385609 and parameters: {'eta': 0.045484859465325024, 'dpt': 2, 'mcat': 2, 'nest': 83, 'mlvs': 2}. Best is trial 230 with value: 0.7631070121993629.\n",
      "[I 2025-07-13 04:26:01,444] Trial 364 finished with value: 0.7580807448520173 and parameters: {'eta': 0.0400839556248159, 'dpt': 2, 'mcat': 2, 'nest': 86, 'mlvs': 2}. Best is trial 230 with value: 0.7631070121993629.\n",
      "[I 2025-07-13 04:26:01,579] Trial 365 finished with value: 0.7501704015913422 and parameters: {'eta': 0.0219291819636599, 'dpt': 2, 'mcat': 2, 'nest': 81, 'mlvs': 2}. Best is trial 230 with value: 0.7631070121993629.\n",
      "[I 2025-07-13 04:26:01,732] Trial 366 finished with value: 0.7490251174264028 and parameters: {'eta': 0.010951852073433702, 'dpt': 2, 'mcat': 2, 'nest': 93, 'mlvs': 2}. Best is trial 230 with value: 0.7631070121993629.\n",
      "[I 2025-07-13 04:26:01,872] Trial 367 finished with value: 0.7618133511385609 and parameters: {'eta': 0.04937190200072648, 'dpt': 2, 'mcat': 2, 'nest': 74, 'mlvs': 2}. Best is trial 230 with value: 0.7631070121993629.\n",
      "[I 2025-07-13 04:26:02,024] Trial 368 finished with value: 0.7611665206081598 and parameters: {'eta': 0.04359228772842669, 'dpt': 2, 'mcat': 2, 'nest': 81, 'mlvs': 2}. Best is trial 230 with value: 0.7631070121993629.\n",
      "[I 2025-07-13 04:26:02,165] Trial 369 finished with value: 0.7618133511385609 and parameters: {'eta': 0.047572674773917745, 'dpt': 2, 'mcat': 2, 'nest': 74, 'mlvs': 2}. Best is trial 230 with value: 0.7631070121993629.\n",
      "[I 2025-07-13 04:26:02,313] Trial 370 finished with value: 0.7587275753824183 and parameters: {'eta': 0.03740403348366714, 'dpt': 2, 'mcat': 2, 'nest': 89, 'mlvs': 2}. Best is trial 230 with value: 0.7631070121993629.\n",
      "[I 2025-07-13 04:26:02,446] Trial 371 finished with value: 0.7431619116508321 and parameters: {'eta': 0.010497874433882962, 'dpt': 2, 'mcat': 2, 'nest': 75, 'mlvs': 2}. Best is trial 230 with value: 0.7631070121993629.\n",
      "[I 2025-07-13 04:26:02,628] Trial 372 finished with value: 0.7528945086638197 and parameters: {'eta': 0.050021199083577314, 'dpt': 2, 'mcat': 2, 'nest': 162, 'mlvs': 2}. Best is trial 230 with value: 0.7631070121993629.\n",
      "[I 2025-07-13 04:26:02,797] Trial 373 finished with value: 0.7508056401767539 and parameters: {'eta': 0.08300970140318231, 'dpt': 4, 'mcat': 2, 'nest': 82, 'mlvs': 2}. Best is trial 230 with value: 0.7631070121993629.\n",
      "[I 2025-07-13 04:26:02,946] Trial 374 finished with value: 0.7545799774652588 and parameters: {'eta': 0.20274086245865633, 'dpt': 2, 'mcat': 2, 'nest': 75, 'mlvs': 2}. Best is trial 230 with value: 0.7631070121993629.\n",
      "[I 2025-07-13 04:26:03,107] Trial 375 finished with value: 0.5 and parameters: {'eta': 0.033292608535500964, 'dpt': 2, 'mcat': 2, 'nest': 97, 'mlvs': 1}. Best is trial 230 with value: 0.7631070121993629.\n",
      "[I 2025-07-13 04:26:03,284] Trial 376 finished with value: 0.7583774986437425 and parameters: {'eta': 0.05065933393617392, 'dpt': 2, 'mcat': 2, 'nest': 87, 'mlvs': 2}. Best is trial 230 with value: 0.7631070121993629.\n",
      "[I 2025-07-13 04:26:03,432] Trial 377 finished with value: 0.7453643811987924 and parameters: {'eta': 0.4318331129257323, 'dpt': 2, 'mcat': 2, 'nest': 72, 'mlvs': 2}. Best is trial 230 with value: 0.7631070121993629.\n",
      "[I 2025-07-13 04:26:03,593] Trial 378 finished with value: 0.7553334538895613 and parameters: {'eta': 0.10282591760459442, 'dpt': 2, 'mcat': 2, 'nest': 80, 'mlvs': 2}. Best is trial 230 with value: 0.7631070121993629.\n",
      "[I 2025-07-13 04:26:03,744] Trial 379 finished with value: 0.7563836841055888 and parameters: {'eta': 0.0768851980719634, 'dpt': 2, 'mcat': 2, 'nest': 72, 'mlvs': 2}. Best is trial 230 with value: 0.7631070121993629.\n",
      "[I 2025-07-13 04:26:03,894] Trial 380 finished with value: 0.7388960758947822 and parameters: {'eta': 0.16927024650936856, 'dpt': 3, 'mcat': 2, 'nest': 69, 'mlvs': 3}. Best is trial 230 with value: 0.7631070121993629.\n",
      "[I 2025-07-13 04:26:04,031] Trial 381 finished with value: 0.7583774986437425 and parameters: {'eta': 0.05428892945178442, 'dpt': 2, 'mcat': 2, 'nest': 78, 'mlvs': 2}. Best is trial 230 with value: 0.7631070121993629.\n",
      "[I 2025-07-13 04:26:04,172] Trial 382 finished with value: 0.7519625162866826 and parameters: {'eta': 0.02946402542161059, 'dpt': 2, 'mcat': 1, 'nest': 69, 'mlvs': 2}. Best is trial 230 with value: 0.7631070121993629.\n",
      "[I 2025-07-13 04:26:04,325] Trial 383 finished with value: 0.7524493779762319 and parameters: {'eta': 0.07152622305367143, 'dpt': 2, 'mcat': 2, 'nest': 86, 'mlvs': 2}. Best is trial 230 with value: 0.7631070121993629.\n",
      "[I 2025-07-13 04:26:04,466] Trial 384 finished with value: 0.7491619023772761 and parameters: {'eta': 0.09519864907458021, 'dpt': 2, 'mcat': 2, 'nest': 77, 'mlvs': 2}. Best is trial 230 with value: 0.7631070121993629.\n",
      "[I 2025-07-13 04:26:04,598] Trial 385 finished with value: 0.7553450458345505 and parameters: {'eta': 0.04419377782989078, 'dpt': 2, 'mcat': 2, 'nest': 65, 'mlvs': 2}. Best is trial 230 with value: 0.7631070121993629.\n",
      "[I 2025-07-13 04:26:04,744] Trial 386 finished with value: 0.748515071846875 and parameters: {'eta': 0.11619828613705652, 'dpt': 2, 'mcat': 2, 'nest': 61, 'mlvs': 2}. Best is trial 230 with value: 0.7631070121993629.\n",
      "[I 2025-07-13 04:26:04,880] Trial 387 finished with value: 0.7577306681133413 and parameters: {'eta': 0.059737164315936224, 'dpt': 2, 'mcat': 2, 'nest': 73, 'mlvs': 2}. Best is trial 230 with value: 0.7631070121993629.\n",
      "[I 2025-07-13 04:26:05,024] Trial 388 finished with value: 0.7543365466204843 and parameters: {'eta': 0.12927609660509373, 'dpt': 2, 'mcat': 2, 'nest': 81, 'mlvs': 2}. Best is trial 230 with value: 0.7631070121993629.\n",
      "[I 2025-07-13 04:26:05,156] Trial 389 finished with value: 0.7513156857562815 and parameters: {'eta': 0.02747771168511687, 'dpt': 2, 'mcat': 2, 'nest': 69, 'mlvs': 2}. Best is trial 230 with value: 0.7631070121993629.\n",
      "[I 2025-07-13 04:26:05,497] Trial 390 finished with value: 0.7358937621425623 and parameters: {'eta': 0.08116778597185495, 'dpt': 2, 'mcat': 4, 'nest': 275, 'mlvs': 6}. Best is trial 230 with value: 0.7631070121993629.\n",
      "[I 2025-07-13 04:26:05,833] Trial 391 finished with value: 0.7506456713359022 and parameters: {'eta': 0.0559807229077713, 'dpt': 2, 'mcat': 2, 'nest': 384, 'mlvs': 2}. Best is trial 230 with value: 0.7631070121993629.\n",
      "[I 2025-07-13 04:26:05,969] Trial 392 finished with value: 0.7490251174264028 and parameters: {'eta': 0.011325778858308842, 'dpt': 2, 'mcat': 2, 'nest': 92, 'mlvs': 2}. Best is trial 230 with value: 0.7631070121993629.\n",
      "[I 2025-07-13 04:26:06,090] Trial 393 finished with value: 0.7540513847737483 and parameters: {'eta': 0.03693759196208083, 'dpt': 2, 'mcat': 2, 'nest': 57, 'mlvs': 2}. Best is trial 230 with value: 0.7631070121993629.\n",
      "[I 2025-07-13 04:26:06,221] Trial 394 finished with value: 0.7505088863850287 and parameters: {'eta': 0.09189981586372895, 'dpt': 2, 'mcat': 2, 'nest': 65, 'mlvs': 2}. Best is trial 230 with value: 0.7631070121993629.\n",
      "[I 2025-07-13 04:26:06,347] Trial 395 finished with value: 0.7613148975040224 and parameters: {'eta': 0.06986829254916742, 'dpt': 2, 'mcat': 2, 'nest': 55, 'mlvs': 2}. Best is trial 230 with value: 0.7631070121993629.\n",
      "[I 2025-07-13 04:26:06,509] Trial 396 finished with value: 0.7511139859134683 and parameters: {'eta': 0.04954807580118828, 'dpt': 2, 'mcat': 2, 'nest': 74, 'mlvs': 3}. Best is trial 230 with value: 0.7631070121993629.\n",
      "[I 2025-07-13 04:26:06,635] Trial 397 finished with value: 0.7501704015913422 and parameters: {'eta': 0.029029100995222774, 'dpt': 2, 'mcat': 2, 'nest': 61, 'mlvs': 2}. Best is trial 230 with value: 0.7631070121993629.\n",
      "[I 2025-07-13 04:26:06,795] Trial 398 finished with value: 0.7524493779762319 and parameters: {'eta': 0.07722288813831465, 'dpt': 2, 'mcat': 5, 'nest': 85, 'mlvs': 2}. Best is trial 230 with value: 0.7631070121993629.\n",
      "[I 2025-07-13 04:26:06,927] Trial 399 finished with value: 0.7503071865422155 and parameters: {'eta': 0.10385897100597122, 'dpt': 2, 'mcat': 2, 'nest': 69, 'mlvs': 2}. Best is trial 230 with value: 0.7631070121993629.\n",
      "[I 2025-07-13 04:26:07,060] Trial 400 finished with value: 0.7559918763649515 and parameters: {'eta': 0.05688533782385584, 'dpt': 2, 'mcat': 2, 'nest': 50, 'mlvs': 2}. Best is trial 230 with value: 0.7631070121993629.\n",
      "[I 2025-07-13 04:26:07,184] Trial 401 finished with value: 0.7583774986437425 and parameters: {'eta': 0.07002488752730981, 'dpt': 2, 'mcat': 2, 'nest': 63, 'mlvs': 2}. Best is trial 230 with value: 0.7631070121993629.\n",
      "[I 2025-07-13 04:26:07,315] Trial 402 finished with value: 0.7572855374257536 and parameters: {'eta': 0.04020348762665894, 'dpt': 3, 'mcat': 2, 'nest': 77, 'mlvs': 2}. Best is trial 230 with value: 0.7631070121993629.\n",
      "[I 2025-07-13 04:26:07,438] Trial 403 finished with value: 0.7498620558546277 and parameters: {'eta': 0.09154961840450891, 'dpt': 2, 'mcat': 2, 'nest': 57, 'mlvs': 2}. Best is trial 230 with value: 0.7631070121993629.\n",
      "[I 2025-07-13 04:26:07,573] Trial 404 finished with value: 0.7431619116508321 and parameters: {'eta': 0.0101501341365237, 'dpt': 2, 'mcat': 2, 'nest': 70, 'mlvs': 2}. Best is trial 230 with value: 0.7631070121993629.\n",
      "[I 2025-07-13 04:26:07,728] Trial 405 finished with value: 0.760169613339083 and parameters: {'eta': 0.05289579373449954, 'dpt': 2, 'mcat': 2, 'nest': 81, 'mlvs': 2}. Best is trial 230 with value: 0.7631070121993629.\n",
      "[I 2025-07-13 04:26:07,850] Trial 406 finished with value: 0.5 and parameters: {'eta': 0.03023648702985806, 'dpt': 2, 'mcat': 2, 'nest': 50, 'mlvs': 1}. Best is trial 230 with value: 0.7631070121993629.\n",
      "[I 2025-07-13 04:26:07,980] Trial 407 finished with value: 0.7477082724756221 and parameters: {'eta': 0.2695220507731837, 'dpt': 2, 'mcat': 2, 'nest': 64, 'mlvs': 2}. Best is trial 230 with value: 0.7631070121993629.\n",
      "[I 2025-07-13 04:26:08,114] Trial 408 finished with value: 0.7558852304710502 and parameters: {'eta': 0.07334945304852905, 'dpt': 2, 'mcat': 2, 'nest': 74, 'mlvs': 2}. Best is trial 230 with value: 0.7631070121993629.\n",
      "[I 2025-07-13 04:26:08,244] Trial 409 finished with value: 0.7561402532608141 and parameters: {'eta': 0.048987364034783105, 'dpt': 2, 'mcat': 2, 'nest': 61, 'mlvs': 2}. Best is trial 230 with value: 0.7631070121993629.\n",
      "[I 2025-07-13 04:26:08,396] Trial 410 finished with value: 0.7526928088210064 and parameters: {'eta': 0.11214183325469282, 'dpt': 2, 'mcat': 2, 'nest': 91, 'mlvs': 2}. Best is trial 230 with value: 0.7631070121993629.\n",
      "[I 2025-07-13 04:26:08,529] Trial 411 finished with value: 0.7553867768365118 and parameters: {'eta': 0.0848880495505892, 'dpt': 2, 'mcat': 2, 'nest': 68, 'mlvs': 2}. Best is trial 230 with value: 0.7631070121993629.\n",
      "[I 2025-07-13 04:26:08,650] Trial 412 finished with value: 0.7486634487427377 and parameters: {'eta': 0.13748433538321264, 'dpt': 2, 'mcat': 2, 'nest': 56, 'mlvs': 2}. Best is trial 230 with value: 0.7631070121993629.\n",
      "[I 2025-07-13 04:26:08,822] Trial 413 finished with value: 0.7573805913746655 and parameters: {'eta': 0.06129044959870886, 'dpt': 2, 'mcat': 2, 'nest': 78, 'mlvs': 2}. Best is trial 230 with value: 0.7631070121993629.\n",
      "[I 2025-07-13 04:26:08,991] Trial 414 finished with value: 0.7554934227304131 and parameters: {'eta': 0.029417206263412522, 'dpt': 2, 'mcat': 2, 'nest': 100, 'mlvs': 2}. Best is trial 230 with value: 0.7631070121993629.\n",
      "[I 2025-07-13 04:26:09,131] Trial 415 finished with value: 0.7449609815131661 and parameters: {'eta': 0.8700036618671005, 'dpt': 2, 'mcat': 2, 'nest': 63, 'mlvs': 2}. Best is trial 230 with value: 0.7631070121993629.\n",
      "[I 2025-07-13 04:26:09,276] Trial 416 finished with value: 0.7565853839484019 and parameters: {'eta': 0.060831477543979634, 'dpt': 2, 'mcat': 2, 'nest': 72, 'mlvs': 2}. Best is trial 230 with value: 0.7631070121993629.\n",
      "[I 2025-07-13 04:26:09,406] Trial 417 finished with value: 0.7551734850487093 and parameters: {'eta': 0.36178772171111717, 'dpt': 2, 'mcat': 2, 'nest': 56, 'mlvs': 2}. Best is trial 230 with value: 0.7631070121993629.\n",
      "[I 2025-07-13 04:26:09,651] Trial 418 finished with value: 0.7491619023772761 and parameters: {'eta': 0.0406850187052799, 'dpt': 2, 'mcat': 2, 'nest': 193, 'mlvs': 2}. Best is trial 230 with value: 0.7631070121993629.\n",
      "[I 2025-07-13 04:26:09,822] Trial 419 finished with value: 0.7476016265817209 and parameters: {'eta': 0.09527425376589892, 'dpt': 2, 'mcat': 2, 'nest': 68, 'mlvs': 5}. Best is trial 230 with value: 0.7631070121993629.\n",
      "[I 2025-07-13 04:26:09,960] Trial 420 finished with value: 0.7500104327504904 and parameters: {'eta': 0.0758320494858776, 'dpt': 5, 'mcat': 2, 'nest': 83, 'mlvs': 2}. Best is trial 230 with value: 0.7631070121993629.\n",
      "[I 2025-07-13 04:26:10,080] Trial 421 finished with value: 0.7490251174264028 and parameters: {'eta': 0.025455323700264102, 'dpt': 2, 'mcat': 2, 'nest': 50, 'mlvs': 2}. Best is trial 230 with value: 0.7631070121993629.\n",
      "[I 2025-07-13 04:26:10,210] Trial 422 finished with value: 0.75649032999949 and parameters: {'eta': 0.04667479386746214, 'dpt': 2, 'mcat': 1, 'nest': 61, 'mlvs': 2}. Best is trial 230 with value: 0.7631070121993629.\n",
      "[I 2025-07-13 04:26:10,433] Trial 423 finished with value: 0.7519926553436548 and parameters: {'eta': 0.06717099983778718, 'dpt': 2, 'mcat': 2, 'nest': 232, 'mlvs': 2}. Best is trial 230 with value: 0.7631070121993629.\n",
      "[I 2025-07-13 04:26:10,583] Trial 424 finished with value: 0.7473697876819356 and parameters: {'eta': 0.10796414529303716, 'dpt': 2, 'mcat': 2, 'nest': 74, 'mlvs': 2}. Best is trial 230 with value: 0.7631070121993629.\n",
      "[I 2025-07-13 04:26:10,787] Trial 425 finished with value: 0.7409432133798867 and parameters: {'eta': 0.0850998616286458, 'dpt': 2, 'mcat': 2, 'nest': 87, 'mlvs': 3}. Best is trial 230 with value: 0.7631070121993629.\n",
      "[I 2025-07-13 04:26:10,937] Trial 426 finished with value: 0.7574339143216162 and parameters: {'eta': 0.05013411687477652, 'dpt': 2, 'mcat': 2, 'nest': 66, 'mlvs': 2}. Best is trial 230 with value: 0.7631070121993629.\n",
      "[I 2025-07-13 04:26:11,078] Trial 427 finished with value: 0.7490251174264028 and parameters: {'eta': 0.02501820443951375, 'dpt': 2, 'mcat': 2, 'nest': 58, 'mlvs': 2}. Best is trial 230 with value: 0.7631070121993629.\n",
      "[I 2025-07-13 04:26:11,235] Trial 428 finished with value: 0.7573805913746655 and parameters: {'eta': 0.062096531389458434, 'dpt': 2, 'mcat': 2, 'nest': 78, 'mlvs': 2}. Best is trial 230 with value: 0.7631070121993629.\n",
      "[I 2025-07-13 04:26:11,383] Trial 429 finished with value: 0.7585791984865556 and parameters: {'eta': 0.03942525981742892, 'dpt': 2, 'mcat': 2, 'nest': 69, 'mlvs': 2}. Best is trial 230 with value: 0.7631070121993629.\n",
      "[I 2025-07-13 04:26:11,536] Trial 430 finished with value: 0.7521526241845067 and parameters: {'eta': 0.0795569444697547, 'dpt': 2, 'mcat': 2, 'nest': 62, 'mlvs': 2}. Best is trial 230 with value: 0.7631070121993629.\n",
      "[I 2025-07-13 04:26:11,681] Trial 431 finished with value: 0.7563836841055888 and parameters: {'eta': 0.09688157403102275, 'dpt': 2, 'mcat': 2, 'nest': 57, 'mlvs': 2}. Best is trial 230 with value: 0.7631070121993629.\n",
      "[I 2025-07-13 04:26:11,878] Trial 432 finished with value: 0.7452693272498806 and parameters: {'eta': 0.06146864914562547, 'dpt': 2, 'mcat': 2, 'nest': 82, 'mlvs': 4}. Best is trial 230 with value: 0.7631070121993629.\n",
      "[I 2025-07-13 04:26:12,025] Trial 433 finished with value: 0.5 and parameters: {'eta': 0.04079026222376704, 'dpt': 2, 'mcat': 2, 'nest': 71, 'mlvs': 1}. Best is trial 230 with value: 0.7631070121993629.\n",
      "[I 2025-07-13 04:26:12,166] Trial 434 finished with value: 0.7431619116508321 and parameters: {'eta': 0.010792641751509922, 'dpt': 2, 'mcat': 2, 'nest': 55, 'mlvs': 2}. Best is trial 230 with value: 0.7631070121993629.\n",
      "[I 2025-07-13 04:26:12,369] Trial 435 finished with value: 0.7498504639096385 and parameters: {'eta': 0.12230149313517799, 'dpt': 2, 'mcat': 2, 'nest': 153, 'mlvs': 2}. Best is trial 230 with value: 0.7631070121993629.\n",
      "[I 2025-07-13 04:26:12,548] Trial 436 finished with value: 0.7465629883106827 and parameters: {'eta': 0.07677138707265554, 'dpt': 2, 'mcat': 2, 'nest': 65, 'mlvs': 6}. Best is trial 230 with value: 0.7631070121993629.\n",
      "[I 2025-07-13 04:26:12,708] Trial 437 finished with value: 0.7531495314535835 and parameters: {'eta': 0.053852700122782315, 'dpt': 2, 'mcat': 3, 'nest': 92, 'mlvs': 2}. Best is trial 230 with value: 0.7631070121993629.\n",
      "[I 2025-07-13 04:26:12,840] Trial 438 finished with value: 0.7490251174264028 and parameters: {'eta': 0.027277692941839005, 'dpt': 2, 'mcat': 2, 'nest': 50, 'mlvs': 2}. Best is trial 230 with value: 0.7631070121993629.\n",
      "[I 2025-07-13 04:26:12,998] Trial 439 finished with value: 0.7509540170726166 and parameters: {'eta': 0.0958545910999439, 'dpt': 2, 'mcat': 2, 'nest': 74, 'mlvs': 2}. Best is trial 230 with value: 0.7631070121993629.\n",
      "[I 2025-07-13 04:26:13,145] Trial 440 finished with value: 0.7590243291741434 and parameters: {'eta': 0.06813390815590153, 'dpt': 2, 'mcat': 2, 'nest': 62, 'mlvs': 2}. Best is trial 230 with value: 0.7631070121993629.\n",
      "[I 2025-07-13 04:26:13,297] Trial 441 finished with value: 0.7595227828086819 and parameters: {'eta': 0.04734724446901231, 'dpt': 3, 'mcat': 2, 'nest': 81, 'mlvs': 2}. Best is trial 230 with value: 0.7631070121993629.\n",
      "[I 2025-07-13 04:26:13,449] Trial 442 finished with value: 0.7535946621411713 and parameters: {'eta': 0.08268154116108699, 'dpt': 2, 'mcat': 2, 'nest': 70, 'mlvs': 2}. Best is trial 230 with value: 0.7631070121993629.\n",
      "[I 2025-07-13 04:26:13,614] Trial 443 finished with value: 0.7431387277608534 and parameters: {'eta': 0.03015386911959643, 'dpt': 2, 'mcat': 2, 'nest': 56, 'mlvs': 7}. Best is trial 230 with value: 0.7631070121993629.\n",
      "[I 2025-07-13 04:26:13,766] Trial 444 finished with value: 0.7541464387226604 and parameters: {'eta': 0.06129151474604809, 'dpt': 2, 'mcat': 2, 'nest': 75, 'mlvs': 2}. Best is trial 230 with value: 0.7631070121993629.\n",
      "[I 2025-07-13 04:26:13,913] Trial 445 finished with value: 0.7431619116508321 and parameters: {'eta': 0.010057004034281405, 'dpt': 2, 'mcat': 2, 'nest': 64, 'mlvs': 2}. Best is trial 230 with value: 0.7631070121993629.\n",
      "[I 2025-07-13 04:26:14,061] Trial 446 finished with value: 0.7498087329076771 and parameters: {'eta': 0.10503743974110033, 'dpt': 2, 'mcat': 2, 'nest': 68, 'mlvs': 2}. Best is trial 230 with value: 0.7631070121993629.\n",
      "[I 2025-07-13 04:26:14,217] Trial 447 finished with value: 0.7587275753824183 and parameters: {'eta': 0.041824146616426285, 'dpt': 2, 'mcat': 2, 'nest': 83, 'mlvs': 2}. Best is trial 230 with value: 0.7631070121993629.\n",
      "[I 2025-07-13 04:26:14,354] Trial 448 finished with value: 0.7577306681133413 and parameters: {'eta': 0.07464377663380733, 'dpt': 2, 'mcat': 3, 'nest': 60, 'mlvs': 2}. Best is trial 230 with value: 0.7631070121993629.\n",
      "[I 2025-07-13 04:26:14,493] Trial 449 finished with value: 0.7534996081922594 and parameters: {'eta': 0.05734772688093806, 'dpt': 2, 'mcat': 2, 'nest': 76, 'mlvs': 2}. Best is trial 230 with value: 0.7631070121993629.\n",
      "[I 2025-07-13 04:26:14,631] Trial 450 finished with value: 0.7513156857562815 and parameters: {'eta': 0.03752829799936076, 'dpt': 4, 'mcat': 2, 'nest': 50, 'mlvs': 2}. Best is trial 230 with value: 0.7631070121993629.\n",
      "[I 2025-07-13 04:26:14,823] Trial 451 finished with value: 0.7516959015519297 and parameters: {'eta': 0.1451341818848383, 'dpt': 2, 'mcat': 2, 'nest': 90, 'mlvs': 2}. Best is trial 230 with value: 0.7631070121993629.\n",
      "[I 2025-07-13 04:26:14,963] Trial 452 finished with value: 0.7552383999406492 and parameters: {'eta': 0.08214202704631428, 'dpt': 2, 'mcat': 2, 'nest': 65, 'mlvs': 2}. Best is trial 230 with value: 0.7631070121993629.\n",
      "[I 2025-07-13 04:26:15,085] Trial 453 finished with value: 0.5 and parameters: {'eta': 0.8070613534387654, 'dpt': 2, 'mcat': 2, 'nest': 56, 'mlvs': 1}. Best is trial 230 with value: 0.7631070121993629.\n",
      "[I 2025-07-13 04:26:15,244] Trial 454 finished with value: 0.7515591166010562 and parameters: {'eta': 0.06013080173968415, 'dpt': 2, 'mcat': 2, 'nest': 72, 'mlvs': 3}. Best is trial 230 with value: 0.7631070121993629.\n",
      "[I 2025-07-13 04:26:15,448] Trial 455 finished with value: 0.7497554099607265 and parameters: {'eta': 0.09635686053893333, 'dpt': 2, 'mcat': 2, 'nest': 132, 'mlvs': 2}. Best is trial 230 with value: 0.7631070121993629.\n",
      "[I 2025-07-13 04:26:15,587] Trial 456 finished with value: 0.7511139859134683 and parameters: {'eta': 0.027992807598943664, 'dpt': 2, 'mcat': 2, 'nest': 61, 'mlvs': 2}. Best is trial 230 with value: 0.7631070121993629.\n",
      "[I 2025-07-13 04:26:15,764] Trial 457 finished with value: 0.7431688668178257 and parameters: {'eta': 0.5613246451437464, 'dpt': 2, 'mcat': 2, 'nest': 77, 'mlvs': 2}. Best is trial 230 with value: 0.7631070121993629.\n",
      "[I 2025-07-13 04:26:15,920] Trial 458 finished with value: 0.7533929622983582 and parameters: {'eta': 0.11427230683073109, 'dpt': 2, 'mcat': 2, 'nest': 67, 'mlvs': 2}. Best is trial 230 with value: 0.7631070121993629.\n",
      "[I 2025-07-13 04:26:16,084] Trial 459 finished with value: 0.760169613339083 and parameters: {'eta': 0.04761091053380912, 'dpt': 2, 'mcat': 2, 'nest': 86, 'mlvs': 2}. Best is trial 230 with value: 0.7631070121993629.\n",
      "[I 2025-07-13 04:26:16,255] Trial 460 finished with value: 0.756680437897314 and parameters: {'eta': 0.06528911832116695, 'dpt': 2, 'mcat': 2, 'nest': 96, 'mlvs': 2}. Best is trial 230 with value: 0.7631070121993629.\n",
      "[I 2025-07-13 04:26:16,551] Trial 461 finished with value: 0.7514942017091164 and parameters: {'eta': 0.08488747472198573, 'dpt': 2, 'mcat': 2, 'nest': 211, 'mlvs': 2}. Best is trial 230 with value: 0.7631070121993629.\n",
      "[I 2025-07-13 04:26:16,706] Trial 462 finished with value: 0.7490251174264028 and parameters: {'eta': 0.022558042006226922, 'dpt': 2, 'mcat': 2, 'nest': 55, 'mlvs': 2}. Best is trial 230 with value: 0.7631070121993629.\n",
      "[I 2025-07-13 04:26:16,864] Trial 463 finished with value: 0.7537546309820232 and parameters: {'eta': 0.044187803069486546, 'dpt': 2, 'mcat': 2, 'nest': 50, 'mlvs': 2}. Best is trial 230 with value: 0.7631070121993629.\n",
      "[I 2025-07-13 04:26:17,035] Trial 464 finished with value: 0.757232214478803 and parameters: {'eta': 0.06482182737869797, 'dpt': 2, 'mcat': 2, 'nest': 70, 'mlvs': 2}. Best is trial 230 with value: 0.7631070121993629.\n",
      "[I 2025-07-13 04:26:17,199] Trial 465 finished with value: 0.7328079863864199 and parameters: {'eta': 0.9488359505552663, 'dpt': 2, 'mcat': 2, 'nest': 78, 'mlvs': 2}. Best is trial 230 with value: 0.7631070121993629.\n",
      "[I 2025-07-13 04:26:17,348] Trial 466 finished with value: 0.7431619116508321 and parameters: {'eta': 0.010121196031165569, 'dpt': 2, 'mcat': 2, 'nest': 61, 'mlvs': 2}. Best is trial 230 with value: 0.7631070121993629.\n",
      "[I 2025-07-13 04:26:17,502] Trial 467 finished with value: 0.7534462852453088 and parameters: {'eta': 0.08096896740379983, 'dpt': 2, 'mcat': 2, 'nest': 67, 'mlvs': 2}. Best is trial 230 with value: 0.7631070121993629.\n",
      "[I 2025-07-13 04:26:17,650] Trial 468 finished with value: 0.7579323679561546 and parameters: {'eta': 0.04247338668944942, 'dpt': 2, 'mcat': 2, 'nest': 59, 'mlvs': 2}. Best is trial 230 with value: 0.7631070121993629.\n",
      "[I 2025-07-13 04:26:17,824] Trial 469 finished with value: 0.7522476781334186 and parameters: {'eta': 0.09638987247094523, 'dpt': 2, 'mcat': 2, 'nest': 82, 'mlvs': 2}. Best is trial 230 with value: 0.7631070121993629.\n",
      "[I 2025-07-13 04:26:17,980] Trial 470 finished with value: 0.7565853839484019 and parameters: {'eta': 0.06103182816778483, 'dpt': 2, 'mcat': 2, 'nest': 73, 'mlvs': 2}. Best is trial 230 with value: 0.7631070121993629.\n",
      "[I 2025-07-13 04:26:18,136] Trial 471 finished with value: 0.7537546309820232 and parameters: {'eta': 0.033807306890896116, 'dpt': 2, 'mcat': 2, 'nest': 64, 'mlvs': 2}. Best is trial 230 with value: 0.7631070121993629.\n",
      "[I 2025-07-13 04:26:18,297] Trial 472 finished with value: 0.7460228036741827 and parameters: {'eta': 0.12437279822908029, 'dpt': 2, 'mcat': 2, 'nest': 55, 'mlvs': 3}. Best is trial 230 with value: 0.7631070121993629.\n",
      "[I 2025-07-13 04:26:18,473] Trial 473 finished with value: 0.7534462852453088 and parameters: {'eta': 0.07552973684807805, 'dpt': 2, 'mcat': 2, 'nest': 75, 'mlvs': 2}. Best is trial 230 with value: 0.7631070121993629.\n",
      "[I 2025-07-13 04:26:18,624] Trial 474 finished with value: 0.7540513847737483 and parameters: {'eta': 0.052996881258349324, 'dpt': 2, 'mcat': 2, 'nest': 50, 'mlvs': 2}. Best is trial 230 with value: 0.7631070121993629.\n",
      "[I 2025-07-13 04:26:18,814] Trial 475 finished with value: 0.7431155438708751 and parameters: {'eta': 0.6417387361716484, 'dpt': 2, 'mcat': 2, 'nest': 87, 'mlvs': 2}. Best is trial 230 with value: 0.7631070121993629.\n",
      "[I 2025-07-13 04:26:18,983] Trial 476 finished with value: 0.7513156857562815 and parameters: {'eta': 0.02901941515678685, 'dpt': 2, 'mcat': 2, 'nest': 67, 'mlvs': 2}. Best is trial 230 with value: 0.7631070121993629.\n",
      "[I 2025-07-13 04:26:19,153] Trial 477 finished with value: 0.7499988408055012 and parameters: {'eta': 0.3032484039779346, 'dpt': 2, 'mcat': 2, 'nest': 60, 'mlvs': 2}. Best is trial 230 with value: 0.7631070121993629.\n",
      "[I 2025-07-13 04:26:19,313] Trial 478 finished with value: 0.751452470707155 and parameters: {'eta': 0.10351660718227973, 'dpt': 2, 'mcat': 2, 'nest': 72, 'mlvs': 2}. Best is trial 230 with value: 0.7631070121993629.\n",
      "[I 2025-07-13 04:26:19,481] Trial 479 finished with value: 0.7534462852453088 and parameters: {'eta': 0.06958182271805231, 'dpt': 2, 'mcat': 2, 'nest': 80, 'mlvs': 2}. Best is trial 230 with value: 0.7631070121993629.\n",
      "[I 2025-07-13 04:26:19,668] Trial 480 finished with value: 0.7586742524354676 and parameters: {'eta': 0.04733090172806696, 'dpt': 2, 'mcat': 2, 'nest': 104, 'mlvs': 2}. Best is trial 230 with value: 0.7631070121993629.\n",
      "[I 2025-07-13 04:26:19,834] Trial 481 finished with value: 0.5 and parameters: {'eta': 0.08616900692849505, 'dpt': 2, 'mcat': 1, 'nest': 62, 'mlvs': 1}. Best is trial 230 with value: 0.7631070121993629.\n",
      "[I 2025-07-13 04:26:19,992] Trial 482 finished with value: 0.7619617280344235 and parameters: {'eta': 0.05615890976379653, 'dpt': 2, 'mcat': 2, 'nest': 69, 'mlvs': 2}. Best is trial 230 with value: 0.7631070121993629.\n",
      "[I 2025-07-13 04:26:20,155] Trial 483 finished with value: 0.7508172321217432 and parameters: {'eta': 0.026614025305776827, 'dpt': 2, 'mcat': 2, 'nest': 78, 'mlvs': 2}. Best is trial 230 with value: 0.7631070121993629.\n",
      "[I 2025-07-13 04:26:20,323] Trial 484 finished with value: 0.7613148975040224 and parameters: {'eta': 0.04441926167612815, 'dpt': 2, 'mcat': 2, 'nest': 87, 'mlvs': 2}. Best is trial 230 with value: 0.7631070121993629.\n",
      "[I 2025-07-13 04:26:20,491] Trial 485 finished with value: 0.755588476679325 and parameters: {'eta': 0.06710146031621213, 'dpt': 2, 'mcat': 2, 'nest': 71, 'mlvs': 2}. Best is trial 230 with value: 0.7631070121993629.\n",
      "[I 2025-07-13 04:26:20,646] Trial 486 finished with value: 0.7574339143216162 and parameters: {'eta': 0.04994748676733428, 'dpt': 2, 'mcat': 2, 'nest': 67, 'mlvs': 2}. Best is trial 230 with value: 0.7631070121993629.\n",
      "[I 2025-07-13 04:26:20,825] Trial 487 finished with value: 0.7542414926715725 and parameters: {'eta': 0.08544308759811278, 'dpt': 2, 'mcat': 2, 'nest': 78, 'mlvs': 2}. Best is trial 230 with value: 0.7631070121993629.\n",
      "[I 2025-07-13 04:26:20,993] Trial 488 finished with value: 0.7508172321217432 and parameters: {'eta': 0.023253106028488197, 'dpt': 2, 'mcat': 2, 'nest': 93, 'mlvs': 2}. Best is trial 230 with value: 0.7631070121993629.\n",
      "[I 2025-07-13 04:26:21,130] Trial 489 finished with value: 0.7506572632808913 and parameters: {'eta': 0.11359167911813156, 'dpt': 2, 'mcat': 2, 'nest': 56, 'mlvs': 2}. Best is trial 230 with value: 0.7631070121993629.\n",
      "[I 2025-07-13 04:26:21,286] Trial 490 finished with value: 0.7577306681133413 and parameters: {'eta': 0.061779202991198774, 'dpt': 4, 'mcat': 2, 'nest': 70, 'mlvs': 2}. Best is trial 230 with value: 0.7631070121993629.\n",
      "[I 2025-07-13 04:26:21,457] Trial 491 finished with value: 0.7499988408055012 and parameters: {'eta': 0.22487218425753505, 'dpt': 2, 'mcat': 2, 'nest': 83, 'mlvs': 2}. Best is trial 230 with value: 0.7631070121993629.\n",
      "[I 2025-07-13 04:26:21,614] Trial 492 finished with value: 0.7456611349905178 and parameters: {'eta': 0.5128367386250411, 'dpt': 2, 'mcat': 2, 'nest': 65, 'mlvs': 2}. Best is trial 230 with value: 0.7631070121993629.\n",
      "[I 2025-07-13 04:26:21,883] Trial 493 finished with value: 0.751452470707155 and parameters: {'eta': 0.04083428219823665, 'dpt': 2, 'mcat': 2, 'nest': 142, 'mlvs': 3}. Best is trial 230 with value: 0.7631070121993629.\n",
      "[I 2025-07-13 04:26:22,039] Trial 494 finished with value: 0.7527994547149077 and parameters: {'eta': 0.07705442282068671, 'dpt': 2, 'mcat': 4, 'nest': 74, 'mlvs': 2}. Best is trial 230 with value: 0.7631070121993629.\n",
      "[I 2025-07-13 04:26:22,191] Trial 495 finished with value: 0.7516541705499683 and parameters: {'eta': 0.09701841640082504, 'dpt': 2, 'mcat': 2, 'nest': 56, 'mlvs': 2}. Best is trial 230 with value: 0.7631070121993629.\n",
      "[I 2025-07-13 04:26:22,342] Trial 496 finished with value: 0.7490251174264028 and parameters: {'eta': 0.02512309369198639, 'dpt': 2, 'mcat': 2, 'nest': 62, 'mlvs': 2}. Best is trial 230 with value: 0.7631070121993629.\n",
      "[I 2025-07-13 04:26:22,486] Trial 497 finished with value: 0.7540513847737483 and parameters: {'eta': 0.05431521333788574, 'dpt': 2, 'mcat': 2, 'nest': 50, 'mlvs': 2}. Best is trial 230 with value: 0.7631070121993629.\n",
      "[I 2025-07-13 04:26:22,634] Trial 498 finished with value: 0.7570305146359898 and parameters: {'eta': 0.07155388160626695, 'dpt': 2, 'mcat': 2, 'nest': 70, 'mlvs': 2}. Best is trial 230 with value: 0.7631070121993629.\n",
      "[I 2025-07-13 04:26:22,809] Trial 499 finished with value: 0.7580807448520173 and parameters: {'eta': 0.03983661251980686, 'dpt': 2, 'mcat': 2, 'nest': 83, 'mlvs': 2}. Best is trial 230 with value: 0.7631070121993629.\n"
     ]
    },
    {
     "name": "stdout",
     "output_type": "stream",
     "text": [
      "Лучший ROC-AUC: 0.7631070121993629\n",
      "Лучшие параметры: {'eta': 0.06065924956039591, 'dpt': 2, 'mcat': 2, 'nest': 62, 'mlvs': 2}\n"
     ]
    }
   ],
   "source": [
    "import optuna\n",
    "from optuna.integration import xgboost as xgb\n",
    "from xgboost import XGBClassifier\n",
    "\n",
    "def objective(trial):\n",
    "    eta = trial.suggest_float('eta', 0.01, 1)\n",
    "    dpt = trial.suggest_int('dpt', 2, 5)\n",
    "    max_cat = trial.suggest_int('mcat', 1, 5)\n",
    "    n_est = trial.suggest_int('nest', 50, 400)\n",
    "    max_lvs = trial.suggest_int('mlvs', 1, 7)\n",
    "\n",
    "    xgb = XGBClassifier(n_jobs=-1, eta=eta, n_estimators=n_est, max_leaves=max_lvs,\n",
    "                             max_cat_threshold=max_cat, max_depth=dpt, early_stopping_rounds=30, eval_metric = 'AUC')\n",
    "    \n",
    "    \n",
    "    xgb_model = xgb.fit(train_x, train_y)\n",
    "    return roc_auc_score(test_y, xgb_model.predict(test_x))\n",
    "\n",
    "study = optuna.create_study(direction=\"maximize\", pruner=\"Hyperband\")\n",
    "study.optimize(objective, n_trials=700, n_jobs=-1)\n",
    "\n",
    "print(\"Лучший ROC-AUC:\", study.best_value)\n",
    "print(\"Лучшие параметры:\", study.best_params)\n"
   ]
  },
  {
   "cell_type": "code",
   "execution_count": 55,
   "id": "4c046059-2528-427d-b9bb-8abdf76f1c3c",
   "metadata": {},
   "outputs": [],
   "source": [
    "from xgboost import XGBClassifier\n",
    "\n",
    "xgb = XGBClassifier(\n",
    "    n_jobs=-1,\n",
    "    eta=0.06,\n",
    "    max_depth=3,\n",
    "    eval_metric='auc',\n",
    "    # scale_pos_weight=1.9,      \n",
    "    random_state=42,\n",
    "    n_estimators=62,\n",
    "    max_cat_threshold=2,\n",
    "    max_leaves=2\n",
    ")\n",
    "\n",
    "    \n",
    "xgb_model = xgb.fit(train_x, train_y)\n",
    "\n",
    "\n",
    "\n"
   ]
  },
  {
   "cell_type": "code",
   "execution_count": 56,
   "id": "383dc62c-de40-4a47-83f3-ac789ce33264",
   "metadata": {},
   "outputs": [
    {
     "data": {
      "text/plain": [
       "0.7631070121993629"
      ]
     },
     "execution_count": 56,
     "metadata": {},
     "output_type": "execute_result"
    }
   ],
   "source": [
    "roc_auc_score(test_y, xgb_model.predict(test_x))"
   ]
  },
  {
   "cell_type": "markdown",
   "id": "36ee7921-4c53-4d46-8f17-79110a131c41",
   "metadata": {},
   "source": [
    "Лучший ROC-AUC: 0.7631070121993629\n",
    "\n",
    "Лучшие параметры: {'eta': 0.06065924956039591, 'dpt': 2, 'mcat': 2, 'nest': 62, 'mlvs': 2}"
   ]
  },
  {
   "cell_type": "markdown",
   "id": "5f0185a4-9907-48fc-929c-a94ec040878f",
   "metadata": {},
   "source": [
    "### Матрица ошибок"
   ]
  },
  {
   "cell_type": "code",
   "execution_count": 57,
   "id": "2103fb3f-70b7-4a56-a230-37597283cb4c",
   "metadata": {},
   "outputs": [
    {
     "data": {
      "text/plain": [
       "Text(50.722222222222214, 0.5, 'true values')"
      ]
     },
     "execution_count": 57,
     "metadata": {},
     "output_type": "execute_result"
    },
    {
     "data": {
      "image/png": "[encoded data removed]",
      "text/plain": [
       "<Figure size 640x480 with 2 Axes>"
      ]
     },
     "metadata": {},
     "output_type": "display_data"
    }
   ],
   "source": [
    "cm_xgb = confusion_matrix(test_y ,xgb_model.predict(test_x))\n",
    "sns.heatmap(cm_xgb, annot=True, fmt='d')\n",
    "plt.title(\"cm xgb\")\n",
    "plt.xlabel('prediction')\n",
    "plt.ylabel('true values')"
   ]
  },
  {
   "cell_type": "markdown",
   "id": "655e7d58-d314-4ad5-ac90-a3def928a3af",
   "metadata": {},
   "source": [
    "# Обработка результатов для отправки"
   ]
  },
  {
   "cell_type": "markdown",
   "id": "63c91a56-e735-4d48-98b0-b3e02516bb3d",
   "metadata": {},
   "source": [
    "### Линейная регрессия"
   ]
  },
  {
   "cell_type": "code",
   "execution_count": 50,
   "id": "0e68b309-ca1c-4c0e-8e2a-9ddae8c5f8ac",
   "metadata": {},
   "outputs": [],
   "source": [
    "lr_commit_predict = lr_model.predict(commit)\n",
    "\n",
    "submission = pd.DataFrame({\"Id\": commit.index,\n",
    "                          'Churn':lr_commit_predict})\n",
    "submission.to_csv('submission_logr.csv', index=False)"
   ]
  },
  {
   "cell_type": "markdown",
   "id": "048085c7-22a4-45fa-97a8-5bd483b2c1e3",
   "metadata": {},
   "source": [
    "### CatBoost"
   ]
  },
  {
   "cell_type": "code",
   "execution_count": 51,
   "id": "7115cfb9-1a86-4843-9c24-f197c32e7277",
   "metadata": {},
   "outputs": [],
   "source": [
    "\n",
    "cb_commit_predict = cb_model.predict(commit)\n",
    "\n",
    "submission = pd.DataFrame({\"Id\": commit.index,\n",
    "                          'Churn':cb_commit_predict})\n",
    "submission.to_csv('submission_cb.csv', index=False)"
   ]
  },
  {
   "cell_type": "markdown",
   "id": "03f1ddad-3edd-410e-8800-abe9a6b6e7f7",
   "metadata": {},
   "source": [
    "### XGBoost"
   ]
  },
  {
   "cell_type": "code",
   "execution_count": 52,
   "id": "c1275ebc-3dea-4501-bd83-f6eb76b50653",
   "metadata": {},
   "outputs": [],
   "source": [
    "xgb_commit_predict = xgb_model.predict(commit)\n",
    "\n",
    "submission = pd.DataFrame({\"Id\": commit.index,\n",
    "                          'Churn':xgb_commit_predict})\n",
    "submission.to_csv('submission_xgb.csv', index=False)"
   ]
  },
  {
   "cell_type": "code",
   "execution_count": null,
   "id": "7bd44562-fe99-4974-92c6-e3b3ff9d9527",
   "metadata": {},
   "outputs": [],
   "source": []
  }
 ],
 "metadata": {
  "kernelspec": {
   "display_name": "Python 3 (ipykernel)",
   "language": "python",
   "name": "python3"
  },
  "language_info": {
   "codemirror_mode": {
    "name": "ipython",
    "version": 3
   },
   "file_extension": ".py",
   "mimetype": "text/x-python",
   "name": "python",
   "nbconvert_exporter": "python",
   "pygments_lexer": "ipython3",
   "version": "3.11.4"
  }
 },
 "nbformat": 4,
 "nbformat_minor": 5
}
