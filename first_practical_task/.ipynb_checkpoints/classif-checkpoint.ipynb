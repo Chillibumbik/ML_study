{
 "cells": [
  {
   "cell_type": "markdown",
   "id": "53c37a0c-ae9d-4df2-a39c-97afa51bb495",
   "metadata": {},
   "source": [
    "Получим данные"
   ]
  },
  {
   "cell_type": "code",
   "execution_count": null,
   "id": "1f9d82d3-4649-42c7-af95-ef2480ddd411",
   "metadata": {},
   "outputs": [],
   "source": []
  },
  {
   "cell_type": "code",
   "execution_count": null,
   "id": "6c1b8e34-98c4-4f7a-9a61-701b3f8a26f0",
   "metadata": {
    "scrolled": true
   },
   "outputs": [],
   "source": [
    "import pandas as pd\n",
    "train = pd.read_csv(\"train.csv\")\n",
    "train"
   ]
  },
  {
   "cell_type": "code",
   "execution_count": null,
   "id": "b070a94c-936f-4a22-b5cc-d82d34ca982e",
   "metadata": {},
   "outputs": [],
   "source": [
    "train.info()"
   ]
  },
  {
   "cell_type": "markdown",
   "id": "6b6d8da5-fc8d-41d4-893d-79e31df26ee3",
   "metadata": {},
   "source": [
    "Как видим, пропущенных значений нет"
   ]
  },
  {
   "cell_type": "markdown",
   "id": "11884fb1-3410-4cf5-a7d4-c61c247f7241",
   "metadata": {},
   "source": [
    "Получим описательную статистику"
   ]
  },
  {
   "cell_type": "code",
   "execution_count": null,
   "id": "ac50fe4f-8dce-40f5-878f-9e5f056570cc",
   "metadata": {
    "scrolled": true
   },
   "outputs": [],
   "source": [
    "train.describe()"
   ]
  },
  {
   "cell_type": "markdown",
   "id": "e8e87ed9-f331-4659-8c5f-70404843a868",
   "metadata": {},
   "source": [
    "Проверяем каждый принзак на наличие аномалий"
   ]
  },
  {
   "cell_type": "code",
   "execution_count": null,
   "id": "77e82df4-3b1f-44bf-b826-f7c4229af2e7",
   "metadata": {},
   "outputs": [],
   "source": [
    "train.value_counts(\"ClientPeriod\")\n"
   ]
  },
  {
   "cell_type": "code",
   "execution_count": null,
   "id": "21dae90d-90bc-4f76-ac98-2a5c80485622",
   "metadata": {},
   "outputs": [],
   "source": [
    "train.value_counts(\"MonthlySpending\")"
   ]
  },
  {
   "cell_type": "code",
   "execution_count": null,
   "id": "627064fe-95fc-4be8-add8-7263fd9428c3",
   "metadata": {},
   "outputs": [],
   "source": [
    "train.hist(\"MonthlySpending\", bins=50)"
   ]
  },
  {
   "cell_type": "code",
   "execution_count": null,
   "id": "3af13a5d-a2fd-4294-9533-cf9a93e320ee",
   "metadata": {},
   "outputs": [],
   "source": [
    "mean_spending = train[\"MonthlySpending\"].mean()\n",
    "mean_spending"
   ]
  },
  {
   "cell_type": "code",
   "execution_count": null,
   "id": "2cc7813b-7d66-4c3b-8f3e-d665392bc7ee",
   "metadata": {
    "scrolled": true
   },
   "outputs": [],
   "source": [
    "median_spending = train[\"MonthlySpending\"].quantile()\n",
    "median_spending"
   ]
  },
  {
   "cell_type": "markdown",
   "id": "82fffaf3-925f-447b-b17a-2531e857c1d4",
   "metadata": {},
   "source": [
    "Численные признаки не имеют аномальных значений"
   ]
  },
  {
   "cell_type": "markdown",
   "id": "f0a64d9e-421e-4e0c-8b95-0436bb9fb9eb",
   "metadata": {},
   "source": [
    "Можем убрать признак TotalSpent, так как он линейно зависит от MonthlySpending и ClientPeriod"
   ]
  },
  {
   "cell_type": "code",
   "execution_count": null,
   "id": "f4be7e34-6322-4612-82b1-bb95d893c965",
   "metadata": {
    "scrolled": true
   },
   "outputs": [],
   "source": [
    "train.drop(\"TotalSpent\", axis=1, inplace=True)\n",
    "train"
   ]
  },
  {
   "cell_type": "markdown",
   "id": "4d05796f-f097-471b-bb50-5f24fd88cd31",
   "metadata": {},
   "source": [
    "Посмотрим распределение числовых переменных"
   ]
  },
  {
   "cell_type": "code",
   "execution_count": null,
   "id": "530ffc04-a5ba-4683-a4df-ba4d5a284b88",
   "metadata": {},
   "outputs": [],
   "source": [
    "train.hist(bins=50) "
   ]
  },
  {
   "cell_type": "markdown",
   "id": "5d53b91a-d97d-4b09-8929-e18caae93231",
   "metadata": {},
   "source": [
    "Покажем распределение для категориальных переменных(частотный анализ)"
   ]
  },
  {
   "cell_type": "code",
   "execution_count": null,
   "id": "4da7bae6-7b69-4b9a-b285-6d64f62959bc",
   "metadata": {},
   "outputs": [],
   "source": [
    "%matplotlib inline \n",
    "import matplotlib.pyplot as plt"
   ]
  },
  {
   "cell_type": "code",
   "execution_count": null,
   "id": "90c660d3-f04a-45da-bf22-166a25501739",
   "metadata": {
    "scrolled": true
   },
   "outputs": [],
   "source": [
    "train_columns = train.columns\n",
    "for i, column in enumerate(train_columns):\n",
    "    if i<2 or i>17: # чтобы убрать числовые признаки\n",
    "        continue\n",
    "    print(train[column].value_counts())\n",
    "    print()"
   ]
  },
  {
   "cell_type": "raw",
   "id": "79004b95-6057-4b8c-a6ce-12632369cf99",
   "metadata": {},
   "source": [
    "Покажем распределение категориальных переменных(круговые диаграммы)"
   ]
  },
  {
   "cell_type": "code",
   "execution_count": null,
   "id": "b8dc4c76-11a3-4de5-a836-e3598f2cbd79",
   "metadata": {},
   "outputs": [],
   "source": [
    "fig, axes = plt.subplots(nrows=5, ncols=5, figsize=(20,20))\n",
    "axes = axes.flatten()\n",
    "\n",
    "for i, column in enumerate(train_columns):\n",
    "    if i<2 or i>17: # числовые признаки чтоб убрать\n",
    "        continue\n",
    "    train[column].value_counts().plot.pie(ax=axes[i])\n",
    "    axes[i].set_title(f'Распределение: {column}', fontsize=10)\n",
    "    axes[i].set_ylabel('')\n",
    "\n",
    "for j in range(i, len(axes)):\n",
    "    axes[j].axis('off')\n",
    "\n",
    "for k in range(0, 2):\n",
    "    axes[k].axis(\"off\")\n",
    "\n",
    "plt.show()"
   ]
  },
  {
   "cell_type": "markdown",
   "id": "901a1909-2fb6-4c90-bf53-3f89701caa59",
   "metadata": {},
   "source": [
    "Теперь, закодируем категориальные признаки(используем метод LabelEncoder)"
   ]
  },
  {
   "cell_type": "code",
   "execution_count": null,
   "id": "5371a889-b351-4083-b9a4-6c2d91b98109",
   "metadata": {},
   "outputs": [],
   "source": [
    "from sklearn.preprocessing import LabelEncoder\n",
    "\n",
    "train_encoded = train.copy()\n",
    "\n",
    "categorial_cols = train.select_dtypes(include=[\"object\", 'category']).columns.tolist()\n",
    "\n",
    "label_encoders = {} # чтобы для коммита и тестовой выборки использовать те же энкодеры\n",
    "\n",
    "for col in categorial_cols:\n",
    "    le = LabelEncoder()\n",
    "    train_encoded[col] = le.fit_transform(train[col])\n",
    "    label_encoders[col] = le\n",
    "\n",
    "train_encoded.describe()\n",
    "\n"
   ]
  },
  {
   "cell_type": "code",
   "execution_count": null,
   "id": "7cbd7c3b-33ce-41dc-b554-c6ddae4002cf",
   "metadata": {},
   "outputs": [],
   "source": [
    "import seaborn as sns\n",
    "sns.pairplot(train_encoded)"
   ]
  },
  {
   "cell_type": "markdown",
   "id": "43857a22-5a90-41ab-a2af-a46ec1f91c55",
   "metadata": {},
   "source": [
    "разделим обучающую выборку на обучающую и контрольную"
   ]
  },
  {
   "cell_type": "code",
   "execution_count": null,
   "id": "1c43c306-321d-4c06-a477-72779fc21b31",
   "metadata": {},
   "outputs": [],
   "source": [
    "from sklearn.model_selection import train_test_split\n",
    "\n",
    "train_x, test_x, train_y, test_y = train_test_split(train_encoded[train_encoded.columns[:18]], train_encoded[\"Churn\"], test_size=0.2, shuffle=False)"
   ]
  },
  {
   "cell_type": "code",
   "execution_count": null,
   "id": "523d2034-43a4-4485-8586-325ab43d0984",
   "metadata": {
    "scrolled": true
   },
   "outputs": [],
   "source": [
    "train_x\n"
   ]
  },
  {
   "cell_type": "markdown",
   "id": "5fbadfc8-d905-4f61-ad89-c9df1a2e90ba",
   "metadata": {},
   "source": [
    "обучаем модель KNN"
   ]
  },
  {
   "cell_type": "code",
   "execution_count": null,
   "id": "81158af7-3bef-4f3a-bb83-f303b00c5dbd",
   "metadata": {},
   "outputs": [],
   "source": [
    "from sklearn.neighbors import KNeighborsClassifier\n",
    "\n",
    "n_neighbors = 20\n",
    "knn_model = KNeighborsClassifier(n_neighbors=n_neighbors)\n",
    "knn_model.fit(train_x, train_y)"
   ]
  },
  {
   "cell_type": "markdown",
   "id": "c9306572-a397-44f6-8d90-4f89faf18d1f",
   "metadata": {},
   "source": [
    "Получим предсказания модели на тестовой выборке"
   ]
  },
  {
   "cell_type": "code",
   "execution_count": null,
   "id": "8581138f-70dc-4231-9458-e76741f8c28b",
   "metadata": {},
   "outputs": [],
   "source": [
    "l= knn_model.predict(test_x)\n",
    "l\n"
   ]
  },
  {
   "cell_type": "markdown",
   "id": "b43c0cdb-569b-4d25-9b9e-3d2a25a1ade0",
   "metadata": {},
   "source": [
    "Проверим качество модели на основе метрики ROС-AUC"
   ]
  },
  {
   "cell_type": "code",
   "execution_count": null,
   "id": "6c03f3fc-386e-42e8-b426-3e4a983f7b83",
   "metadata": {},
   "outputs": [],
   "source": [
    "from sklearn.metrics import roc_auc_score\n",
    "roc_auc_score(knn_model.predict(test_x), test_y)"
   ]
  },
  {
   "cell_type": "markdown",
   "id": "705213c8-643a-4cb9-8c7a-190306636bdc",
   "metadata": {},
   "source": [
    "Наша модель KNN предсказывает результат с точностью 0.73"
   ]
  },
  {
   "cell_type": "markdown",
   "id": "3952e048-f9e5-43d1-bc85-26740c869da7",
   "metadata": {},
   "source": [
    "Обучим модель логистической регрессии(максимальное количество итераций 300, так как за меньшее количество модель не достигает сходимости)"
   ]
  },
  {
   "cell_type": "code",
   "execution_count": null,
   "id": "18f4b245-f68d-4aa7-8112-04b8fd9887a3",
   "metadata": {},
   "outputs": [],
   "source": [
    "from sklearn.linear_model import LogisticRegression\n",
    "\n",
    "logr_model = LogisticRegression(max_iter=300)\n",
    "logr_model.fit(train_x, train_y)"
   ]
  },
  {
   "cell_type": "markdown",
   "id": "82641df5-77e6-40a2-910a-373369213b5f",
   "metadata": {},
   "source": [
    "Получим предсказания модели на тестовой выборке и проверим качество модели на основе ROC_AUC"
   ]
  },
  {
   "cell_type": "code",
   "execution_count": null,
   "id": "2ecbb5fb-d47a-4c39-b0a4-b791e7a16d94",
   "metadata": {},
   "outputs": [],
   "source": [
    "roc_auc_score(logr_model.predict(test_x), test_y)"
   ]
  },
  {
   "cell_type": "markdown",
   "id": "0b7498ba-8da9-4063-b4d0-991c3d37d7a9",
   "metadata": {},
   "source": [
    "Наша модель Logr предсказывает результат с точностью 0.74"
   ]
  },
  {
   "cell_type": "markdown",
   "id": "1d9d8b5a-9216-4165-af00-2b82075e777d",
   "metadata": {},
   "source": [
    "Обучим модель SVM(SVC - так как задача классификации)"
   ]
  },
  {
   "cell_type": "code",
   "execution_count": null,
   "id": "08a262fd-6bae-4513-b11b-9f60283b572a",
   "metadata": {},
   "outputs": [],
   "source": [
    "from sklearn.svm import LinearSVC\n",
    "\n",
    "svc_model = LinearSVC(penalty='l2', C=0.3) # с регуляризацией результат лучше на 0.001\n",
    "svc_model.fit(train_x, train_y)"
   ]
  },
  {
   "cell_type": "markdown",
   "id": "5df64d6c-8384-42cf-aefd-b1d0942b0f9b",
   "metadata": {},
   "source": [
    "Получим предсказания модели на тестовой выборке и проверим качество модели на основе ROC_AUC"
   ]
  },
  {
   "cell_type": "code",
   "execution_count": null,
   "id": "1981e01e-e811-4552-aad7-ffadc9b2d603",
   "metadata": {},
   "outputs": [],
   "source": [
    "roc_auc_score(svc_model.predict(test_x), test_y)"
   ]
  },
  {
   "cell_type": "markdown",
   "id": "1d5f4170-c611-460b-8da9-9d0b54a0a927",
   "metadata": {},
   "source": [
    "Наша модель SVC предсказывает результат с точостью 0.74(чуть лучше, чем логистическая регрессия)"
   ]
  },
  {
   "cell_type": "code",
   "execution_count": null,
   "id": "21e83bb9-6995-438c-b609-8790269f137a",
   "metadata": {},
   "outputs": [],
   "source": []
  },
  {
   "cell_type": "markdown",
   "id": "7433ec72-30a2-40aa-9c3a-d182125ee699",
   "metadata": {},
   "source": [
    "Обработаем commit-выборку"
   ]
  },
  {
   "cell_type": "code",
   "execution_count": null,
   "id": "4427a42b-eb82-46b4-b046-de3b5a6170f0",
   "metadata": {},
   "outputs": [],
   "source": [
    "check_commit = pd.read_csv(\"test.csv\") #для контрольных предсказаний\n",
    "check_commit.drop(\"TotalSpent\", axis=1, inplace=True)\n",
    "\n",
    "check_commit_encoded = check_commit.copy()\n",
    "\n",
    "for col in categorial_cols:\n",
    "    le = label_encoders[col]\n",
    "    check_commit_encoded[col] = le.transform(check_commit[col])"
   ]
  },
  {
   "cell_type": "markdown",
   "id": "fde43ce0-c358-4c4c-ad85-cb2f80f3a09d",
   "metadata": {},
   "source": [
    "Предскажем значения knn для commit-выборки"
   ]
  },
  {
   "cell_type": "code",
   "execution_count": null,
   "id": "6ef58ed6-abb3-42bb-b3b2-18c9618f4c08",
   "metadata": {},
   "outputs": [],
   "source": [
    "knn_commit_predict = knn_model.predict(check_commit_encoded)\n",
    "\n",
    "submission = pd.DataFrame({'Id': check_commit.index,\n",
    "                           'Churn': knn_commit_predict})\n",
    "\n",
    "submission.to_csv('submission_knn.csv', index=False)\n",
    "\n"
   ]
  },
  {
   "cell_type": "markdown",
   "id": "837d2b7b-3394-4a98-84b3-2924fb1d036a",
   "metadata": {},
   "source": [
    "Предскажем значения logr для commit-выборки"
   ]
  },
  {
   "cell_type": "code",
   "execution_count": null,
   "id": "bafe209c-8f5e-4e87-b425-a5489cb0c44c",
   "metadata": {},
   "outputs": [],
   "source": [
    "logr_commit_predict = logr_model.predict(check_commit_encoded)\n",
    "\n",
    "submission = pd.DataFrame({\"Id\": check_commit.index,\n",
    "                          'Churn':logr_commit_predict})\n",
    "submission.to_csv('submission_logr.csv', index=False)"
   ]
  },
  {
   "cell_type": "markdown",
   "id": "ae40ffda-0d2f-4ae9-ba3f-d27cfa275a3f",
   "metadata": {},
   "source": [
    "Предскажем значения SVC для commit-выборки"
   ]
  },
  {
   "cell_type": "code",
   "execution_count": null,
   "id": "25cdd40f-664c-4a15-bad9-d29b2a01f000",
   "metadata": {},
   "outputs": [],
   "source": [
    "svc_commit_predict = svc_model.predict(check_commit_encoded)\n",
    "\n",
    "submission = pd.DataFrame({\"Id\": check_commit.index,\n",
    "                          'Churn':svc_commit_predict})\n",
    "submission.to_csv('submission_svc.csv', index=False)"
   ]
  },
  {
   "cell_type": "code",
   "execution_count": null,
   "id": "5350a57a-cd7b-4cb6-b563-866c19ab5232",
   "metadata": {},
   "outputs": [],
   "source": []
  },
  {
   "cell_type": "code",
   "execution_count": null,
   "id": "ef339479-2c73-4856-97e4-d5ebe7c710c6",
   "metadata": {},
   "outputs": [],
   "source": []
  }
 ],
 "metadata": {
  "kernelspec": {
   "display_name": "Python 3 (ipykernel)",
   "language": "python",
   "name": "python3"
  },
  "language_info": {
   "codemirror_mode": {
    "name": "ipython",
    "version": 3
   },
   "file_extension": ".py",
   "mimetype": "text/x-python",
   "name": "python",
   "nbconvert_exporter": "python",
   "pygments_lexer": "ipython3",
   "version": "3.11.4"
  }
 },
 "nbformat": 4,
 "nbformat_minor": 5
}
