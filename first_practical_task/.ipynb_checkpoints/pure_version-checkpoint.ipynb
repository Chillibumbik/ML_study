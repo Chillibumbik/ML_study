{
 "cells": [
  {
   "cell_type": "markdown",
   "id": "607b08f3-381e-4bbd-bd79-c863bb260e81",
   "metadata": {},
   "source": [
    "# EDA\n",
    "\n",
    "за основу взял [1 занятие клуба ии в мифи](https://colab.research.google.com/drive/1V__EuSANRpZLZd5dW2H9Pgvxhllfud1x)"
   ]
  },
  {
   "cell_type": "markdown",
   "id": "4417a7cc-f0ec-4a17-8489-f9cb1f9ba6c2",
   "metadata": {},
   "source": [
    "### Загрузим файлы, с которыми будем работать"
   ]
  },
  {
   "cell_type": "code",
   "execution_count": null,
   "id": "ca7410be-77b3-4413-a75c-3f9738cb35f4",
   "metadata": {},
   "outputs": [],
   "source": [
    "import pandas as pd\n",
    "train = pd.read_csv(\"train.csv\")\n",
    "commit = pd.read_csv(\"test.csv\")"
   ]
  },
  {
   "cell_type": "markdown",
   "id": "60c8f21c-c4e3-4d51-9bb9-f428c6730bf7",
   "metadata": {},
   "source": [
    "### Выделим категориальные признаки, численные и целевой признак"
   ]
  },
  {
   "cell_type": "code",
   "execution_count": null,
   "id": "13378687-aa67-491a-b807-05f11c1f9b9e",
   "metadata": {},
   "outputs": [],
   "source": [
    "num_cols = [\n",
    "    \"ClientPeriod\",\n",
    "    \"MonthlySpending\",\n",
    "    \"TotalSpent\",\n",
    "]\n",
    "\n",
    "cat_cols = [\n",
    "    \"Sex\",\n",
    "    \"IsSeniorCitizen\",\n",
    "    \"HasPartner\",\n",
    "    \"HasChild\",\n",
    "    \"HasPhoneService\",\n",
    "    \"HasMultiplePhoneNumbers\",\n",
    "    \"HasInternetService\",\n",
    "    \"HasOnlineSecurityService\",\n",
    "    \"HasOnlineBackup\",\n",
    "    \"HasDeviceProtection\",\n",
    "    \"HasTechSupportAccess\",\n",
    "    \"HasOnlineTV\",\n",
    "    \"HasMovieSubscription\",\n",
    "    \"HasContractPhone\",\n",
    "    \"IsBillingPaperless\",\n",
    "    \"PaymentMethod\",\n",
    "]\n",
    "\n",
    "churn = \"Churn\""
   ]
  },
  {
   "cell_type": "markdown",
   "id": "0bf32f03-c671-42cb-8567-45282a333713",
   "metadata": {},
   "source": [
    "### Проанализируем данные на пустые и некорректные значения"
   ]
  },
  {
   "cell_type": "code",
   "execution_count": null,
   "id": "b2a69010-ea74-44de-ad90-3a9bd29a7ec9",
   "metadata": {},
   "outputs": [],
   "source": [
    "train.info()"
   ]
  },
  {
   "cell_type": "code",
   "execution_count": null,
   "id": "6ac0f5a8-1c9d-4912-8041-b6c8661033e1",
   "metadata": {},
   "outputs": [],
   "source": [
    "commit.info()"
   ]
  },
  {
   "cell_type": "markdown",
   "id": "eee1bb14-054e-4150-9ff0-1a6bc63c5f3a",
   "metadata": {},
   "source": [
    "Заметим, что TotalSpent представлен как object, а IsSeniorCitizen как int. Сделаем замену типов"
   ]
  },
  {
   "cell_type": "markdown",
   "id": "fa7a10e7-0f11-4daa-9d34-fe73764f50bc",
   "metadata": {},
   "source": [
    "Заменим все \" \" на пустые значения"
   ]
  },
  {
   "cell_type": "code",
   "execution_count": null,
   "id": "4651f5c4-8ff5-48a5-ae24-c027ec6b6c3f",
   "metadata": {},
   "outputs": [],
   "source": [
    "import numpy as np\n",
    "\n",
    "train.replace(' ', np.nan, inplace=True)\n",
    "commit.replace(' ', np.nan, inplace=True)"
   ]
  },
  {
   "cell_type": "code",
   "execution_count": null,
   "id": "fb7d2940-9411-4852-833a-a0a37e980f18",
   "metadata": {},
   "outputs": [],
   "source": [
    "%matplotlib inline\n",
    "import matplotlib.pyplot as plt\n",
    "import seaborn as sns\n",
    "\n",
    "# График распределения пропущенных значений\n",
    "plt.figure(figsize=(15,7))\n",
    "\n",
    "cmap = sns.cubehelix_palette(as_cmap=True, light=.9)\n",
    "\n",
    "sns.heatmap(train.isna().transpose(), cmap=cmap,\n",
    "            cbar_kws={'label': 'Missing Data'})"
   ]
  },
  {
   "cell_type": "code",
   "execution_count": null,
   "id": "2c811e11-3e73-46b5-a0cc-0c01f066bad3",
   "metadata": {},
   "outputs": [],
   "source": [
    "print(train.isna().sum())\n",
    "print(commit.isna().sum())"
   ]
  },
  {
   "cell_type": "markdown",
   "id": "4e2ac47b-1db1-47b3-a605-5847fb51bdd5",
   "metadata": {},
   "source": [
    "\n",
    "Как мы видим, пустые значения появились в totalspent. Заменим их на нули"
   ]
  },
  {
   "cell_type": "code",
   "execution_count": null,
   "id": "318120a5-dfff-458c-82ca-0c273ee22d25",
   "metadata": {},
   "outputs": [],
   "source": [
    "train[\"TotalSpent\"] = train[\"TotalSpent\"].replace(np.nan, 0).astype('float')\n",
    "commit[\"TotalSpent\"] = commit[\"TotalSpent\"].replace(np.nan, 0).astype('float')"
   ]
  },
  {
   "cell_type": "code",
   "execution_count": null,
   "id": "001dea10-2610-41d8-9e7c-d812781704da",
   "metadata": {},
   "outputs": [],
   "source": [
    "print(train.info())\n",
    "print(commit.info())"
   ]
  },
  {
   "cell_type": "markdown",
   "id": "8143c959-7a1a-49e3-8070-8f5ddcdfa946",
   "metadata": {},
   "source": [
    "Заменим для IsSeniorCitizen 0 на No, 1 на Yes"
   ]
  },
  {
   "cell_type": "code",
   "execution_count": null,
   "id": "05c8e17f-ab00-46dd-a9d7-8c60e3a543f3",
   "metadata": {
    "scrolled": true
   },
   "outputs": [],
   "source": [
    "train.IsSeniorCitizen = train.IsSeniorCitizen.map(lambda x: \"Yes\" if x == 1 else \"No\")\n",
    "commit.IsSeniorCitizen = commit.IsSeniorCitizen.map(lambda x: \"Yes\" if x == 1 else \"No\")\n",
    "print(set(train.IsSeniorCitizen.to_list()))\n",
    "print(set(commit.IsSeniorCitizen.to_list()))"
   ]
  },
  {
   "cell_type": "markdown",
   "id": "a6fc563c-dbd1-46e0-b4b8-a74ee1e34661",
   "metadata": {},
   "source": [
    "### Анализ числовых признаков"
   ]
  },
  {
   "cell_type": "markdown",
   "id": "4773b705-9860-46a2-bab1-45595dd5e9b5",
   "metadata": {},
   "source": [
    "Распределение признаков"
   ]
  },
  {
   "cell_type": "code",
   "execution_count": null,
   "id": "e90e683d-cab8-49db-bd29-a3ffbef2a2fd",
   "metadata": {},
   "outputs": [],
   "source": [
    "train.describe()"
   ]
  },
  {
   "cell_type": "code",
   "execution_count": null,
   "id": "e30aca14-758c-4540-b580-11aaa04497ba",
   "metadata": {},
   "outputs": [],
   "source": [
    "commit.describe()"
   ]
  },
  {
   "cell_type": "code",
   "execution_count": null,
   "id": "52aae9af-3130-44db-b13a-d93ace452000",
   "metadata": {},
   "outputs": [],
   "source": [
    "train.hist(bins=50)"
   ]
  },
  {
   "cell_type": "code",
   "execution_count": null,
   "id": "318e7029-1a5e-433e-9b22-a1ca4dd31d8f",
   "metadata": {},
   "outputs": [],
   "source": [
    "commit.hist(bins=50)"
   ]
  },
  {
   "cell_type": "markdown",
   "id": "baa446b8-b2fa-493e-bd8b-d0b80e121bb3",
   "metadata": {},
   "source": [
    "Гистограммы схожи, значит данные провдоподобные и сформированны не предвзято"
   ]
  },
  {
   "cell_type": "markdown",
   "id": "2e41e4cc-bd76-4f4f-a495-bf2037eb6901",
   "metadata": {},
   "source": [
    "Попробуем обнаружить взаимосвзязь между численными признаками"
   ]
  },
  {
   "cell_type": "code",
   "execution_count": null,
   "id": "525fe9d3-2d49-42ce-8855-f380467ff51d",
   "metadata": {},
   "outputs": [],
   "source": [
    "sns.pairplot(train[num_cols])"
   ]
  },
  {
   "cell_type": "markdown",
   "id": "ea87074d-68b7-41b3-b3f1-7f68ebf3b058",
   "metadata": {},
   "source": [
    "### Анализ категориальных признаков"
   ]
  },
  {
   "cell_type": "markdown",
   "id": "4c3aea5d-8191-4105-a40c-66c7fa8c4166",
   "metadata": {},
   "source": [
    "Рассмотрим распределение целевой переменной по всем категориальным признакам"
   ]
  },
  {
   "cell_type": "code",
   "execution_count": null,
   "id": "8cea0b3a-0281-4c7d-9006-1d32b78b18e5",
   "metadata": {},
   "outputs": [],
   "source": [
    "nrows, ncols = 4, 4\n",
    "fig, axes = plt.subplots(nrows=nrows, ncols=ncols,  figsize=(12, 12))\n",
    "plt.subplots_adjust(wspace=0.5, hspace=0.5)\n",
    "\n",
    "for i, column_name in enumerate(cat_cols):\n",
    "    row = i // nrows\n",
    "    col = i % ncols\n",
    "    axis = axes[row, col]\n",
    "    chart_title = \"\".join(column_name)\n",
    "    sns.countplot(train, x=column_name, hue=churn, ax=axis)\n",
    "    axis.set_title(chart_title, fontsize=8)\n",
    "    axis.set_xlabel(\"\")\n",
    "    axis.set_ylabel(\"Кол-во клиентов\", fontsize=8)\n",
    "    axis.legend((\"Активные\", \"Ушедшие\"), fontsize=8)\n",
    "    axis.set_xticklabels(axis.get_xticklabels(), rotation=45, fontsize=8)\n"
   ]
  },
  {
   "cell_type": "markdown",
   "id": "f044b5db-46a3-4c05-9e1b-5c77e97129a2",
   "metadata": {},
   "source": [
    "Для обнаружения корреляций между признаками закодируем категориальные признаки методом labelencoding(чтобы за раз закодировать ordinalencoder)"
   ]
  },
  {
   "cell_type": "code",
   "execution_count": null,
   "id": "d005aa1b-77f5-4acd-b18a-4621e2e5494e",
   "metadata": {},
   "outputs": [],
   "source": [
    "from sklearn.preprocessing import OrdinalEncoder\n",
    "\n",
    "oe = OrdinalEncoder()\n",
    "train_label_encoded = train.copy()\n",
    "train_label_encoded[cat_cols] = oe.fit_transform(train_label_encoded[cat_cols])\n",
    "\n",
    "train_label_encoded"
   ]
  },
  {
   "cell_type": "markdown",
   "id": "2f0bf44c-834f-4b20-820c-5507ecdb696a",
   "metadata": {},
   "source": [
    "Построим хитмап для обнаружения корреляций"
   ]
  },
  {
   "cell_type": "code",
   "execution_count": null,
   "id": "cc780b18-83d4-4100-b4bc-299a421f15e0",
   "metadata": {},
   "outputs": [],
   "source": [
    "corr_matrix = train_label_encoded.corr()\n",
    "fig, axes = plt.subplots(figsize=(15, 10))\n",
    "sns.heatmap(data=corr_matrix, annot=True, cmap=\"coolwarm\", ax=axes, linewidth=.5, fmt=\".2f\")\n"
   ]
  },
  {
   "cell_type": "markdown",
   "id": "49a2947f-52c3-4227-8a1c-2583ee8f7dbe",
   "metadata": {},
   "source": [
    "Как мы видим, TotalSpent зависима от ClientPeriod и MonthlySpending, в меньшей степени от HasContractPhone"
   ]
  },
  {
   "cell_type": "markdown",
   "id": "026fe7db-1c16-419d-b957-817274220ef3",
   "metadata": {},
   "source": [
    "Теперь, посмотрим распределение целевого признака "
   ]
  },
  {
   "cell_type": "code",
   "execution_count": null,
   "id": "23375dd1-9fab-40f0-8c06-18dcab7dea24",
   "metadata": {},
   "outputs": [],
   "source": [
    "train[churn].hist()"
   ]
  },
  {
   "cell_type": "markdown",
   "id": "e2737ac5-a20f-4990-8fd0-97cbc0a96604",
   "metadata": {},
   "source": [
    "Как мы видим, тут есть дисбаланс классов. Мы его исправим далее"
   ]
  },
  {
   "cell_type": "markdown",
   "id": "98538e99-e039-4355-b2f2-408669d480fe",
   "metadata": {},
   "source": [
    "# Подготовка данных для обучения"
   ]
  },
  {
   "cell_type": "markdown",
   "id": "70262189-b75c-4e30-8f84-19ae8a0a15cc",
   "metadata": {},
   "source": [
    "### Подготовка классов для пайплайнов"
   ]
  },
  {
   "cell_type": "code",
   "execution_count": null,
   "id": "d469010d-d11b-4a02-bd4a-2e70e0122758",
   "metadata": {},
   "outputs": [],
   "source": [
    "from sklearn.pipeline import Pipeline\n",
    "from sklearn.preprocessing import OneHotEncoder, StandardScaler\n",
    "from sklearn.compose import ColumnTransformer\n",
    "\n",
    "from imblearn.pipeline import Pipeline as Pipeline_imb # чтоб встроить синтетические данные в пайплайн\n",
    "\n",
    "from imblearn.over_sampling import SMOTE\n",
    "\n",
    "#пайп для категориальных признаков\n",
    "categorical_pipe = Pipeline(steps=[('ohe', OneHotEncoder(drop=\"first\", handle_unknown=\"error\"))])\n",
    "\n",
    "#пайп для численных признаков\n",
    "numeric_pipe = Pipeline(steps=[('scaler', StandardScaler())])\n",
    "\n",
    "#трансформер колонок\n",
    "columns_transformer = ColumnTransformer(\n",
    "    transformers=[\n",
    "        (\"categorical\", categorical_pipe, cat_cols),\n",
    "        (\"numeric\", numeric_pipe, num_cols),\n",
    "    ])\n",
    "\n",
    "#пайп для генерации синтетических данных\n",
    "smote_pipe = SMOTE(random_state=42)"
   ]
  },
  {
   "cell_type": "markdown",
   "id": "b6db9925-5432-47b1-baa5-d60c89ad601d",
   "metadata": {},
   "source": [
    "### Подготовим алгоритмы для нахождения лучших гиперпараметров"
   ]
  },
  {
   "cell_type": "code",
   "execution_count": null,
   "id": "4ca3604f-36a7-4180-a63f-d0245196fc9e",
   "metadata": {},
   "outputs": [],
   "source": [
    "from sklearn.model_selection import GridSearchCV, RandomizedSearchCV\n",
    "import optuna\n",
    "\n",
    "from sklearn.metrics import roc_auc_score"
   ]
  },
  {
   "cell_type": "markdown",
   "id": "f8a9d8fe-119a-464c-ab2d-ced8368daa78",
   "metadata": {},
   "source": [
    "### Разделим обучающую выборку на обучающую и контрольную"
   ]
  },
  {
   "cell_type": "code",
   "execution_count": null,
   "id": "a255147d-7124-474e-bd05-f52b3438eafd",
   "metadata": {},
   "outputs": [],
   "source": [
    "from sklearn.model_selection import train_test_split\n",
    "\n",
    "train_x, test_x, train_y, test_y = train_test_split(train.drop(columns=churn), train[churn], test_size=0.2, shuffle=False)\n",
    "train_x"
   ]
  },
  {
   "cell_type": "markdown",
   "id": "43fe4ce8-5184-4ca2-b840-8741dbeec4ba",
   "metadata": {},
   "source": [
    "# Обучение моделей\n",
    "Обучать будем catboost, xgboost, logisticregression так как они показали наилучший результат в ноутбуке classif. Реализацию других моделей можно будет посмотреть там"
   ]
  },
  {
   "cell_type": "markdown",
   "id": "36f31e36-5c7e-4fbd-9366-1ff9c1bf1e9b",
   "metadata": {},
   "source": [
    "### Логистическая регрессия"
   ]
  },
  {
   "cell_type": "markdown",
   "id": "e3af1b24-7b71-4fb0-8aae-6c2bf8769db8",
   "metadata": {},
   "source": [
    "##### Обучение логистической регрессии"
   ]
  },
  {
   "cell_type": "code",
   "execution_count": null,
   "id": "5fc8b975-9f27-4056-a8b4-430f3cf3b535",
   "metadata": {},
   "outputs": [],
   "source": [
    "# from sklearn.linear_model import LogisticRegression\n",
    "# from sklearn.model_selection import GridSearchCV\n",
    "# from imblearn.pipeline import Pipeline as Pipeline_imb\n",
    "\n",
    "\n",
    "# lr_pipe = Pipeline_imb([\n",
    "#     ('preproc', columns_transformer),\n",
    "#     ('smote', smote_pipe),\n",
    "#     ('model', LogisticRegression())\n",
    "# ])\n",
    "\n",
    "# # пространство гиперпараметров\n",
    "# lr_params_grid = {\n",
    "#     \"model__C\": [i/10 for i in range(1, 20)],\n",
    "#     \"model__penalty\": [\"l2\"],\n",
    "#     \"model__solver\": [\"saga\"],\n",
    "#     \"model__max_iter\": [i for i in range(100, 1000, 100)]\n",
    "# }\n",
    "\n",
    "# lr_grid_search = GridSearchCV(\n",
    "#     estimator=lr_pipe,\n",
    "#     param_grid=lr_params_grid,\n",
    "#     scoring=\"roc_auc\",\n",
    "#     n_jobs=-1,\n",
    "#     cv=5,\n",
    "#     refit=True\n",
    "# )\n",
    "\n",
    "# lr_model = lr_grid_search.fit(train_x, train_y)\n",
    "# print(\"Лучшие параметры:\", lr_grid_search.best_params_)\n"
   ]
  },
  {
   "cell_type": "code",
   "execution_count": null,
   "id": "a78e16e8-60af-4386-a7e8-f84b3611ad31",
   "metadata": {},
   "outputs": [],
   "source": [
    "from sklearn.linear_model import LogisticRegression\n",
    "from imblearn.pipeline import Pipeline as Pipeline_imb\n",
    "\n",
    "\n",
    "lr_pipe = Pipeline_imb([\n",
    "    ('preproc', columns_transformer),\n",
    "    ('smote', smote_pipe),\n",
    "    ('model', LogisticRegression(C=0.1, max_iter=400, penalty='l2', solver='saga'))\n",
    "])\n",
    "\n",
    "lr_model = lr_pipe.fit(train_x, train_y)\n"
   ]
  },
  {
   "cell_type": "code",
   "execution_count": null,
   "id": "2436e472-8f63-48a7-9fd7-8fd74baa8f0c",
   "metadata": {},
   "outputs": [],
   "source": [
    "roc_auc_score(test_y, lr_model.predict(test_x))\n"
   ]
  },
  {
   "cell_type": "markdown",
   "id": "0c9590d0-fefd-44ed-8a3b-61deb6906d81",
   "metadata": {},
   "source": [
    "Как мы видим, при наборе параметров {'model__C': 0.1, 'model__max_iter': 400, 'model__penalty': 'l2', 'model__solver': 'saga'}\n",
    "\n",
    "Результат 0.758"
   ]
  },
  {
   "cell_type": "markdown",
   "id": "84b5cc92-5bea-4b55-ae7c-019f6f1639b7",
   "metadata": {},
   "source": [
    "##### Матрица ошибок"
   ]
  },
  {
   "cell_type": "code",
   "execution_count": null,
   "id": "0f37e1af-e6ae-4b97-bd61-2180e46f3b28",
   "metadata": {},
   "outputs": [],
   "source": [
    "import seaborn as sns\n",
    "from sklearn.metrics import confusion_matrix"
   ]
  },
  {
   "cell_type": "code",
   "execution_count": null,
   "id": "b14f6020-7647-466b-b336-0b7c63b6c009",
   "metadata": {},
   "outputs": [],
   "source": [
    "cm_lr = confusion_matrix(test_y ,lr_model.predict(test_x))\n",
    "sns.heatmap(cm_lr, annot=True, fmt='d')\n",
    "plt.title(\"cm logr\")\n",
    "plt.xlabel('prediction')\n",
    "plt.ylabel('true values')"
   ]
  },
  {
   "cell_type": "markdown",
   "id": "44c55904-5bb0-4a9c-a798-5b201b04b543",
   "metadata": {},
   "source": [
    "### CatBoost"
   ]
  },
  {
   "cell_type": "markdown",
   "id": "40d26e01-fa15-42a2-bf62-4001bbbab24c",
   "metadata": {},
   "source": [
    "##### Обучение catboost(использую random search)"
   ]
  },
  {
   "cell_type": "code",
   "execution_count": null,
   "id": "cac55f60-5127-462e-89b9-d5372168fcc0",
   "metadata": {},
   "outputs": [],
   "source": [
    "from catboost import CatBoostClassifier\n",
    "\n",
    "cat_features = train_x.select_dtypes(include=[\"object\", \"category\"]).columns.tolist()\n",
    "\n",
    "cb_params_rand = {\"depth\": [i for i in range(2, 6)], \n",
    "                        \"l2_leaf_reg\": [i/10 for i in range(1, 16)], \n",
    "                        \"subsample\": [i for i in range(1, 10)], \n",
    "                        \"n_estimators\": [i for i in range(1, 500, 10)], \n",
    "                        \"learning_rate\": [i/100 for i in range(1, 100, 10)], \n",
    "                       }\n",
    "\n",
    "cb_model = CatBoostClassifier(\n",
    "    cat_features=cat_features,\n",
    "    logging_level=\"Silent\",\n",
    "    random_seed=42,\n",
    "    early_stopping_rounds=50,\n",
    "    )\n",
    "\n",
    "cb_model.random_search(cb_params_rand, train_x, train_y, cv=5, plot=True, refit=Trueб iterations=30, verbose=True)\n",
    "\n",
    "# cb_pipe = Pipeline_imb([\n",
    "#     ('preproc', columns_transformer),\n",
    "#     ('smote', smote_pipe),\n",
    "#     ('model', cb_model)\n",
    "# ])\n",
    "\n",
    "# cb_rand_search = RandomizedSearchCV(\n",
    "#     estimator=cb_pipe,\n",
    "#     param_distributions=cb_params_rand,\n",
    "#     n_iter=30,\n",
    "#     scoring='roc_auc',\n",
    "#     cv=5,\n",
    "#     n_jobs=-1,\n",
    "#     random_state=42,\n",
    "#     refit=True\n",
    "# )\n",
    "\n",
    "\n",
    "# cb_model = cb_rand_search.fit(train_x, train_y)\n",
    "# print(\"Лучшие параметры:\", cb_rand_search.best_params_)\n",
    "\n",
    "print(f\"  Лучший результат: {cb_model.best_score_['learn']['AUC']}\")\n",
    "print(f\"  Лучший набор гиперпараметров: {cb_model.get_params()}\")"
   ]
  },
  {
   "cell_type": "code",
   "execution_count": null,
   "id": "4eabedb5-869d-4112-a1a4-81e2939a0676",
   "metadata": {},
   "outputs": [],
   "source": [
    "roc_auc_score(test_y, cb_model.predict(test_x)"
   ]
  },
  {
   "cell_type": "markdown",
   "id": "81c599c8-6376-4a70-a6a5-6e38129fddc1",
   "metadata": {},
   "source": [
    "Как мы видим, при наборе параметров\n",
    "\n",
    "Результат"
   ]
  },
  {
   "cell_type": "markdown",
   "id": "038107aa-5624-4425-89db-8e0f275e4aa1",
   "metadata": {},
   "source": [
    "##### Матрица ошибок"
   ]
  },
  {
   "cell_type": "code",
   "execution_count": null,
   "id": "c8fcab41-974c-43ba-a2af-9910ed357126",
   "metadata": {},
   "outputs": [],
   "source": [
    "cm_cb = confusion_matrix(test_y ,cb_model.predict(test_x))\n",
    "sns.heatmap(cm_cb, annot=True, fmt='d')\n",
    "plt.title(\"cm cb\")\n",
    "plt.xlabel('prediction')\n",
    "plt.ylabel('true values')"
   ]
  },
  {
   "cell_type": "markdown",
   "id": "b72f5ad5-2fcb-452b-a0c0-3f77cffb341d",
   "metadata": {},
   "source": [
    "### XGBoost"
   ]
  },
  {
   "cell_type": "markdown",
   "id": "1f6af067-4251-4e47-ab9a-9de099168f8a",
   "metadata": {},
   "source": [
    "Обучение XGBoost(используем optuna)"
   ]
  },
  {
   "cell_type": "code",
   "execution_count": null,
   "id": "c3697a06-19c3-4e35-9a86-1b481acddf96",
   "metadata": {},
   "outputs": [],
   "source": []
  },
  {
   "cell_type": "code",
   "execution_count": null,
   "id": "4c046059-2528-427d-b9bb-8abdf76f1c3c",
   "metadata": {},
   "outputs": [],
   "source": []
  },
  {
   "cell_type": "markdown",
   "id": "36ee7921-4c53-4d46-8f17-79110a131c41",
   "metadata": {},
   "source": [
    "Как мы видим, при наборе параметров\n",
    "\n",
    "Результат"
   ]
  },
  {
   "cell_type": "markdown",
   "id": "5f0185a4-9907-48fc-929c-a94ec040878f",
   "metadata": {},
   "source": [
    "### Матрица ошибок"
   ]
  },
  {
   "cell_type": "code",
   "execution_count": null,
   "id": "2103fb3f-70b7-4a56-a230-37597283cb4c",
   "metadata": {},
   "outputs": [],
   "source": [
    "cm_xgb = confusion_matrix(test_y ,xgb_model.predict(test_x))\n",
    "sns.heatmap(cm_xgb, annot=True, fmt='d')\n",
    "plt.title(\"cm xgb\")\n",
    "plt.xlabel('prediction')\n",
    "plt.ylabel('true values')"
   ]
  }
 ],
 "metadata": {
  "kernelspec": {
   "display_name": "Python 3 (ipykernel)",
   "language": "python",
   "name": "python3"
  },
  "language_info": {
   "codemirror_mode": {
    "name": "ipython",
    "version": 3
   },
   "file_extension": ".py",
   "mimetype": "text/x-python",
   "name": "python",
   "nbconvert_exporter": "python",
   "pygments_lexer": "ipython3",
   "version": "3.11.4"
  }
 },
 "nbformat": 4,
 "nbformat_minor": 5
}
