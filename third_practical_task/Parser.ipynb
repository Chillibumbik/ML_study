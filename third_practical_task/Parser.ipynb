{
 "cells": [
  {
   "cell_type": "markdown",
   "id": "f2839a7f-0413-4435-ae40-c05b4aa38682",
   "metadata": {},
   "source": [
    "# Парсинг pdf с помощью LangChain"
   ]
  },
  {
   "cell_type": "code",
   "execution_count": 10,
   "id": "2ae9c461-ed8e-4594-a4e6-f73e50cc8958",
   "metadata": {},
   "outputs": [],
   "source": [
    "from langchain_community.document_loaders import UnstructuredPDFLoader\n",
    "from langchain.text_splitter import RecursiveCharacterTextSplitter\n",
    "from pathlib import Path"
   ]
  },
  {
   "cell_type": "code",
   "execution_count": 60,
   "id": "45c315fd-0b66-49b4-bbdc-df40609759e4",
   "metadata": {},
   "outputs": [],
   "source": [
    "from langchain.schema import Document\n",
    "\n",
    "def parse_pdf(pdf_path: str | Path, include_page_breaks: bool = False, mode: str = 'single') -> list[Document] | None: \n",
    "    pdf_path = Path(pdf_path)\n",
    "    \n",
    "    try:\n",
    "        loader = UnstructuredPDFLoader(\n",
    "            pdf_path.as_posix(),\n",
    "            mode=mode, # чтобы возвращалось как один объект\n",
    "            strategy='auto', # чтобы и сканы и обычные пдф читать\n",
    "            languages=['rus', 'eng'],\n",
    "            include_page_breaks=include_page_breaks # склейка страниц\n",
    "        )\n",
    "    \n",
    "        docs = loader.load()\n",
    "    \n",
    "        for d in docs: # добавляем в метаданные имя файла\n",
    "            d.metadata[\"source\"] = pdf_path.name\n",
    "            d.metadata[\"source_path\"] = str(pdf_path)\n",
    "    \n",
    "        return docs\n",
    "        \n",
    "    except Exception as e:\n",
    "        \n",
    "        print(f'{pdf_path} ParseError: {e}')\n",
    "        \n",
    "        return None"
   ]
  },
  {
   "cell_type": "code",
   "execution_count": 61,
   "id": "36e8f840-9ffc-4f34-81d3-a3a49ab5c263",
   "metadata": {},
   "outputs": [],
   "source": [
    "def parse_pdfs_in_dir(\n",
    "    dir_path: str | Path,\n",
    "    recursive: bool = True,\n",
    "    **kwargs,\n",
    ") -> List[Document] | None:\n",
    "    dir_path = Path(dir_path)\n",
    "    \n",
    "    pattern = \"**/*.pdf\" if recursive else \"*.pdf\"\n",
    "    \n",
    "    out: List[Document] = []\n",
    "    \n",
    "    for pdf in dir_path.glob(pattern):\n",
    "        docs = parse_pdf(pdf, **kwargs)\n",
    "        if docs:\n",
    "            out.extend(docs)\n",
    "\n",
    "    \n",
    "    return out if out else print(f\"Incorrect Path: {dir_path}\")"
   ]
  },
  {
   "cell_type": "code",
   "execution_count": null,
   "id": "66cd19af-3c40-43ad-98fd-a5d4a748f033",
   "metadata": {},
   "outputs": [],
   "source": []
  }
 ],
 "metadata": {
  "kernelspec": {
   "display_name": "Python 3 (ipykernel)",
   "language": "python",
   "name": "python3"
  },
  "language_info": {
   "codemirror_mode": {
    "name": "ipython",
    "version": 3
   },
   "file_extension": ".py",
   "mimetype": "text/x-python",
   "name": "python",
   "nbconvert_exporter": "python",
   "pygments_lexer": "ipython3",
   "version": "3.11.4"
  }
 },
 "nbformat": 4,
 "nbformat_minor": 5
}
