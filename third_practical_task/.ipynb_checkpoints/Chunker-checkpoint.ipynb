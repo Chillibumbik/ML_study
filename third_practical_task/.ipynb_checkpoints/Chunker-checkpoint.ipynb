{
 "cells": [
  {
   "cell_type": "markdown",
   "id": "4a40a49f-0043-452a-b8d2-64e201a27d03",
   "metadata": {},
   "source": [
    "# Чанкирование с помощью LangChain"
   ]
  },
  {
   "cell_type": "code",
   "execution_count": 18,
   "id": "5266f7e4-7922-40f7-8da1-e2493ff71f3b",
   "metadata": {},
   "outputs": [],
   "source": [
    "from langchain.text_splitter import RecursiveCharacterTextSplitter\n",
    "from langchain.schema import Document"
   ]
  },
  {
   "cell_type": "code",
   "execution_count": 43,
   "id": "041d5caa-e18d-4491-9c8e-51f887fd1b35",
   "metadata": {},
   "outputs": [],
   "source": [
    "def make_chunks_from_document(doc: Document) -> list[Document]:\n",
    "    try:\n",
    "        splitter = RecursiveCharacterTextSplitter(separators=[\"\\n\\n\", \"\\n\", \". \", \" \", \"\", \"?\", \"!\"],\n",
    "                                                  chunk_size=500,\n",
    "                                                  chunk_overlap=50)\n",
    "                                                 \n",
    "        chunks = splitter.split_documents(doc)\n",
    "                                                  \n",
    "        return chunks\n",
    "\n",
    "    except Exception as e:\n",
    "        print(f\"Couldn't extract the chucks: {e}\")\n",
    "        return None"
   ]
  },
  {
   "cell_type": "code",
   "execution_count": null,
   "id": "a17cac80-2978-40d6-8bd3-aa15fc391108",
   "metadata": {},
   "outputs": [],
   "source": []
  }
 ],
 "metadata": {
  "kernelspec": {
   "display_name": "Python 3 (ipykernel)",
   "language": "python",
   "name": "python3"
  },
  "language_info": {
   "codemirror_mode": {
    "name": "ipython",
    "version": 3
   },
   "file_extension": ".py",
   "mimetype": "text/x-python",
   "name": "python",
   "nbconvert_exporter": "python",
   "pygments_lexer": "ipython3",
   "version": "3.11.4"
  }
 },
 "nbformat": 4,
 "nbformat_minor": 5
}
