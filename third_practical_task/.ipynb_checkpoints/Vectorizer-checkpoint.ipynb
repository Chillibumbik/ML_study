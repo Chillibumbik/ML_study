{
 "cells": [
  {
   "cell_type": "markdown",
   "id": "88aaf277-8f61-4d1f-8b63-61b71acb924b",
   "metadata": {},
   "source": [
    "# Векторизация чанков "
   ]
  },
  {
   "cell_type": "code",
   "execution_count": 1,
   "id": "6b476a3a-6aa1-47b9-be6e-8ecd4ee91217",
   "metadata": {},
   "outputs": [],
   "source": [
    "from langchain_community.embeddings import HuggingFaceEmbeddings\n",
    "from langchain.schema import Document"
   ]
  },
  {
   "cell_type": "code",
   "execution_count": 7,
   "id": "65433128-1dc5-49ae-8b0d-47130e4ab937",
   "metadata": {},
   "outputs": [
    {
     "data": {
      "application/vnd.jupyter.widget-view+json": {
       "model_id": "c2b23d0e67a647ba8059c7a49d701886",
       "version_major": 2,
       "version_minor": 0
      },
      "text/plain": [
       "model.safetensors:  52%|#####1    | 1.17G/2.27G [00:00<?, ?B/s]"
      ]
     },
     "metadata": {},
     "output_type": "display_data"
    }
   ],
   "source": [
    "embedding_model = HuggingFaceEmbeddings(\n",
    "    model_name=\"BAAI/bge-m3\",\n",
    "    model_kwargs={'device': 'cuda'},\n",
    "    encode_kwargs={'normalize_embeddings': True}\n",
    ")"
   ]
  },
  {
   "cell_type": "code",
   "execution_count": 6,
   "id": "75c98b04-fb6a-443a-9045-9788e8b8079d",
   "metadata": {},
   "outputs": [],
   "source": [
    "def vectorizer(chunks: list[Document]) -> list[list[float]]:\n",
    "\n",
    "    chunks_text = [chunk.page_content for chunk in chunks]\n",
    "    \n",
    "    embeddings = embedding_model.embed_documents(chunks_text)\n",
    "\n",
    "    return embeddings\n",
    "    "
   ]
  },
  {
   "cell_type": "code",
   "execution_count": null,
   "id": "5386d0ee-50aa-46fd-a3fa-b54c874340b6",
   "metadata": {},
   "outputs": [],
   "source": []
  }
 ],
 "metadata": {
  "kernelspec": {
   "display_name": "Python 3 (ipykernel)",
   "language": "python",
   "name": "python3"
  },
  "language_info": {
   "codemirror_mode": {
    "name": "ipython",
    "version": 3
   },
   "file_extension": ".py",
   "mimetype": "text/x-python",
   "name": "python",
   "nbconvert_exporter": "python",
   "pygments_lexer": "ipython3",
   "version": "3.11.4"
  }
 },
 "nbformat": 4,
 "nbformat_minor": 5
}
